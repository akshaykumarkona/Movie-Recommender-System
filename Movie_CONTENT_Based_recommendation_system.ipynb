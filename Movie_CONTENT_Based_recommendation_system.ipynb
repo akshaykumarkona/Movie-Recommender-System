{
 "cells": [
  {
   "cell_type": "markdown",
   "id": "1ca4a351",
   "metadata": {
    "id": "1ca4a351"
   },
   "source": [
    "# THIS IS A CONTENT BASED MOVIE RECOMMENDER SYSTEM"
   ]
  },
  {
   "cell_type": "code",
   "execution_count": 2,
   "id": "tEWjrwMBJ7Qd",
   "metadata": {
    "colab": {
     "base_uri": "https://localhost:8080/"
    },
    "executionInfo": {
     "elapsed": 159923,
     "status": "ok",
     "timestamp": 1707833720073,
     "user": {
      "displayName": "Akshay Kumar Kona",
      "userId": "06952112589146711744"
     },
     "user_tz": -330
    },
    "id": "tEWjrwMBJ7Qd",
    "outputId": "7d9ec941-693d-464a-ffa2-d39c7c9f4965"
   },
   "outputs": [],
   "source": [
    "# from google.colab import drive\n",
    "# drive.mount('/content/drive')"
   ]
  },
  {
   "cell_type": "code",
   "execution_count": 3,
   "id": "75452837",
   "metadata": {
    "id": "75452837"
   },
   "outputs": [],
   "source": [
    "import numpy as np\n",
    "import pandas as pd\n",
    "import matplotlib.pyplot as plt\n",
    "import seaborn as sns"
   ]
  },
  {
   "cell_type": "code",
   "execution_count": 4,
   "id": "6d28e60b",
   "metadata": {
    "id": "6d28e60b"
   },
   "outputs": [],
   "source": [
    "mov=pd.read_csv('tmdb_5000_movies.csv')\n",
    "cred=pd.read_csv('tmdb_5000_credits.csv')"
   ]
  },
  {
   "cell_type": "code",
   "execution_count": 5,
   "id": "4a4f9dd6",
   "metadata": {
    "colab": {
     "base_uri": "https://localhost:8080/",
     "height": 729
    },
    "executionInfo": {
     "elapsed": 93,
     "status": "ok",
     "timestamp": 1707833724344,
     "user": {
      "displayName": "Akshay Kumar Kona",
      "userId": "06952112589146711744"
     },
     "user_tz": -330
    },
    "id": "4a4f9dd6",
    "outputId": "088e73e0-1d92-487c-e03b-80142da4af56"
   },
   "outputs": [
    {
     "data": {
      "text/html": [
       "<div>\n",
       "<style scoped>\n",
       "    .dataframe tbody tr th:only-of-type {\n",
       "        vertical-align: middle;\n",
       "    }\n",
       "\n",
       "    .dataframe tbody tr th {\n",
       "        vertical-align: top;\n",
       "    }\n",
       "\n",
       "    .dataframe thead th {\n",
       "        text-align: right;\n",
       "    }\n",
       "</style>\n",
       "<table border=\"1\" class=\"dataframe\">\n",
       "  <thead>\n",
       "    <tr style=\"text-align: right;\">\n",
       "      <th></th>\n",
       "      <th>budget</th>\n",
       "      <th>genres</th>\n",
       "      <th>homepage</th>\n",
       "      <th>id</th>\n",
       "      <th>keywords</th>\n",
       "      <th>original_language</th>\n",
       "      <th>original_title</th>\n",
       "      <th>overview</th>\n",
       "      <th>popularity</th>\n",
       "      <th>production_companies</th>\n",
       "      <th>production_countries</th>\n",
       "      <th>release_date</th>\n",
       "      <th>revenue</th>\n",
       "      <th>runtime</th>\n",
       "      <th>spoken_languages</th>\n",
       "      <th>status</th>\n",
       "      <th>tagline</th>\n",
       "      <th>title</th>\n",
       "      <th>vote_average</th>\n",
       "      <th>vote_count</th>\n",
       "    </tr>\n",
       "  </thead>\n",
       "  <tbody>\n",
       "    <tr>\n",
       "      <th>0</th>\n",
       "      <td>237000000</td>\n",
       "      <td>[{\"id\": 28, \"name\": \"Action\"}, {\"id\": 12, \"nam...</td>\n",
       "      <td>http://www.avatarmovie.com/</td>\n",
       "      <td>19995</td>\n",
       "      <td>[{\"id\": 1463, \"name\": \"culture clash\"}, {\"id\":...</td>\n",
       "      <td>en</td>\n",
       "      <td>Avatar</td>\n",
       "      <td>In the 22nd century, a paraplegic Marine is di...</td>\n",
       "      <td>150.437577</td>\n",
       "      <td>[{\"name\": \"Ingenious Film Partners\", \"id\": 289...</td>\n",
       "      <td>[{\"iso_3166_1\": \"US\", \"name\": \"United States o...</td>\n",
       "      <td>2009-12-10</td>\n",
       "      <td>2787965087</td>\n",
       "      <td>162.0</td>\n",
       "      <td>[{\"iso_639_1\": \"en\", \"name\": \"English\"}, {\"iso...</td>\n",
       "      <td>Released</td>\n",
       "      <td>Enter the World of Pandora.</td>\n",
       "      <td>Avatar</td>\n",
       "      <td>7.2</td>\n",
       "      <td>11800</td>\n",
       "    </tr>\n",
       "    <tr>\n",
       "      <th>1</th>\n",
       "      <td>300000000</td>\n",
       "      <td>[{\"id\": 12, \"name\": \"Adventure\"}, {\"id\": 14, \"...</td>\n",
       "      <td>http://disney.go.com/disneypictures/pirates/</td>\n",
       "      <td>285</td>\n",
       "      <td>[{\"id\": 270, \"name\": \"ocean\"}, {\"id\": 726, \"na...</td>\n",
       "      <td>en</td>\n",
       "      <td>Pirates of the Caribbean: At World's End</td>\n",
       "      <td>Captain Barbossa, long believed to be dead, ha...</td>\n",
       "      <td>139.082615</td>\n",
       "      <td>[{\"name\": \"Walt Disney Pictures\", \"id\": 2}, {\"...</td>\n",
       "      <td>[{\"iso_3166_1\": \"US\", \"name\": \"United States o...</td>\n",
       "      <td>2007-05-19</td>\n",
       "      <td>961000000</td>\n",
       "      <td>169.0</td>\n",
       "      <td>[{\"iso_639_1\": \"en\", \"name\": \"English\"}]</td>\n",
       "      <td>Released</td>\n",
       "      <td>At the end of the world, the adventure begins.</td>\n",
       "      <td>Pirates of the Caribbean: At World's End</td>\n",
       "      <td>6.9</td>\n",
       "      <td>4500</td>\n",
       "    </tr>\n",
       "    <tr>\n",
       "      <th>2</th>\n",
       "      <td>245000000</td>\n",
       "      <td>[{\"id\": 28, \"name\": \"Action\"}, {\"id\": 12, \"nam...</td>\n",
       "      <td>http://www.sonypictures.com/movies/spectre/</td>\n",
       "      <td>206647</td>\n",
       "      <td>[{\"id\": 470, \"name\": \"spy\"}, {\"id\": 818, \"name...</td>\n",
       "      <td>en</td>\n",
       "      <td>Spectre</td>\n",
       "      <td>A cryptic message from Bond’s past sends him o...</td>\n",
       "      <td>107.376788</td>\n",
       "      <td>[{\"name\": \"Columbia Pictures\", \"id\": 5}, {\"nam...</td>\n",
       "      <td>[{\"iso_3166_1\": \"GB\", \"name\": \"United Kingdom\"...</td>\n",
       "      <td>2015-10-26</td>\n",
       "      <td>880674609</td>\n",
       "      <td>148.0</td>\n",
       "      <td>[{\"iso_639_1\": \"fr\", \"name\": \"Fran\\u00e7ais\"},...</td>\n",
       "      <td>Released</td>\n",
       "      <td>A Plan No One Escapes</td>\n",
       "      <td>Spectre</td>\n",
       "      <td>6.3</td>\n",
       "      <td>4466</td>\n",
       "    </tr>\n",
       "    <tr>\n",
       "      <th>3</th>\n",
       "      <td>250000000</td>\n",
       "      <td>[{\"id\": 28, \"name\": \"Action\"}, {\"id\": 80, \"nam...</td>\n",
       "      <td>http://www.thedarkknightrises.com/</td>\n",
       "      <td>49026</td>\n",
       "      <td>[{\"id\": 849, \"name\": \"dc comics\"}, {\"id\": 853,...</td>\n",
       "      <td>en</td>\n",
       "      <td>The Dark Knight Rises</td>\n",
       "      <td>Following the death of District Attorney Harve...</td>\n",
       "      <td>112.312950</td>\n",
       "      <td>[{\"name\": \"Legendary Pictures\", \"id\": 923}, {\"...</td>\n",
       "      <td>[{\"iso_3166_1\": \"US\", \"name\": \"United States o...</td>\n",
       "      <td>2012-07-16</td>\n",
       "      <td>1084939099</td>\n",
       "      <td>165.0</td>\n",
       "      <td>[{\"iso_639_1\": \"en\", \"name\": \"English\"}]</td>\n",
       "      <td>Released</td>\n",
       "      <td>The Legend Ends</td>\n",
       "      <td>The Dark Knight Rises</td>\n",
       "      <td>7.6</td>\n",
       "      <td>9106</td>\n",
       "    </tr>\n",
       "    <tr>\n",
       "      <th>4</th>\n",
       "      <td>260000000</td>\n",
       "      <td>[{\"id\": 28, \"name\": \"Action\"}, {\"id\": 12, \"nam...</td>\n",
       "      <td>http://movies.disney.com/john-carter</td>\n",
       "      <td>49529</td>\n",
       "      <td>[{\"id\": 818, \"name\": \"based on novel\"}, {\"id\":...</td>\n",
       "      <td>en</td>\n",
       "      <td>John Carter</td>\n",
       "      <td>John Carter is a war-weary, former military ca...</td>\n",
       "      <td>43.926995</td>\n",
       "      <td>[{\"name\": \"Walt Disney Pictures\", \"id\": 2}]</td>\n",
       "      <td>[{\"iso_3166_1\": \"US\", \"name\": \"United States o...</td>\n",
       "      <td>2012-03-07</td>\n",
       "      <td>284139100</td>\n",
       "      <td>132.0</td>\n",
       "      <td>[{\"iso_639_1\": \"en\", \"name\": \"English\"}]</td>\n",
       "      <td>Released</td>\n",
       "      <td>Lost in our world, found in another.</td>\n",
       "      <td>John Carter</td>\n",
       "      <td>6.1</td>\n",
       "      <td>2124</td>\n",
       "    </tr>\n",
       "  </tbody>\n",
       "</table>\n",
       "</div>"
      ],
      "text/plain": [
       "      budget                                             genres  \\\n",
       "0  237000000  [{\"id\": 28, \"name\": \"Action\"}, {\"id\": 12, \"nam...   \n",
       "1  300000000  [{\"id\": 12, \"name\": \"Adventure\"}, {\"id\": 14, \"...   \n",
       "2  245000000  [{\"id\": 28, \"name\": \"Action\"}, {\"id\": 12, \"nam...   \n",
       "3  250000000  [{\"id\": 28, \"name\": \"Action\"}, {\"id\": 80, \"nam...   \n",
       "4  260000000  [{\"id\": 28, \"name\": \"Action\"}, {\"id\": 12, \"nam...   \n",
       "\n",
       "                                       homepage      id  \\\n",
       "0                   http://www.avatarmovie.com/   19995   \n",
       "1  http://disney.go.com/disneypictures/pirates/     285   \n",
       "2   http://www.sonypictures.com/movies/spectre/  206647   \n",
       "3            http://www.thedarkknightrises.com/   49026   \n",
       "4          http://movies.disney.com/john-carter   49529   \n",
       "\n",
       "                                            keywords original_language  \\\n",
       "0  [{\"id\": 1463, \"name\": \"culture clash\"}, {\"id\":...                en   \n",
       "1  [{\"id\": 270, \"name\": \"ocean\"}, {\"id\": 726, \"na...                en   \n",
       "2  [{\"id\": 470, \"name\": \"spy\"}, {\"id\": 818, \"name...                en   \n",
       "3  [{\"id\": 849, \"name\": \"dc comics\"}, {\"id\": 853,...                en   \n",
       "4  [{\"id\": 818, \"name\": \"based on novel\"}, {\"id\":...                en   \n",
       "\n",
       "                             original_title  \\\n",
       "0                                    Avatar   \n",
       "1  Pirates of the Caribbean: At World's End   \n",
       "2                                   Spectre   \n",
       "3                     The Dark Knight Rises   \n",
       "4                               John Carter   \n",
       "\n",
       "                                            overview  popularity  \\\n",
       "0  In the 22nd century, a paraplegic Marine is di...  150.437577   \n",
       "1  Captain Barbossa, long believed to be dead, ha...  139.082615   \n",
       "2  A cryptic message from Bond’s past sends him o...  107.376788   \n",
       "3  Following the death of District Attorney Harve...  112.312950   \n",
       "4  John Carter is a war-weary, former military ca...   43.926995   \n",
       "\n",
       "                                production_companies  \\\n",
       "0  [{\"name\": \"Ingenious Film Partners\", \"id\": 289...   \n",
       "1  [{\"name\": \"Walt Disney Pictures\", \"id\": 2}, {\"...   \n",
       "2  [{\"name\": \"Columbia Pictures\", \"id\": 5}, {\"nam...   \n",
       "3  [{\"name\": \"Legendary Pictures\", \"id\": 923}, {\"...   \n",
       "4        [{\"name\": \"Walt Disney Pictures\", \"id\": 2}]   \n",
       "\n",
       "                                production_countries release_date     revenue  \\\n",
       "0  [{\"iso_3166_1\": \"US\", \"name\": \"United States o...   2009-12-10  2787965087   \n",
       "1  [{\"iso_3166_1\": \"US\", \"name\": \"United States o...   2007-05-19   961000000   \n",
       "2  [{\"iso_3166_1\": \"GB\", \"name\": \"United Kingdom\"...   2015-10-26   880674609   \n",
       "3  [{\"iso_3166_1\": \"US\", \"name\": \"United States o...   2012-07-16  1084939099   \n",
       "4  [{\"iso_3166_1\": \"US\", \"name\": \"United States o...   2012-03-07   284139100   \n",
       "\n",
       "   runtime                                   spoken_languages    status  \\\n",
       "0    162.0  [{\"iso_639_1\": \"en\", \"name\": \"English\"}, {\"iso...  Released   \n",
       "1    169.0           [{\"iso_639_1\": \"en\", \"name\": \"English\"}]  Released   \n",
       "2    148.0  [{\"iso_639_1\": \"fr\", \"name\": \"Fran\\u00e7ais\"},...  Released   \n",
       "3    165.0           [{\"iso_639_1\": \"en\", \"name\": \"English\"}]  Released   \n",
       "4    132.0           [{\"iso_639_1\": \"en\", \"name\": \"English\"}]  Released   \n",
       "\n",
       "                                          tagline  \\\n",
       "0                     Enter the World of Pandora.   \n",
       "1  At the end of the world, the adventure begins.   \n",
       "2                           A Plan No One Escapes   \n",
       "3                                 The Legend Ends   \n",
       "4            Lost in our world, found in another.   \n",
       "\n",
       "                                      title  vote_average  vote_count  \n",
       "0                                    Avatar           7.2       11800  \n",
       "1  Pirates of the Caribbean: At World's End           6.9        4500  \n",
       "2                                   Spectre           6.3        4466  \n",
       "3                     The Dark Knight Rises           7.6        9106  \n",
       "4                               John Carter           6.1        2124  "
      ]
     },
     "execution_count": 5,
     "metadata": {},
     "output_type": "execute_result"
    }
   ],
   "source": [
    "mov.head(5)"
   ]
  },
  {
   "cell_type": "code",
   "execution_count": 6,
   "id": "b58e355b",
   "metadata": {
    "colab": {
     "base_uri": "https://localhost:8080/",
     "height": 206
    },
    "executionInfo": {
     "elapsed": 89,
     "status": "ok",
     "timestamp": 1707833724344,
     "user": {
      "displayName": "Akshay Kumar Kona",
      "userId": "06952112589146711744"
     },
     "user_tz": -330
    },
    "id": "b58e355b",
    "outputId": "eefe8139-2824-4cf4-df4c-95b121d9afd1"
   },
   "outputs": [
    {
     "data": {
      "text/html": [
       "<div>\n",
       "<style scoped>\n",
       "    .dataframe tbody tr th:only-of-type {\n",
       "        vertical-align: middle;\n",
       "    }\n",
       "\n",
       "    .dataframe tbody tr th {\n",
       "        vertical-align: top;\n",
       "    }\n",
       "\n",
       "    .dataframe thead th {\n",
       "        text-align: right;\n",
       "    }\n",
       "</style>\n",
       "<table border=\"1\" class=\"dataframe\">\n",
       "  <thead>\n",
       "    <tr style=\"text-align: right;\">\n",
       "      <th></th>\n",
       "      <th>movie_id</th>\n",
       "      <th>title</th>\n",
       "      <th>cast</th>\n",
       "      <th>crew</th>\n",
       "    </tr>\n",
       "  </thead>\n",
       "  <tbody>\n",
       "    <tr>\n",
       "      <th>0</th>\n",
       "      <td>19995</td>\n",
       "      <td>Avatar</td>\n",
       "      <td>[{\"cast_id\": 242, \"character\": \"Jake Sully\", \"...</td>\n",
       "      <td>[{\"credit_id\": \"52fe48009251416c750aca23\", \"de...</td>\n",
       "    </tr>\n",
       "    <tr>\n",
       "      <th>1</th>\n",
       "      <td>285</td>\n",
       "      <td>Pirates of the Caribbean: At World's End</td>\n",
       "      <td>[{\"cast_id\": 4, \"character\": \"Captain Jack Spa...</td>\n",
       "      <td>[{\"credit_id\": \"52fe4232c3a36847f800b579\", \"de...</td>\n",
       "    </tr>\n",
       "    <tr>\n",
       "      <th>2</th>\n",
       "      <td>206647</td>\n",
       "      <td>Spectre</td>\n",
       "      <td>[{\"cast_id\": 1, \"character\": \"James Bond\", \"cr...</td>\n",
       "      <td>[{\"credit_id\": \"54805967c3a36829b5002c41\", \"de...</td>\n",
       "    </tr>\n",
       "    <tr>\n",
       "      <th>3</th>\n",
       "      <td>49026</td>\n",
       "      <td>The Dark Knight Rises</td>\n",
       "      <td>[{\"cast_id\": 2, \"character\": \"Bruce Wayne / Ba...</td>\n",
       "      <td>[{\"credit_id\": \"52fe4781c3a36847f81398c3\", \"de...</td>\n",
       "    </tr>\n",
       "    <tr>\n",
       "      <th>4</th>\n",
       "      <td>49529</td>\n",
       "      <td>John Carter</td>\n",
       "      <td>[{\"cast_id\": 5, \"character\": \"John Carter\", \"c...</td>\n",
       "      <td>[{\"credit_id\": \"52fe479ac3a36847f813eaa3\", \"de...</td>\n",
       "    </tr>\n",
       "  </tbody>\n",
       "</table>\n",
       "</div>"
      ],
      "text/plain": [
       "   movie_id                                     title  \\\n",
       "0     19995                                    Avatar   \n",
       "1       285  Pirates of the Caribbean: At World's End   \n",
       "2    206647                                   Spectre   \n",
       "3     49026                     The Dark Knight Rises   \n",
       "4     49529                               John Carter   \n",
       "\n",
       "                                                cast  \\\n",
       "0  [{\"cast_id\": 242, \"character\": \"Jake Sully\", \"...   \n",
       "1  [{\"cast_id\": 4, \"character\": \"Captain Jack Spa...   \n",
       "2  [{\"cast_id\": 1, \"character\": \"James Bond\", \"cr...   \n",
       "3  [{\"cast_id\": 2, \"character\": \"Bruce Wayne / Ba...   \n",
       "4  [{\"cast_id\": 5, \"character\": \"John Carter\", \"c...   \n",
       "\n",
       "                                                crew  \n",
       "0  [{\"credit_id\": \"52fe48009251416c750aca23\", \"de...  \n",
       "1  [{\"credit_id\": \"52fe4232c3a36847f800b579\", \"de...  \n",
       "2  [{\"credit_id\": \"54805967c3a36829b5002c41\", \"de...  \n",
       "3  [{\"credit_id\": \"52fe4781c3a36847f81398c3\", \"de...  \n",
       "4  [{\"credit_id\": \"52fe479ac3a36847f813eaa3\", \"de...  "
      ]
     },
     "execution_count": 6,
     "metadata": {},
     "output_type": "execute_result"
    }
   ],
   "source": [
    "cred.head(5)"
   ]
  },
  {
   "cell_type": "code",
   "execution_count": 7,
   "id": "3627acb5",
   "metadata": {
    "colab": {
     "base_uri": "https://localhost:8080/"
    },
    "executionInfo": {
     "elapsed": 87,
     "status": "ok",
     "timestamp": 1707833724345,
     "user": {
      "displayName": "Akshay Kumar Kona",
      "userId": "06952112589146711744"
     },
     "user_tz": -330
    },
    "id": "3627acb5",
    "outputId": "b2069dc5-1778-476f-952f-81524acb90ae"
   },
   "outputs": [
    {
     "data": {
      "text/plain": [
       "(4803, 20)"
      ]
     },
     "execution_count": 7,
     "metadata": {},
     "output_type": "execute_result"
    }
   ],
   "source": [
    "mov.shape"
   ]
  },
  {
   "cell_type": "code",
   "execution_count": 8,
   "id": "cb3142f3",
   "metadata": {
    "colab": {
     "base_uri": "https://localhost:8080/"
    },
    "executionInfo": {
     "elapsed": 79,
     "status": "ok",
     "timestamp": 1707833724345,
     "user": {
      "displayName": "Akshay Kumar Kona",
      "userId": "06952112589146711744"
     },
     "user_tz": -330
    },
    "id": "cb3142f3",
    "outputId": "5d9c63ca-9def-470b-8f06-34563842f6a3"
   },
   "outputs": [
    {
     "data": {
      "text/plain": [
       "(4803, 4)"
      ]
     },
     "execution_count": 8,
     "metadata": {},
     "output_type": "execute_result"
    }
   ],
   "source": [
    "cred.shape"
   ]
  },
  {
   "cell_type": "markdown",
   "id": "f6b545f2",
   "metadata": {
    "id": "f6b545f2"
   },
   "source": [
    "### MERGING BOTH THE DATAFRAMES INTO ONE DATAFRAME"
   ]
  },
  {
   "cell_type": "code",
   "execution_count": 10,
   "id": "c0bd299d",
   "metadata": {
    "id": "c0bd299d"
   },
   "outputs": [],
   "source": [
    "all_df=mov.merge(cred,on='title')"
   ]
  },
  {
   "cell_type": "code",
   "execution_count": 11,
   "id": "0a16cc2d",
   "metadata": {
    "colab": {
     "base_uri": "https://localhost:8080/"
    },
    "executionInfo": {
     "elapsed": 73,
     "status": "ok",
     "timestamp": 1707833724345,
     "user": {
      "displayName": "Akshay Kumar Kona",
      "userId": "06952112589146711744"
     },
     "user_tz": -330
    },
    "id": "0a16cc2d",
    "outputId": "d081b0c7-b29c-4fcd-90a4-8853aee91e62",
    "scrolled": true
   },
   "outputs": [
    {
     "data": {
      "text/plain": [
       "(4809, 23)"
      ]
     },
     "execution_count": 11,
     "metadata": {},
     "output_type": "execute_result"
    }
   ],
   "source": [
    "all_df.shape"
   ]
  },
  {
   "cell_type": "code",
   "execution_count": 12,
   "id": "52233d90",
   "metadata": {
    "colab": {
     "base_uri": "https://localhost:8080/",
     "height": 758
    },
    "executionInfo": {
     "elapsed": 71,
     "status": "ok",
     "timestamp": 1707833724346,
     "user": {
      "displayName": "Akshay Kumar Kona",
      "userId": "06952112589146711744"
     },
     "user_tz": -330
    },
    "id": "52233d90",
    "outputId": "b42a31f0-8c78-4266-b577-0e63a34b949b"
   },
   "outputs": [
    {
     "data": {
      "text/html": [
       "<div>\n",
       "<style scoped>\n",
       "    .dataframe tbody tr th:only-of-type {\n",
       "        vertical-align: middle;\n",
       "    }\n",
       "\n",
       "    .dataframe tbody tr th {\n",
       "        vertical-align: top;\n",
       "    }\n",
       "\n",
       "    .dataframe thead th {\n",
       "        text-align: right;\n",
       "    }\n",
       "</style>\n",
       "<table border=\"1\" class=\"dataframe\">\n",
       "  <thead>\n",
       "    <tr style=\"text-align: right;\">\n",
       "      <th></th>\n",
       "      <th>budget</th>\n",
       "      <th>genres</th>\n",
       "      <th>homepage</th>\n",
       "      <th>id</th>\n",
       "      <th>keywords</th>\n",
       "      <th>original_language</th>\n",
       "      <th>original_title</th>\n",
       "      <th>overview</th>\n",
       "      <th>popularity</th>\n",
       "      <th>production_companies</th>\n",
       "      <th>...</th>\n",
       "      <th>runtime</th>\n",
       "      <th>spoken_languages</th>\n",
       "      <th>status</th>\n",
       "      <th>tagline</th>\n",
       "      <th>title</th>\n",
       "      <th>vote_average</th>\n",
       "      <th>vote_count</th>\n",
       "      <th>movie_id</th>\n",
       "      <th>cast</th>\n",
       "      <th>crew</th>\n",
       "    </tr>\n",
       "  </thead>\n",
       "  <tbody>\n",
       "    <tr>\n",
       "      <th>0</th>\n",
       "      <td>237000000</td>\n",
       "      <td>[{\"id\": 28, \"name\": \"Action\"}, {\"id\": 12, \"nam...</td>\n",
       "      <td>http://www.avatarmovie.com/</td>\n",
       "      <td>19995</td>\n",
       "      <td>[{\"id\": 1463, \"name\": \"culture clash\"}, {\"id\":...</td>\n",
       "      <td>en</td>\n",
       "      <td>Avatar</td>\n",
       "      <td>In the 22nd century, a paraplegic Marine is di...</td>\n",
       "      <td>150.437577</td>\n",
       "      <td>[{\"name\": \"Ingenious Film Partners\", \"id\": 289...</td>\n",
       "      <td>...</td>\n",
       "      <td>162.0</td>\n",
       "      <td>[{\"iso_639_1\": \"en\", \"name\": \"English\"}, {\"iso...</td>\n",
       "      <td>Released</td>\n",
       "      <td>Enter the World of Pandora.</td>\n",
       "      <td>Avatar</td>\n",
       "      <td>7.2</td>\n",
       "      <td>11800</td>\n",
       "      <td>19995</td>\n",
       "      <td>[{\"cast_id\": 242, \"character\": \"Jake Sully\", \"...</td>\n",
       "      <td>[{\"credit_id\": \"52fe48009251416c750aca23\", \"de...</td>\n",
       "    </tr>\n",
       "    <tr>\n",
       "      <th>1</th>\n",
       "      <td>300000000</td>\n",
       "      <td>[{\"id\": 12, \"name\": \"Adventure\"}, {\"id\": 14, \"...</td>\n",
       "      <td>http://disney.go.com/disneypictures/pirates/</td>\n",
       "      <td>285</td>\n",
       "      <td>[{\"id\": 270, \"name\": \"ocean\"}, {\"id\": 726, \"na...</td>\n",
       "      <td>en</td>\n",
       "      <td>Pirates of the Caribbean: At World's End</td>\n",
       "      <td>Captain Barbossa, long believed to be dead, ha...</td>\n",
       "      <td>139.082615</td>\n",
       "      <td>[{\"name\": \"Walt Disney Pictures\", \"id\": 2}, {\"...</td>\n",
       "      <td>...</td>\n",
       "      <td>169.0</td>\n",
       "      <td>[{\"iso_639_1\": \"en\", \"name\": \"English\"}]</td>\n",
       "      <td>Released</td>\n",
       "      <td>At the end of the world, the adventure begins.</td>\n",
       "      <td>Pirates of the Caribbean: At World's End</td>\n",
       "      <td>6.9</td>\n",
       "      <td>4500</td>\n",
       "      <td>285</td>\n",
       "      <td>[{\"cast_id\": 4, \"character\": \"Captain Jack Spa...</td>\n",
       "      <td>[{\"credit_id\": \"52fe4232c3a36847f800b579\", \"de...</td>\n",
       "    </tr>\n",
       "    <tr>\n",
       "      <th>2</th>\n",
       "      <td>245000000</td>\n",
       "      <td>[{\"id\": 28, \"name\": \"Action\"}, {\"id\": 12, \"nam...</td>\n",
       "      <td>http://www.sonypictures.com/movies/spectre/</td>\n",
       "      <td>206647</td>\n",
       "      <td>[{\"id\": 470, \"name\": \"spy\"}, {\"id\": 818, \"name...</td>\n",
       "      <td>en</td>\n",
       "      <td>Spectre</td>\n",
       "      <td>A cryptic message from Bond’s past sends him o...</td>\n",
       "      <td>107.376788</td>\n",
       "      <td>[{\"name\": \"Columbia Pictures\", \"id\": 5}, {\"nam...</td>\n",
       "      <td>...</td>\n",
       "      <td>148.0</td>\n",
       "      <td>[{\"iso_639_1\": \"fr\", \"name\": \"Fran\\u00e7ais\"},...</td>\n",
       "      <td>Released</td>\n",
       "      <td>A Plan No One Escapes</td>\n",
       "      <td>Spectre</td>\n",
       "      <td>6.3</td>\n",
       "      <td>4466</td>\n",
       "      <td>206647</td>\n",
       "      <td>[{\"cast_id\": 1, \"character\": \"James Bond\", \"cr...</td>\n",
       "      <td>[{\"credit_id\": \"54805967c3a36829b5002c41\", \"de...</td>\n",
       "    </tr>\n",
       "    <tr>\n",
       "      <th>3</th>\n",
       "      <td>250000000</td>\n",
       "      <td>[{\"id\": 28, \"name\": \"Action\"}, {\"id\": 80, \"nam...</td>\n",
       "      <td>http://www.thedarkknightrises.com/</td>\n",
       "      <td>49026</td>\n",
       "      <td>[{\"id\": 849, \"name\": \"dc comics\"}, {\"id\": 853,...</td>\n",
       "      <td>en</td>\n",
       "      <td>The Dark Knight Rises</td>\n",
       "      <td>Following the death of District Attorney Harve...</td>\n",
       "      <td>112.312950</td>\n",
       "      <td>[{\"name\": \"Legendary Pictures\", \"id\": 923}, {\"...</td>\n",
       "      <td>...</td>\n",
       "      <td>165.0</td>\n",
       "      <td>[{\"iso_639_1\": \"en\", \"name\": \"English\"}]</td>\n",
       "      <td>Released</td>\n",
       "      <td>The Legend Ends</td>\n",
       "      <td>The Dark Knight Rises</td>\n",
       "      <td>7.6</td>\n",
       "      <td>9106</td>\n",
       "      <td>49026</td>\n",
       "      <td>[{\"cast_id\": 2, \"character\": \"Bruce Wayne / Ba...</td>\n",
       "      <td>[{\"credit_id\": \"52fe4781c3a36847f81398c3\", \"de...</td>\n",
       "    </tr>\n",
       "    <tr>\n",
       "      <th>4</th>\n",
       "      <td>260000000</td>\n",
       "      <td>[{\"id\": 28, \"name\": \"Action\"}, {\"id\": 12, \"nam...</td>\n",
       "      <td>http://movies.disney.com/john-carter</td>\n",
       "      <td>49529</td>\n",
       "      <td>[{\"id\": 818, \"name\": \"based on novel\"}, {\"id\":...</td>\n",
       "      <td>en</td>\n",
       "      <td>John Carter</td>\n",
       "      <td>John Carter is a war-weary, former military ca...</td>\n",
       "      <td>43.926995</td>\n",
       "      <td>[{\"name\": \"Walt Disney Pictures\", \"id\": 2}]</td>\n",
       "      <td>...</td>\n",
       "      <td>132.0</td>\n",
       "      <td>[{\"iso_639_1\": \"en\", \"name\": \"English\"}]</td>\n",
       "      <td>Released</td>\n",
       "      <td>Lost in our world, found in another.</td>\n",
       "      <td>John Carter</td>\n",
       "      <td>6.1</td>\n",
       "      <td>2124</td>\n",
       "      <td>49529</td>\n",
       "      <td>[{\"cast_id\": 5, \"character\": \"John Carter\", \"c...</td>\n",
       "      <td>[{\"credit_id\": \"52fe479ac3a36847f813eaa3\", \"de...</td>\n",
       "    </tr>\n",
       "  </tbody>\n",
       "</table>\n",
       "<p>5 rows × 23 columns</p>\n",
       "</div>"
      ],
      "text/plain": [
       "      budget                                             genres  \\\n",
       "0  237000000  [{\"id\": 28, \"name\": \"Action\"}, {\"id\": 12, \"nam...   \n",
       "1  300000000  [{\"id\": 12, \"name\": \"Adventure\"}, {\"id\": 14, \"...   \n",
       "2  245000000  [{\"id\": 28, \"name\": \"Action\"}, {\"id\": 12, \"nam...   \n",
       "3  250000000  [{\"id\": 28, \"name\": \"Action\"}, {\"id\": 80, \"nam...   \n",
       "4  260000000  [{\"id\": 28, \"name\": \"Action\"}, {\"id\": 12, \"nam...   \n",
       "\n",
       "                                       homepage      id  \\\n",
       "0                   http://www.avatarmovie.com/   19995   \n",
       "1  http://disney.go.com/disneypictures/pirates/     285   \n",
       "2   http://www.sonypictures.com/movies/spectre/  206647   \n",
       "3            http://www.thedarkknightrises.com/   49026   \n",
       "4          http://movies.disney.com/john-carter   49529   \n",
       "\n",
       "                                            keywords original_language  \\\n",
       "0  [{\"id\": 1463, \"name\": \"culture clash\"}, {\"id\":...                en   \n",
       "1  [{\"id\": 270, \"name\": \"ocean\"}, {\"id\": 726, \"na...                en   \n",
       "2  [{\"id\": 470, \"name\": \"spy\"}, {\"id\": 818, \"name...                en   \n",
       "3  [{\"id\": 849, \"name\": \"dc comics\"}, {\"id\": 853,...                en   \n",
       "4  [{\"id\": 818, \"name\": \"based on novel\"}, {\"id\":...                en   \n",
       "\n",
       "                             original_title  \\\n",
       "0                                    Avatar   \n",
       "1  Pirates of the Caribbean: At World's End   \n",
       "2                                   Spectre   \n",
       "3                     The Dark Knight Rises   \n",
       "4                               John Carter   \n",
       "\n",
       "                                            overview  popularity  \\\n",
       "0  In the 22nd century, a paraplegic Marine is di...  150.437577   \n",
       "1  Captain Barbossa, long believed to be dead, ha...  139.082615   \n",
       "2  A cryptic message from Bond’s past sends him o...  107.376788   \n",
       "3  Following the death of District Attorney Harve...  112.312950   \n",
       "4  John Carter is a war-weary, former military ca...   43.926995   \n",
       "\n",
       "                                production_companies  ... runtime  \\\n",
       "0  [{\"name\": \"Ingenious Film Partners\", \"id\": 289...  ...   162.0   \n",
       "1  [{\"name\": \"Walt Disney Pictures\", \"id\": 2}, {\"...  ...   169.0   \n",
       "2  [{\"name\": \"Columbia Pictures\", \"id\": 5}, {\"nam...  ...   148.0   \n",
       "3  [{\"name\": \"Legendary Pictures\", \"id\": 923}, {\"...  ...   165.0   \n",
       "4        [{\"name\": \"Walt Disney Pictures\", \"id\": 2}]  ...   132.0   \n",
       "\n",
       "                                    spoken_languages    status  \\\n",
       "0  [{\"iso_639_1\": \"en\", \"name\": \"English\"}, {\"iso...  Released   \n",
       "1           [{\"iso_639_1\": \"en\", \"name\": \"English\"}]  Released   \n",
       "2  [{\"iso_639_1\": \"fr\", \"name\": \"Fran\\u00e7ais\"},...  Released   \n",
       "3           [{\"iso_639_1\": \"en\", \"name\": \"English\"}]  Released   \n",
       "4           [{\"iso_639_1\": \"en\", \"name\": \"English\"}]  Released   \n",
       "\n",
       "                                          tagline  \\\n",
       "0                     Enter the World of Pandora.   \n",
       "1  At the end of the world, the adventure begins.   \n",
       "2                           A Plan No One Escapes   \n",
       "3                                 The Legend Ends   \n",
       "4            Lost in our world, found in another.   \n",
       "\n",
       "                                      title vote_average vote_count movie_id  \\\n",
       "0                                    Avatar          7.2      11800    19995   \n",
       "1  Pirates of the Caribbean: At World's End          6.9       4500      285   \n",
       "2                                   Spectre          6.3       4466   206647   \n",
       "3                     The Dark Knight Rises          7.6       9106    49026   \n",
       "4                               John Carter          6.1       2124    49529   \n",
       "\n",
       "                                                cast  \\\n",
       "0  [{\"cast_id\": 242, \"character\": \"Jake Sully\", \"...   \n",
       "1  [{\"cast_id\": 4, \"character\": \"Captain Jack Spa...   \n",
       "2  [{\"cast_id\": 1, \"character\": \"James Bond\", \"cr...   \n",
       "3  [{\"cast_id\": 2, \"character\": \"Bruce Wayne / Ba...   \n",
       "4  [{\"cast_id\": 5, \"character\": \"John Carter\", \"c...   \n",
       "\n",
       "                                                crew  \n",
       "0  [{\"credit_id\": \"52fe48009251416c750aca23\", \"de...  \n",
       "1  [{\"credit_id\": \"52fe4232c3a36847f800b579\", \"de...  \n",
       "2  [{\"credit_id\": \"54805967c3a36829b5002c41\", \"de...  \n",
       "3  [{\"credit_id\": \"52fe4781c3a36847f81398c3\", \"de...  \n",
       "4  [{\"credit_id\": \"52fe479ac3a36847f813eaa3\", \"de...  \n",
       "\n",
       "[5 rows x 23 columns]"
      ]
     },
     "execution_count": 12,
     "metadata": {},
     "output_type": "execute_result"
    }
   ],
   "source": [
    "all_df.head(5)"
   ]
  },
  {
   "cell_type": "code",
   "execution_count": 13,
   "id": "c313dcd1",
   "metadata": {
    "colab": {
     "base_uri": "https://localhost:8080/"
    },
    "executionInfo": {
     "elapsed": 67,
     "status": "ok",
     "timestamp": 1707833724346,
     "user": {
      "displayName": "Akshay Kumar Kona",
      "userId": "06952112589146711744"
     },
     "user_tz": -330
    },
    "id": "c313dcd1",
    "outputId": "abd437ed-6e1c-4abf-f93e-0ed5adaca392"
   },
   "outputs": [
    {
     "data": {
      "text/plain": [
       "budget                     0\n",
       "genres                     0\n",
       "homepage                3096\n",
       "id                         0\n",
       "keywords                   0\n",
       "original_language          0\n",
       "original_title             0\n",
       "overview                   3\n",
       "popularity                 0\n",
       "production_companies       0\n",
       "production_countries       0\n",
       "release_date               1\n",
       "revenue                    0\n",
       "runtime                    2\n",
       "spoken_languages           0\n",
       "status                     0\n",
       "tagline                  844\n",
       "title                      0\n",
       "vote_average               0\n",
       "vote_count                 0\n",
       "movie_id                   0\n",
       "cast                       0\n",
       "crew                       0\n",
       "dtype: int64"
      ]
     },
     "execution_count": 13,
     "metadata": {},
     "output_type": "execute_result"
    }
   ],
   "source": [
    "all_df.isnull().sum()"
   ]
  },
  {
   "cell_type": "markdown",
   "id": "6456cd33",
   "metadata": {
    "id": "6456cd33"
   },
   "source": [
    "## As I'm building a Content-based Movie Recommender System, I am including only columns or variables, which have categorical data."
   ]
  },
  {
   "cell_type": "code",
   "execution_count": 15,
   "id": "c7b81742",
   "metadata": {
    "colab": {
     "base_uri": "https://localhost:8080/",
     "height": 195
    },
    "executionInfo": {
     "elapsed": 62,
     "status": "ok",
     "timestamp": 1707833724346,
     "user": {
      "displayName": "Akshay Kumar Kona",
      "userId": "06952112589146711744"
     },
     "user_tz": -330
    },
    "id": "c7b81742",
    "outputId": "479a895f-e869-46a4-c9ca-51b48b9f70e9"
   },
   "outputs": [
    {
     "data": {
      "text/html": [
       "<div>\n",
       "<style scoped>\n",
       "    .dataframe tbody tr th:only-of-type {\n",
       "        vertical-align: middle;\n",
       "    }\n",
       "\n",
       "    .dataframe tbody tr th {\n",
       "        vertical-align: top;\n",
       "    }\n",
       "\n",
       "    .dataframe thead th {\n",
       "        text-align: right;\n",
       "    }\n",
       "</style>\n",
       "<table border=\"1\" class=\"dataframe\">\n",
       "  <thead>\n",
       "    <tr style=\"text-align: right;\">\n",
       "      <th></th>\n",
       "      <th>id</th>\n",
       "      <th>title</th>\n",
       "      <th>genres</th>\n",
       "      <th>overview</th>\n",
       "      <th>keywords</th>\n",
       "      <th>cast</th>\n",
       "      <th>crew</th>\n",
       "    </tr>\n",
       "  </thead>\n",
       "  <tbody>\n",
       "    <tr>\n",
       "      <th>0</th>\n",
       "      <td>19995</td>\n",
       "      <td>Avatar</td>\n",
       "      <td>[{\"id\": 28, \"name\": \"Action\"}, {\"id\": 12, \"nam...</td>\n",
       "      <td>In the 22nd century, a paraplegic Marine is di...</td>\n",
       "      <td>[{\"id\": 1463, \"name\": \"culture clash\"}, {\"id\":...</td>\n",
       "      <td>[{\"cast_id\": 242, \"character\": \"Jake Sully\", \"...</td>\n",
       "      <td>[{\"credit_id\": \"52fe48009251416c750aca23\", \"de...</td>\n",
       "    </tr>\n",
       "    <tr>\n",
       "      <th>1</th>\n",
       "      <td>285</td>\n",
       "      <td>Pirates of the Caribbean: At World's End</td>\n",
       "      <td>[{\"id\": 12, \"name\": \"Adventure\"}, {\"id\": 14, \"...</td>\n",
       "      <td>Captain Barbossa, long believed to be dead, ha...</td>\n",
       "      <td>[{\"id\": 270, \"name\": \"ocean\"}, {\"id\": 726, \"na...</td>\n",
       "      <td>[{\"cast_id\": 4, \"character\": \"Captain Jack Spa...</td>\n",
       "      <td>[{\"credit_id\": \"52fe4232c3a36847f800b579\", \"de...</td>\n",
       "    </tr>\n",
       "    <tr>\n",
       "      <th>2</th>\n",
       "      <td>206647</td>\n",
       "      <td>Spectre</td>\n",
       "      <td>[{\"id\": 28, \"name\": \"Action\"}, {\"id\": 12, \"nam...</td>\n",
       "      <td>A cryptic message from Bond’s past sends him o...</td>\n",
       "      <td>[{\"id\": 470, \"name\": \"spy\"}, {\"id\": 818, \"name...</td>\n",
       "      <td>[{\"cast_id\": 1, \"character\": \"James Bond\", \"cr...</td>\n",
       "      <td>[{\"credit_id\": \"54805967c3a36829b5002c41\", \"de...</td>\n",
       "    </tr>\n",
       "  </tbody>\n",
       "</table>\n",
       "</div>"
      ],
      "text/plain": [
       "       id                                     title  \\\n",
       "0   19995                                    Avatar   \n",
       "1     285  Pirates of the Caribbean: At World's End   \n",
       "2  206647                                   Spectre   \n",
       "\n",
       "                                              genres  \\\n",
       "0  [{\"id\": 28, \"name\": \"Action\"}, {\"id\": 12, \"nam...   \n",
       "1  [{\"id\": 12, \"name\": \"Adventure\"}, {\"id\": 14, \"...   \n",
       "2  [{\"id\": 28, \"name\": \"Action\"}, {\"id\": 12, \"nam...   \n",
       "\n",
       "                                            overview  \\\n",
       "0  In the 22nd century, a paraplegic Marine is di...   \n",
       "1  Captain Barbossa, long believed to be dead, ha...   \n",
       "2  A cryptic message from Bond’s past sends him o...   \n",
       "\n",
       "                                            keywords  \\\n",
       "0  [{\"id\": 1463, \"name\": \"culture clash\"}, {\"id\":...   \n",
       "1  [{\"id\": 270, \"name\": \"ocean\"}, {\"id\": 726, \"na...   \n",
       "2  [{\"id\": 470, \"name\": \"spy\"}, {\"id\": 818, \"name...   \n",
       "\n",
       "                                                cast  \\\n",
       "0  [{\"cast_id\": 242, \"character\": \"Jake Sully\", \"...   \n",
       "1  [{\"cast_id\": 4, \"character\": \"Captain Jack Spa...   \n",
       "2  [{\"cast_id\": 1, \"character\": \"James Bond\", \"cr...   \n",
       "\n",
       "                                                crew  \n",
       "0  [{\"credit_id\": \"52fe48009251416c750aca23\", \"de...  \n",
       "1  [{\"credit_id\": \"52fe4232c3a36847f800b579\", \"de...  \n",
       "2  [{\"credit_id\": \"54805967c3a36829b5002c41\", \"de...  "
      ]
     },
     "execution_count": 15,
     "metadata": {},
     "output_type": "execute_result"
    }
   ],
   "source": [
    "all_df=all_df[['id','title','genres','overview','keywords','cast','crew']]\n",
    "all_df.head(3)"
   ]
  },
  {
   "cell_type": "code",
   "execution_count": 16,
   "id": "bf54a595",
   "metadata": {
    "colab": {
     "base_uri": "https://localhost:8080/"
    },
    "executionInfo": {
     "elapsed": 60,
     "status": "ok",
     "timestamp": 1707833724347,
     "user": {
      "displayName": "Akshay Kumar Kona",
      "userId": "06952112589146711744"
     },
     "user_tz": -330
    },
    "id": "bf54a595",
    "outputId": "f0113f07-846a-4c4f-e072-5528a6634a42"
   },
   "outputs": [
    {
     "data": {
      "text/plain": [
       "(4809, 7)"
      ]
     },
     "execution_count": 16,
     "metadata": {},
     "output_type": "execute_result"
    }
   ],
   "source": [
    "all_df.shape"
   ]
  },
  {
   "cell_type": "code",
   "execution_count": 17,
   "id": "787ef582",
   "metadata": {
    "colab": {
     "base_uri": "https://localhost:8080/"
    },
    "executionInfo": {
     "elapsed": 55,
     "status": "ok",
     "timestamp": 1707833724347,
     "user": {
      "displayName": "Akshay Kumar Kona",
      "userId": "06952112589146711744"
     },
     "user_tz": -330
    },
    "id": "787ef582",
    "outputId": "a9fb8f36-1e5f-44e2-8649-9bd78bc2ce45"
   },
   "outputs": [
    {
     "data": {
      "text/plain": [
       "id          0\n",
       "title       0\n",
       "genres      0\n",
       "overview    3\n",
       "keywords    0\n",
       "cast        0\n",
       "crew        0\n",
       "dtype: int64"
      ]
     },
     "execution_count": 17,
     "metadata": {},
     "output_type": "execute_result"
    }
   ],
   "source": [
    "all_df.isnull().sum()"
   ]
  },
  {
   "cell_type": "code",
   "execution_count": 18,
   "id": "fb8e9c86",
   "metadata": {
    "colab": {
     "base_uri": "https://localhost:8080/"
    },
    "executionInfo": {
     "elapsed": 51,
     "status": "ok",
     "timestamp": 1707833724347,
     "user": {
      "displayName": "Akshay Kumar Kona",
      "userId": "06952112589146711744"
     },
     "user_tz": -330
    },
    "id": "fb8e9c86",
    "outputId": "3a7307cf-6986-4f1b-97f9-8e3ae04c04a4"
   },
   "outputs": [
    {
     "data": {
      "text/plain": [
       "id          0.00\n",
       "title       0.00\n",
       "genres      0.00\n",
       "overview    0.06\n",
       "keywords    0.00\n",
       "cast        0.00\n",
       "crew        0.00\n",
       "dtype: float64"
      ]
     },
     "execution_count": 18,
     "metadata": {},
     "output_type": "execute_result"
    }
   ],
   "source": [
    "np.round(all_df.isnull().mean()*100,2) # it gives the percentage of null values"
   ]
  },
  {
   "cell_type": "code",
   "execution_count": 19,
   "id": "64f619ec",
   "metadata": {
    "id": "64f619ec"
   },
   "outputs": [],
   "source": [
    "all_df.dropna(inplace=True)"
   ]
  },
  {
   "cell_type": "code",
   "execution_count": 20,
   "id": "dcc496e4",
   "metadata": {
    "colab": {
     "base_uri": "https://localhost:8080/"
    },
    "executionInfo": {
     "elapsed": 48,
     "status": "ok",
     "timestamp": 1707833724348,
     "user": {
      "displayName": "Akshay Kumar Kona",
      "userId": "06952112589146711744"
     },
     "user_tz": -330
    },
    "id": "dcc496e4",
    "outputId": "165b1919-014a-48d3-b037-5146cbcb50df"
   },
   "outputs": [
    {
     "data": {
      "text/plain": [
       "id          0.0\n",
       "title       0.0\n",
       "genres      0.0\n",
       "overview    0.0\n",
       "keywords    0.0\n",
       "cast        0.0\n",
       "crew        0.0\n",
       "dtype: float64"
      ]
     },
     "execution_count": 20,
     "metadata": {},
     "output_type": "execute_result"
    }
   ],
   "source": [
    "np.round(all_df.isnull().mean()*100,2)"
   ]
  },
  {
   "cell_type": "code",
   "execution_count": 21,
   "id": "d51b425a",
   "metadata": {
    "colab": {
     "base_uri": "https://localhost:8080/"
    },
    "executionInfo": {
     "elapsed": 45,
     "status": "ok",
     "timestamp": 1707833724348,
     "user": {
      "displayName": "Akshay Kumar Kona",
      "userId": "06952112589146711744"
     },
     "user_tz": -330
    },
    "id": "d51b425a",
    "outputId": "8f8142db-19ff-488b-8afa-c6ce61bef317"
   },
   "outputs": [
    {
     "data": {
      "text/plain": [
       "0"
      ]
     },
     "execution_count": 21,
     "metadata": {},
     "output_type": "execute_result"
    }
   ],
   "source": [
    "all_df.duplicated().sum() # This implies there are no duplicated records or rows."
   ]
  },
  {
   "cell_type": "code",
   "execution_count": 22,
   "id": "9c834c69",
   "metadata": {
    "colab": {
     "base_uri": "https://localhost:8080/",
     "height": 36
    },
    "executionInfo": {
     "elapsed": 41,
     "status": "ok",
     "timestamp": 1707833724348,
     "user": {
      "displayName": "Akshay Kumar Kona",
      "userId": "06952112589146711744"
     },
     "user_tz": -330
    },
    "id": "9c834c69",
    "outputId": "d245bce0-fac1-4fd2-e429-28a20a2cee12"
   },
   "outputs": [
    {
     "data": {
      "text/plain": [
       "'[{\"id\": 28, \"name\": \"Action\"}, {\"id\": 12, \"name\": \"Adventure\"}, {\"id\": 14, \"name\": \"Fantasy\"}, {\"id\": 878, \"name\": \"Science Fiction\"}]'"
      ]
     },
     "execution_count": 22,
     "metadata": {},
     "output_type": "execute_result"
    }
   ],
   "source": [
    "all_df['genres'][0]"
   ]
  },
  {
   "cell_type": "markdown",
   "id": "9b3a1bd0",
   "metadata": {
    "id": "9b3a1bd0"
   },
   "source": [
    "### AS all_df['genres'] is a STRING in which there is a LIST OF DICTIONARIES WHICH CONTAINS GENRES, WE NEED TO CONVERT IT INTO A LIST FIRST"
   ]
  },
  {
   "cell_type": "code",
   "execution_count": 24,
   "id": "2fbacf9b",
   "metadata": {
    "id": "2fbacf9b"
   },
   "outputs": [],
   "source": [
    "import ast"
   ]
  },
  {
   "cell_type": "markdown",
   "id": "df6bae1d",
   "metadata": {
    "id": "df6bae1d"
   },
   "source": [
    "### Using \"ast\" MODULE FOR COVERTING STRING (in which it contains lists) TO LISTS, BY REMOVING THE STRING"
   ]
  },
  {
   "cell_type": "code",
   "execution_count": 26,
   "id": "2b6e98f4",
   "metadata": {
    "colab": {
     "base_uri": "https://localhost:8080/"
    },
    "executionInfo": {
     "elapsed": 38,
     "status": "ok",
     "timestamp": 1707833724349,
     "user": {
      "displayName": "Akshay Kumar Kona",
      "userId": "06952112589146711744"
     },
     "user_tz": -330
    },
    "id": "2b6e98f4",
    "outputId": "3405d04a-4e79-4ec3-9b87-a297add626d6"
   },
   "outputs": [
    {
     "data": {
      "text/plain": [
       "[{'id': 28, 'name': 'Action'},\n",
       " {'id': 12, 'name': 'Adventure'},\n",
       " {'id': 14, 'name': 'Fantasy'},\n",
       " {'id': 878, 'name': 'Science Fiction'}]"
      ]
     },
     "execution_count": 26,
     "metadata": {},
     "output_type": "execute_result"
    }
   ],
   "source": [
    "ast.literal_eval(all_df['genres'][0]) # IT WORKS LIKE THIS"
   ]
  },
  {
   "cell_type": "code",
   "execution_count": 27,
   "id": "9c8cd8ab",
   "metadata": {
    "id": "9c8cd8ab"
   },
   "outputs": [],
   "source": [
    "# Function for converting strings (in which it contains lists) into lists\n",
    "def release(obj):\n",
    "    l=[]\n",
    "    for i in ast.literal_eval(obj):\n",
    "       l.append(i['name'])\n",
    "    return l"
   ]
  },
  {
   "cell_type": "code",
   "execution_count": 28,
   "id": "ea97fe0b",
   "metadata": {
    "id": "ea97fe0b"
   },
   "outputs": [],
   "source": [
    "all_df['genres']=all_df['genres'].apply(release) # applting function to all_df['genres']"
   ]
  },
  {
   "cell_type": "code",
   "execution_count": 29,
   "id": "d4188fe9",
   "metadata": {
    "colab": {
     "base_uri": "https://localhost:8080/",
     "height": 195
    },
    "executionInfo": {
     "elapsed": 13,
     "status": "ok",
     "timestamp": 1707833724823,
     "user": {
      "displayName": "Akshay Kumar Kona",
      "userId": "06952112589146711744"
     },
     "user_tz": -330
    },
    "id": "d4188fe9",
    "outputId": "53a40bdd-140e-4633-e688-4e8e7f7377ca"
   },
   "outputs": [
    {
     "data": {
      "text/html": [
       "<div>\n",
       "<style scoped>\n",
       "    .dataframe tbody tr th:only-of-type {\n",
       "        vertical-align: middle;\n",
       "    }\n",
       "\n",
       "    .dataframe tbody tr th {\n",
       "        vertical-align: top;\n",
       "    }\n",
       "\n",
       "    .dataframe thead th {\n",
       "        text-align: right;\n",
       "    }\n",
       "</style>\n",
       "<table border=\"1\" class=\"dataframe\">\n",
       "  <thead>\n",
       "    <tr style=\"text-align: right;\">\n",
       "      <th></th>\n",
       "      <th>id</th>\n",
       "      <th>title</th>\n",
       "      <th>genres</th>\n",
       "      <th>overview</th>\n",
       "      <th>keywords</th>\n",
       "      <th>cast</th>\n",
       "      <th>crew</th>\n",
       "    </tr>\n",
       "  </thead>\n",
       "  <tbody>\n",
       "    <tr>\n",
       "      <th>2959</th>\n",
       "      <td>1590</td>\n",
       "      <td>Copying Beethoven</td>\n",
       "      <td>[Drama]</td>\n",
       "      <td>A fictionalised exploration of Beethoven's lif...</td>\n",
       "      <td>[{\"id\": 766, \"name\": \"beethoven\"}, {\"id\": 1870...</td>\n",
       "      <td>[{\"cast_id\": 4, \"character\": \"Ludwig van Beeth...</td>\n",
       "      <td>[{\"credit_id\": \"52fe4302c3a36847f80337af\", \"de...</td>\n",
       "    </tr>\n",
       "    <tr>\n",
       "      <th>1084</th>\n",
       "      <td>9381</td>\n",
       "      <td>Babylon A.D.</td>\n",
       "      <td>[Action, Adventure, Science Fiction, Thriller]</td>\n",
       "      <td>In Babylon A.D Vin Diesel stars as a veteran-t...</td>\n",
       "      <td>[{\"id\": 339, \"name\": \"submarine\"}, {\"id\": 1009...</td>\n",
       "      <td>[{\"cast_id\": 14, \"character\": \"Toorop\", \"credi...</td>\n",
       "      <td>[{\"credit_id\": \"52fe44f0c3a36847f80b2e2f\", \"de...</td>\n",
       "    </tr>\n",
       "    <tr>\n",
       "      <th>4373</th>\n",
       "      <td>22597</td>\n",
       "      <td>The Broken Hearts Club: A Romantic Comedy</td>\n",
       "      <td>[Comedy, Drama, Romance]</td>\n",
       "      <td>A group of friends search for fun, love and ul...</td>\n",
       "      <td>[{\"id\": 237, \"name\": \"gay\"}, {\"id\": 1253, \"nam...</td>\n",
       "      <td>[{\"cast_id\": 1, \"character\": \"Patrick\", \"credi...</td>\n",
       "      <td>[{\"credit_id\": \"53dd58e9c3a3686c5a00021d\", \"de...</td>\n",
       "    </tr>\n",
       "  </tbody>\n",
       "</table>\n",
       "</div>"
      ],
      "text/plain": [
       "         id                                      title  \\\n",
       "2959   1590                          Copying Beethoven   \n",
       "1084   9381                               Babylon A.D.   \n",
       "4373  22597  The Broken Hearts Club: A Romantic Comedy   \n",
       "\n",
       "                                              genres  \\\n",
       "2959                                         [Drama]   \n",
       "1084  [Action, Adventure, Science Fiction, Thriller]   \n",
       "4373                        [Comedy, Drama, Romance]   \n",
       "\n",
       "                                               overview  \\\n",
       "2959  A fictionalised exploration of Beethoven's lif...   \n",
       "1084  In Babylon A.D Vin Diesel stars as a veteran-t...   \n",
       "4373  A group of friends search for fun, love and ul...   \n",
       "\n",
       "                                               keywords  \\\n",
       "2959  [{\"id\": 766, \"name\": \"beethoven\"}, {\"id\": 1870...   \n",
       "1084  [{\"id\": 339, \"name\": \"submarine\"}, {\"id\": 1009...   \n",
       "4373  [{\"id\": 237, \"name\": \"gay\"}, {\"id\": 1253, \"nam...   \n",
       "\n",
       "                                                   cast  \\\n",
       "2959  [{\"cast_id\": 4, \"character\": \"Ludwig van Beeth...   \n",
       "1084  [{\"cast_id\": 14, \"character\": \"Toorop\", \"credi...   \n",
       "4373  [{\"cast_id\": 1, \"character\": \"Patrick\", \"credi...   \n",
       "\n",
       "                                                   crew  \n",
       "2959  [{\"credit_id\": \"52fe4302c3a36847f80337af\", \"de...  \n",
       "1084  [{\"credit_id\": \"52fe44f0c3a36847f80b2e2f\", \"de...  \n",
       "4373  [{\"credit_id\": \"53dd58e9c3a3686c5a00021d\", \"de...  "
      ]
     },
     "execution_count": 29,
     "metadata": {},
     "output_type": "execute_result"
    }
   ],
   "source": [
    "all_df.sample(3)"
   ]
  },
  {
   "cell_type": "code",
   "execution_count": null,
   "id": "11a298dc",
   "metadata": {
    "id": "11a298dc"
   },
   "outputs": [],
   "source": []
  },
  {
   "cell_type": "code",
   "execution_count": 30,
   "id": "f507a98d",
   "metadata": {
    "colab": {
     "base_uri": "https://localhost:8080/",
     "height": 90
    },
    "executionInfo": {
     "elapsed": 10,
     "status": "ok",
     "timestamp": 1707833724823,
     "user": {
      "displayName": "Akshay Kumar Kona",
      "userId": "06952112589146711744"
     },
     "user_tz": -330
    },
    "id": "f507a98d",
    "outputId": "e785d044-af05-4a84-ffe8-1f612cf80709"
   },
   "outputs": [
    {
     "data": {
      "text/plain": [
       "'[{\"id\": 1463, \"name\": \"culture clash\"}, {\"id\": 2964, \"name\": \"future\"}, {\"id\": 3386, \"name\": \"space war\"}, {\"id\": 3388, \"name\": \"space colony\"}, {\"id\": 3679, \"name\": \"society\"}, {\"id\": 3801, \"name\": \"space travel\"}, {\"id\": 9685, \"name\": \"futuristic\"}, {\"id\": 9840, \"name\": \"romance\"}, {\"id\": 9882, \"name\": \"space\"}, {\"id\": 9951, \"name\": \"alien\"}, {\"id\": 10148, \"name\": \"tribe\"}, {\"id\": 10158, \"name\": \"alien planet\"}, {\"id\": 10987, \"name\": \"cgi\"}, {\"id\": 11399, \"name\": \"marine\"}, {\"id\": 13065, \"name\": \"soldier\"}, {\"id\": 14643, \"name\": \"battle\"}, {\"id\": 14720, \"name\": \"love affair\"}, {\"id\": 165431, \"name\": \"anti war\"}, {\"id\": 193554, \"name\": \"power relations\"}, {\"id\": 206690, \"name\": \"mind and soul\"}, {\"id\": 209714, \"name\": \"3d\"}]'"
      ]
     },
     "execution_count": 30,
     "metadata": {},
     "output_type": "execute_result"
    }
   ],
   "source": [
    "all_df['keywords'][0] # it is in same format as in \"genres\" variable"
   ]
  },
  {
   "cell_type": "code",
   "execution_count": 31,
   "id": "f869580c",
   "metadata": {
    "colab": {
     "base_uri": "https://localhost:8080/",
     "height": 195
    },
    "executionInfo": {
     "elapsed": 476,
     "status": "ok",
     "timestamp": 1707833725290,
     "user": {
      "displayName": "Akshay Kumar Kona",
      "userId": "06952112589146711744"
     },
     "user_tz": -330
    },
    "id": "f869580c",
    "outputId": "8074344d-1bf8-49d5-f83b-889ebd7ea78d"
   },
   "outputs": [
    {
     "data": {
      "text/html": [
       "<div>\n",
       "<style scoped>\n",
       "    .dataframe tbody tr th:only-of-type {\n",
       "        vertical-align: middle;\n",
       "    }\n",
       "\n",
       "    .dataframe tbody tr th {\n",
       "        vertical-align: top;\n",
       "    }\n",
       "\n",
       "    .dataframe thead th {\n",
       "        text-align: right;\n",
       "    }\n",
       "</style>\n",
       "<table border=\"1\" class=\"dataframe\">\n",
       "  <thead>\n",
       "    <tr style=\"text-align: right;\">\n",
       "      <th></th>\n",
       "      <th>id</th>\n",
       "      <th>title</th>\n",
       "      <th>genres</th>\n",
       "      <th>overview</th>\n",
       "      <th>keywords</th>\n",
       "      <th>cast</th>\n",
       "      <th>crew</th>\n",
       "    </tr>\n",
       "  </thead>\n",
       "  <tbody>\n",
       "    <tr>\n",
       "      <th>734</th>\n",
       "      <td>10199</td>\n",
       "      <td>The Tale of Despereaux</td>\n",
       "      <td>[Adventure, Animation, Family]</td>\n",
       "      <td>Once upon a time... in the far away kingdom of...</td>\n",
       "      <td>[loyalty, totalitarian regime, mouse, forgiven...</td>\n",
       "      <td>[{\"cast_id\": 5, \"character\": \"Despereaux (voic...</td>\n",
       "      <td>[{\"credit_id\": \"58bad317c3a368664d023ea1\", \"de...</td>\n",
       "    </tr>\n",
       "    <tr>\n",
       "      <th>1078</th>\n",
       "      <td>9486</td>\n",
       "      <td>Johnny English</td>\n",
       "      <td>[Adventure, Action, Comedy]</td>\n",
       "      <td>Rowan plays the eponymous lead character in a ...</td>\n",
       "      <td>[spy, hero, queen, intelligence, coronation, f...</td>\n",
       "      <td>[{\"cast_id\": 1, \"character\": \"Johnny English\",...</td>\n",
       "      <td>[{\"credit_id\": \"52fe44fdc3a36847f80b6459\", \"de...</td>\n",
       "    </tr>\n",
       "    <tr>\n",
       "      <th>3994</th>\n",
       "      <td>21461</td>\n",
       "      <td>Lage Raho Munna Bhai</td>\n",
       "      <td>[Comedy, Drama, Romance]</td>\n",
       "      <td>A hilarious underworld gangster known as Munna...</td>\n",
       "      <td>[historical figure, comedy, bollywood, india]</td>\n",
       "      <td>[{\"cast_id\": 9, \"character\": \"Murli Prasad Sha...</td>\n",
       "      <td>[{\"credit_id\": \"52fe441ac3a368484e00f9c3\", \"de...</td>\n",
       "    </tr>\n",
       "  </tbody>\n",
       "</table>\n",
       "</div>"
      ],
      "text/plain": [
       "         id                   title                          genres  \\\n",
       "734   10199  The Tale of Despereaux  [Adventure, Animation, Family]   \n",
       "1078   9486          Johnny English     [Adventure, Action, Comedy]   \n",
       "3994  21461    Lage Raho Munna Bhai        [Comedy, Drama, Romance]   \n",
       "\n",
       "                                               overview  \\\n",
       "734   Once upon a time... in the far away kingdom of...   \n",
       "1078  Rowan plays the eponymous lead character in a ...   \n",
       "3994  A hilarious underworld gangster known as Munna...   \n",
       "\n",
       "                                               keywords  \\\n",
       "734   [loyalty, totalitarian regime, mouse, forgiven...   \n",
       "1078  [spy, hero, queen, intelligence, coronation, f...   \n",
       "3994      [historical figure, comedy, bollywood, india]   \n",
       "\n",
       "                                                   cast  \\\n",
       "734   [{\"cast_id\": 5, \"character\": \"Despereaux (voic...   \n",
       "1078  [{\"cast_id\": 1, \"character\": \"Johnny English\",...   \n",
       "3994  [{\"cast_id\": 9, \"character\": \"Murli Prasad Sha...   \n",
       "\n",
       "                                                   crew  \n",
       "734   [{\"credit_id\": \"58bad317c3a368664d023ea1\", \"de...  \n",
       "1078  [{\"credit_id\": \"52fe44fdc3a36847f80b6459\", \"de...  \n",
       "3994  [{\"credit_id\": \"52fe441ac3a368484e00f9c3\", \"de...  "
      ]
     },
     "execution_count": 31,
     "metadata": {},
     "output_type": "execute_result"
    }
   ],
   "source": [
    "all_df['keywords']=all_df['keywords'].apply(release) # So, Applying \"release\" function to all_df['keywords']\n",
    "all_df.sample(3)"
   ]
  },
  {
   "cell_type": "code",
   "execution_count": 32,
   "id": "d2335853",
   "metadata": {
    "colab": {
     "base_uri": "https://localhost:8080/",
     "height": 126
    },
    "executionInfo": {
     "elapsed": 13,
     "status": "ok",
     "timestamp": 1707833725290,
     "user": {
      "displayName": "Akshay Kumar Kona",
      "userId": "06952112589146711744"
     },
     "user_tz": -330
    },
    "id": "d2335853",
    "outputId": "73228b0e-2a36-430e-e653-25d81f1434af",
    "scrolled": true
   },
   "outputs": [
    {
     "data": {
      "text/plain": [
       "'[{\"cast_id\": 242, \"character\": \"Jake Sully\", \"credit_id\": \"5602a8a7c3a3685532001c9a\", \"gender\": 2, \"id\": 65731, \"name\": \"Sam Worthington\", \"order\": 0}, {\"cast_id\": 3, \"character\": \"Neytiri\", \"credit_id\": \"52fe48009251416c750ac9cb\", \"gender\": 1, \"id\": 8691, \"name\": \"Zoe Saldana\", \"order\": 1}, {\"cast_id\": 25, \"character\": \"Dr. Grace Augustine\", \"credit_id\": \"52fe48009251416c750aca39\", \"gender\": 1, \"id\": 10205, \"name\": \"Sigourney Weaver\", \"order\": 2}, {\"cast_id\": 4, \"character\": \"Col. Quaritch\", \"credit_id\": \"52fe48009251416c750ac9cf\", \"gender\": 2, \"id\": 32747, \"name\": \"Stephen Lang\", \"order\": 3}, {\"cast_id\": 5, \"character\": \"Trudy Chacon\", \"credit_id\": \"52fe48009251416c750ac9d3\", \"gender\": 1, \"id\": 17647, \"name\": \"Michelle Rodriguez\", \"order\": 4}, {\"cast_id\": 8, \"character\": \"Selfridge\", \"credit_id\": \"52fe48009251416c750ac9e1\", \"gender\": 2, \"id\": 1771, \"name\": \"Giovanni Ribisi\", \"order\": 5}, {\"cast_id\": 7, \"character\": \"Norm Spellman\", \"credit_id\": \"52fe48009251416c750ac9dd\", \"gender\": 2, \"id\": 59231, \"name\": \"Joel David Moore\", \"order\": 6}, {\"cast_id\": 9, \"character\": \"Moat\", \"credit_id\": \"52fe48009251416c750ac9e5\", \"gender\": 1, \"id\": 30485, \"name\": \"CCH Pounder\", \"order\": 7}, {\"cast_id\": 11, \"character\": \"Eytukan\", \"credit_id\": \"52fe48009251416c750ac9ed\", \"gender\": 2, \"id\": 15853, \"name\": \"Wes Studi\", \"order\": 8}, {\"cast_id\": 10, \"character\": \"Tsu\\'Tey\", \"credit_id\": \"52fe48009251416c750ac9e9\", \"gender\": 2, \"id\": 10964, \"name\": \"Laz Alonso\", \"order\": 9}, {\"cast_id\": 12, \"character\": \"Dr. Max Patel\", \"credit_id\": \"52fe48009251416c750ac9f1\", \"gender\": 2, \"id\": 95697, \"name\": \"Dileep Rao\", \"order\": 10}, {\"cast_id\": 13, \"character\": \"Lyle Wainfleet\", \"credit_id\": \"52fe48009251416c750ac9f5\", \"gender\": 2, \"id\": 98215, \"name\": \"Matt Gerald\", \"order\": 11}, {\"cast_id\": 32, \"character\": \"Private Fike\", \"credit_id\": \"52fe48009251416c750aca5b\", \"gender\": 2, \"id\": 154153, \"name\": \"Sean Anthony Moran\", \"order\": 12}, {\"cast_id\": 33, \"character\": \"Cryo Vault Med Tech\", \"credit_id\": \"52fe48009251416c750aca5f\", \"gender\": 2, \"id\": 397312, \"name\": \"Jason Whyte\", \"order\": 13}, {\"cast_id\": 34, \"character\": \"Venture Star Crew Chief\", \"credit_id\": \"52fe48009251416c750aca63\", \"gender\": 2, \"id\": 42317, \"name\": \"Scott Lawrence\", \"order\": 14}, {\"cast_id\": 35, \"character\": \"Lock Up Trooper\", \"credit_id\": \"52fe48009251416c750aca67\", \"gender\": 2, \"id\": 986734, \"name\": \"Kelly Kilgour\", \"order\": 15}, {\"cast_id\": 36, \"character\": \"Shuttle Pilot\", \"credit_id\": \"52fe48009251416c750aca6b\", \"gender\": 0, \"id\": 1207227, \"name\": \"James Patrick Pitt\", \"order\": 16}, {\"cast_id\": 37, \"character\": \"Shuttle Co-Pilot\", \"credit_id\": \"52fe48009251416c750aca6f\", \"gender\": 0, \"id\": 1180936, \"name\": \"Sean Patrick Murphy\", \"order\": 17}, {\"cast_id\": 38, \"character\": \"Shuttle Crew Chief\", \"credit_id\": \"52fe48009251416c750aca73\", \"gender\": 2, \"id\": 1019578, \"name\": \"Peter Dillon\", \"order\": 18}, {\"cast_id\": 39, \"character\": \"Tractor Operator / Troupe\", \"credit_id\": \"52fe48009251416c750aca77\", \"gender\": 0, \"id\": 91443, \"name\": \"Kevin Dorman\", \"order\": 19}, {\"cast_id\": 40, \"character\": \"Dragon Gunship Pilot\", \"credit_id\": \"52fe48009251416c750aca7b\", \"gender\": 2, \"id\": 173391, \"name\": \"Kelson Henderson\", \"order\": 20}, {\"cast_id\": 41, \"character\": \"Dragon Gunship Gunner\", \"credit_id\": \"52fe48009251416c750aca7f\", \"gender\": 0, \"id\": 1207236, \"name\": \"David Van Horn\", \"order\": 21}, {\"cast_id\": 42, \"character\": \"Dragon Gunship Navigator\", \"credit_id\": \"52fe48009251416c750aca83\", \"gender\": 0, \"id\": 215913, \"name\": \"Jacob Tomuri\", \"order\": 22}, {\"cast_id\": 43, \"character\": \"Suit #1\", \"credit_id\": \"52fe48009251416c750aca87\", \"gender\": 0, \"id\": 143206, \"name\": \"Michael Blain-Rozgay\", \"order\": 23}, {\"cast_id\": 44, \"character\": \"Suit #2\", \"credit_id\": \"52fe48009251416c750aca8b\", \"gender\": 2, \"id\": 169676, \"name\": \"Jon Curry\", \"order\": 24}, {\"cast_id\": 46, \"character\": \"Ambient Room Tech\", \"credit_id\": \"52fe48009251416c750aca8f\", \"gender\": 0, \"id\": 1048610, \"name\": \"Luke Hawker\", \"order\": 25}, {\"cast_id\": 47, \"character\": \"Ambient Room Tech / Troupe\", \"credit_id\": \"52fe48009251416c750aca93\", \"gender\": 0, \"id\": 42288, \"name\": \"Woody Schultz\", \"order\": 26}, {\"cast_id\": 48, \"character\": \"Horse Clan Leader\", \"credit_id\": \"52fe48009251416c750aca97\", \"gender\": 2, \"id\": 68278, \"name\": \"Peter Mensah\", \"order\": 27}, {\"cast_id\": 49, \"character\": \"Link Room Tech\", \"credit_id\": \"52fe48009251416c750aca9b\", \"gender\": 0, \"id\": 1207247, \"name\": \"Sonia Yee\", \"order\": 28}, {\"cast_id\": 50, \"character\": \"Basketball Avatar / Troupe\", \"credit_id\": \"52fe48009251416c750aca9f\", \"gender\": 1, \"id\": 1207248, \"name\": \"Jahnel Curfman\", \"order\": 29}, {\"cast_id\": 51, \"character\": \"Basketball Avatar\", \"credit_id\": \"52fe48009251416c750acaa3\", \"gender\": 0, \"id\": 89714, \"name\": \"Ilram Choi\", \"order\": 30}, {\"cast_id\": 52, \"character\": \"Na\\'vi Child\", \"credit_id\": \"52fe48009251416c750acaa7\", \"gender\": 0, \"id\": 1207249, \"name\": \"Kyla Warren\", \"order\": 31}, {\"cast_id\": 53, \"character\": \"Troupe\", \"credit_id\": \"52fe48009251416c750acaab\", \"gender\": 0, \"id\": 1207250, \"name\": \"Lisa Roumain\", \"order\": 32}, {\"cast_id\": 54, \"character\": \"Troupe\", \"credit_id\": \"52fe48009251416c750acaaf\", \"gender\": 1, \"id\": 83105, \"name\": \"Debra Wilson\", \"order\": 33}, {\"cast_id\": 57, \"character\": \"Troupe\", \"credit_id\": \"52fe48009251416c750acabb\", \"gender\": 0, \"id\": 1207253, \"name\": \"Chris Mala\", \"order\": 34}, {\"cast_id\": 55, \"character\": \"Troupe\", \"credit_id\": \"52fe48009251416c750acab3\", \"gender\": 0, \"id\": 1207251, \"name\": \"Taylor Kibby\", \"order\": 35}, {\"cast_id\": 56, \"character\": \"Troupe\", \"credit_id\": \"52fe48009251416c750acab7\", \"gender\": 0, \"id\": 1207252, \"name\": \"Jodie Landau\", \"order\": 36}, {\"cast_id\": 58, \"character\": \"Troupe\", \"credit_id\": \"52fe48009251416c750acabf\", \"gender\": 0, \"id\": 1207254, \"name\": \"Julie Lamm\", \"order\": 37}, {\"cast_id\": 59, \"character\": \"Troupe\", \"credit_id\": \"52fe48009251416c750acac3\", \"gender\": 0, \"id\": 1207257, \"name\": \"Cullen B. Madden\", \"order\": 38}, {\"cast_id\": 60, \"character\": \"Troupe\", \"credit_id\": \"52fe48009251416c750acac7\", \"gender\": 0, \"id\": 1207259, \"name\": \"Joseph Brady Madden\", \"order\": 39}, {\"cast_id\": 61, \"character\": \"Troupe\", \"credit_id\": \"52fe48009251416c750acacb\", \"gender\": 0, \"id\": 1207262, \"name\": \"Frankie Torres\", \"order\": 40}, {\"cast_id\": 62, \"character\": \"Troupe\", \"credit_id\": \"52fe48009251416c750acacf\", \"gender\": 1, \"id\": 1158600, \"name\": \"Austin Wilson\", \"order\": 41}, {\"cast_id\": 63, \"character\": \"Troupe\", \"credit_id\": \"52fe48019251416c750acad3\", \"gender\": 1, \"id\": 983705, \"name\": \"Sara Wilson\", \"order\": 42}, {\"cast_id\": 64, \"character\": \"Troupe\", \"credit_id\": \"52fe48019251416c750acad7\", \"gender\": 0, \"id\": 1207263, \"name\": \"Tamica Washington-Miller\", \"order\": 43}, {\"cast_id\": 65, \"character\": \"Op Center Staff\", \"credit_id\": \"52fe48019251416c750acadb\", \"gender\": 1, \"id\": 1145098, \"name\": \"Lucy Briant\", \"order\": 44}, {\"cast_id\": 66, \"character\": \"Op Center Staff\", \"credit_id\": \"52fe48019251416c750acadf\", \"gender\": 2, \"id\": 33305, \"name\": \"Nathan Meister\", \"order\": 45}, {\"cast_id\": 67, \"character\": \"Op Center Staff\", \"credit_id\": \"52fe48019251416c750acae3\", \"gender\": 0, \"id\": 1207264, \"name\": \"Gerry Blair\", \"order\": 46}, {\"cast_id\": 68, \"character\": \"Op Center Staff\", \"credit_id\": \"52fe48019251416c750acae7\", \"gender\": 2, \"id\": 33311, \"name\": \"Matthew Chamberlain\", \"order\": 47}, {\"cast_id\": 69, \"character\": \"Op Center Staff\", \"credit_id\": \"52fe48019251416c750acaeb\", \"gender\": 0, \"id\": 1207265, \"name\": \"Paul Yates\", \"order\": 48}, {\"cast_id\": 70, \"character\": \"Op Center Duty Officer\", \"credit_id\": \"52fe48019251416c750acaef\", \"gender\": 0, \"id\": 1207266, \"name\": \"Wray Wilson\", \"order\": 49}, {\"cast_id\": 71, \"character\": \"Op Center Staff\", \"credit_id\": \"52fe48019251416c750acaf3\", \"gender\": 2, \"id\": 54492, \"name\": \"James Gaylyn\", \"order\": 50}, {\"cast_id\": 72, \"character\": \"Dancer\", \"credit_id\": \"52fe48019251416c750acaf7\", \"gender\": 0, \"id\": 1207267, \"name\": \"Melvin Leno Clark III\", \"order\": 51}, {\"cast_id\": 73, \"character\": \"Dancer\", \"credit_id\": \"52fe48019251416c750acafb\", \"gender\": 0, \"id\": 1207268, \"name\": \"Carvon Futrell\", \"order\": 52}, {\"cast_id\": 74, \"character\": \"Dancer\", \"credit_id\": \"52fe48019251416c750acaff\", \"gender\": 0, \"id\": 1207269, \"name\": \"Brandon Jelkes\", \"order\": 53}, {\"cast_id\": 75, \"character\": \"Dancer\", \"credit_id\": \"52fe48019251416c750acb03\", \"gender\": 0, \"id\": 1207270, \"name\": \"Micah Moch\", \"order\": 54}, {\"cast_id\": 76, \"character\": \"Dancer\", \"credit_id\": \"52fe48019251416c750acb07\", \"gender\": 0, \"id\": 1207271, \"name\": \"Hanniyah Muhammad\", \"order\": 55}, {\"cast_id\": 77, \"character\": \"Dancer\", \"credit_id\": \"52fe48019251416c750acb0b\", \"gender\": 0, \"id\": 1207272, \"name\": \"Christopher Nolen\", \"order\": 56}, {\"cast_id\": 78, \"character\": \"Dancer\", \"credit_id\": \"52fe48019251416c750acb0f\", \"gender\": 0, \"id\": 1207273, \"name\": \"Christa Oliver\", \"order\": 57}, {\"cast_id\": 79, \"character\": \"Dancer\", \"credit_id\": \"52fe48019251416c750acb13\", \"gender\": 0, \"id\": 1207274, \"name\": \"April Marie Thomas\", \"order\": 58}, {\"cast_id\": 80, \"character\": \"Dancer\", \"credit_id\": \"52fe48019251416c750acb17\", \"gender\": 0, \"id\": 1207275, \"name\": \"Bravita A. Threatt\", \"order\": 59}, {\"cast_id\": 81, \"character\": \"Mining Chief (uncredited)\", \"credit_id\": \"52fe48019251416c750acb1b\", \"gender\": 0, \"id\": 1207276, \"name\": \"Colin Bleasdale\", \"order\": 60}, {\"cast_id\": 82, \"character\": \"Veteran Miner (uncredited)\", \"credit_id\": \"52fe48019251416c750acb1f\", \"gender\": 0, \"id\": 107969, \"name\": \"Mike Bodnar\", \"order\": 61}, {\"cast_id\": 83, \"character\": \"Richard (uncredited)\", \"credit_id\": \"52fe48019251416c750acb23\", \"gender\": 0, \"id\": 1207278, \"name\": \"Matt Clayton\", \"order\": 62}, {\"cast_id\": 84, \"character\": \"Nav\\'i (uncredited)\", \"credit_id\": \"52fe48019251416c750acb27\", \"gender\": 1, \"id\": 147898, \"name\": \"Nicole Dionne\", \"order\": 63}, {\"cast_id\": 85, \"character\": \"Trooper (uncredited)\", \"credit_id\": \"52fe48019251416c750acb2b\", \"gender\": 0, \"id\": 1207280, \"name\": \"Jamie Harrison\", \"order\": 64}, {\"cast_id\": 86, \"character\": \"Trooper (uncredited)\", \"credit_id\": \"52fe48019251416c750acb2f\", \"gender\": 0, \"id\": 1207281, \"name\": \"Allan Henry\", \"order\": 65}, {\"cast_id\": 87, \"character\": \"Ground Technician (uncredited)\", \"credit_id\": \"52fe48019251416c750acb33\", \"gender\": 2, \"id\": 1207282, \"name\": \"Anthony Ingruber\", \"order\": 66}, {\"cast_id\": 88, \"character\": \"Flight Crew Mechanic (uncredited)\", \"credit_id\": \"52fe48019251416c750acb37\", \"gender\": 0, \"id\": 1207283, \"name\": \"Ashley Jeffery\", \"order\": 67}, {\"cast_id\": 14, \"character\": \"Samson Pilot\", \"credit_id\": \"52fe48009251416c750ac9f9\", \"gender\": 0, \"id\": 98216, \"name\": \"Dean Knowsley\", \"order\": 68}, {\"cast_id\": 89, \"character\": \"Trooper (uncredited)\", \"credit_id\": \"52fe48019251416c750acb3b\", \"gender\": 0, \"id\": 1201399, \"name\": \"Joseph Mika-Hunt\", \"order\": 69}, {\"cast_id\": 90, \"character\": \"Banshee (uncredited)\", \"credit_id\": \"52fe48019251416c750acb3f\", \"gender\": 0, \"id\": 236696, \"name\": \"Terry Notary\", \"order\": 70}, {\"cast_id\": 91, \"character\": \"Soldier (uncredited)\", \"credit_id\": \"52fe48019251416c750acb43\", \"gender\": 0, \"id\": 1207287, \"name\": \"Kai Pantano\", \"order\": 71}, {\"cast_id\": 92, \"character\": \"Blast Technician (uncredited)\", \"credit_id\": \"52fe48019251416c750acb47\", \"gender\": 0, \"id\": 1207288, \"name\": \"Logan Pithyou\", \"order\": 72}, {\"cast_id\": 93, \"character\": \"Vindum Raah (uncredited)\", \"credit_id\": \"52fe48019251416c750acb4b\", \"gender\": 0, \"id\": 1207289, \"name\": \"Stuart Pollock\", \"order\": 73}, {\"cast_id\": 94, \"character\": \"Hero (uncredited)\", \"credit_id\": \"52fe48019251416c750acb4f\", \"gender\": 0, \"id\": 584868, \"name\": \"Raja\", \"order\": 74}, {\"cast_id\": 95, \"character\": \"Ops Centreworker (uncredited)\", \"credit_id\": \"52fe48019251416c750acb53\", \"gender\": 0, \"id\": 1207290, \"name\": \"Gareth Ruck\", \"order\": 75}, {\"cast_id\": 96, \"character\": \"Engineer (uncredited)\", \"credit_id\": \"52fe48019251416c750acb57\", \"gender\": 0, \"id\": 1062463, \"name\": \"Rhian Sheehan\", \"order\": 76}, {\"cast_id\": 97, \"character\": \"Col. Quaritch\\'s Mech Suit (uncredited)\", \"credit_id\": \"52fe48019251416c750acb5b\", \"gender\": 0, \"id\": 60656, \"name\": \"T. J. Storm\", \"order\": 77}, {\"cast_id\": 98, \"character\": \"Female Marine (uncredited)\", \"credit_id\": \"52fe48019251416c750acb5f\", \"gender\": 0, \"id\": 1207291, \"name\": \"Jodie Taylor\", \"order\": 78}, {\"cast_id\": 99, \"character\": \"Ikran Clan Leader (uncredited)\", \"credit_id\": \"52fe48019251416c750acb63\", \"gender\": 1, \"id\": 1186027, \"name\": \"Alicia Vela-Bailey\", \"order\": 79}, {\"cast_id\": 100, \"character\": \"Geologist (uncredited)\", \"credit_id\": \"52fe48019251416c750acb67\", \"gender\": 0, \"id\": 1207292, \"name\": \"Richard Whiteside\", \"order\": 80}, {\"cast_id\": 101, \"character\": \"Na\\'vi (uncredited)\", \"credit_id\": \"52fe48019251416c750acb6b\", \"gender\": 0, \"id\": 103259, \"name\": \"Nikie Zambo\", \"order\": 81}, {\"cast_id\": 102, \"character\": \"Ambient Room Tech / Troupe\", \"credit_id\": \"52fe48019251416c750acb6f\", \"gender\": 1, \"id\": 42286, \"name\": \"Julene Renee\", \"order\": 82}]'"
      ]
     },
     "execution_count": 32,
     "metadata": {},
     "output_type": "execute_result"
    }
   ],
   "source": [
    "all_df['cast'][0]"
   ]
  },
  {
   "cell_type": "markdown",
   "id": "0b09fec9",
   "metadata": {
    "id": "0b09fec9"
   },
   "source": [
    "<h3>As we have enormous number of cast members in every record, I am just going with top three(3) casts i.e.</h3>\n",
    "<p>-> {\"cast_id\": 242, \"character\": \"Jake Sully\", \"credit_id\": \"5602a8a7c3a3685532001c9a\", \"gender\": 2, \"id\": 65731, \"name\": \"Sam Worthington\", \"order\": 0}</p>\n",
    "<p>-> {\"cast_id\": 3, \"character\": \"Neytiri\", \"credit_id\": \"52fe48009251416c750ac9cb\", \"gender\": 1, \"id\": 8691, \"name\": \"Zoe Saldana\", \"order\": 1}</p>\n",
    "<p>-> {\"cast_id\": 25, \"character\": \"Dr. Grace Augustine\", \"credit_id\": \"52fe48009251416c750aca39\", \"gender\": 1, \"id\": 10205, \"name\": \"Sigourney Weaver\", \"order\": 2}</p>"
   ]
  },
  {
   "cell_type": "code",
   "execution_count": 34,
   "id": "c87938b1",
   "metadata": {
    "id": "c87938b1"
   },
   "outputs": [],
   "source": [
    "# Function for converting strings(in which it contains lists) into lists\n",
    "# (This function also selects top 3[three] cast names in the movie.)\n",
    "def releaseTop3(obj):\n",
    "    l=[]\n",
    "    c=0\n",
    "    for i in ast.literal_eval(obj):\n",
    "        if c<=2:\n",
    "            l.append(i['name'])\n",
    "            c+=1\n",
    "        else:\n",
    "            break\n",
    "    return l"
   ]
  },
  {
   "cell_type": "code",
   "execution_count": 35,
   "id": "c428e9af",
   "metadata": {
    "id": "c428e9af"
   },
   "outputs": [],
   "source": [
    "all_df['cast']=all_df['cast'].apply(releaseTop3)"
   ]
  },
  {
   "cell_type": "code",
   "execution_count": 36,
   "id": "082c3003",
   "metadata": {
    "colab": {
     "base_uri": "https://localhost:8080/",
     "height": 195
    },
    "executionInfo": {
     "elapsed": 22,
     "status": "ok",
     "timestamp": 1707833728790,
     "user": {
      "displayName": "Akshay Kumar Kona",
      "userId": "06952112589146711744"
     },
     "user_tz": -330
    },
    "id": "082c3003",
    "outputId": "998083ba-44fb-46bc-d092-ef938440bc54",
    "scrolled": true
   },
   "outputs": [
    {
     "data": {
      "text/html": [
       "<div>\n",
       "<style scoped>\n",
       "    .dataframe tbody tr th:only-of-type {\n",
       "        vertical-align: middle;\n",
       "    }\n",
       "\n",
       "    .dataframe tbody tr th {\n",
       "        vertical-align: top;\n",
       "    }\n",
       "\n",
       "    .dataframe thead th {\n",
       "        text-align: right;\n",
       "    }\n",
       "</style>\n",
       "<table border=\"1\" class=\"dataframe\">\n",
       "  <thead>\n",
       "    <tr style=\"text-align: right;\">\n",
       "      <th></th>\n",
       "      <th>id</th>\n",
       "      <th>title</th>\n",
       "      <th>genres</th>\n",
       "      <th>overview</th>\n",
       "      <th>keywords</th>\n",
       "      <th>cast</th>\n",
       "      <th>crew</th>\n",
       "    </tr>\n",
       "  </thead>\n",
       "  <tbody>\n",
       "    <tr>\n",
       "      <th>3871</th>\n",
       "      <td>598</td>\n",
       "      <td>City of God</td>\n",
       "      <td>[Drama, Crime]</td>\n",
       "      <td>Cidade de Deus is a shantytown that started du...</td>\n",
       "      <td>[male nudity, street gang, brazilian, photogra...</td>\n",
       "      <td>[Alexandre Rodrigues, Leandro Firmino, Phellip...</td>\n",
       "      <td>[{\"credit_id\": \"52fe425ac3a36847f8017a9f\", \"de...</td>\n",
       "    </tr>\n",
       "    <tr>\n",
       "      <th>1839</th>\n",
       "      <td>2085</td>\n",
       "      <td>Romeo Must Die</td>\n",
       "      <td>[Action, Crime, Thriller]</td>\n",
       "      <td>Two warring gang families (one African-America...</td>\n",
       "      <td>[martial arts, hip-hop, oakland, asian, asian ...</td>\n",
       "      <td>[Jet Li, Aaliyah, Isaiah Washington]</td>\n",
       "      <td>[{\"credit_id\": \"52fe4333c3a36847f804213d\", \"de...</td>\n",
       "    </tr>\n",
       "    <tr>\n",
       "      <th>4446</th>\n",
       "      <td>127867</td>\n",
       "      <td>The Brass Teapot</td>\n",
       "      <td>[Comedy, Fantasy, Thriller]</td>\n",
       "      <td>When a couple discovers that a brass teapot ma...</td>\n",
       "      <td>[fantasy, based on comic book, money, magical ...</td>\n",
       "      <td>[Juno Temple, Michael Angarano, Alexis Bledel]</td>\n",
       "      <td>[{\"credit_id\": \"52fe4b0bc3a368484e174b71\", \"de...</td>\n",
       "    </tr>\n",
       "  </tbody>\n",
       "</table>\n",
       "</div>"
      ],
      "text/plain": [
       "          id             title                       genres  \\\n",
       "3871     598       City of God               [Drama, Crime]   \n",
       "1839    2085    Romeo Must Die    [Action, Crime, Thriller]   \n",
       "4446  127867  The Brass Teapot  [Comedy, Fantasy, Thriller]   \n",
       "\n",
       "                                               overview  \\\n",
       "3871  Cidade de Deus is a shantytown that started du...   \n",
       "1839  Two warring gang families (one African-America...   \n",
       "4446  When a couple discovers that a brass teapot ma...   \n",
       "\n",
       "                                               keywords  \\\n",
       "3871  [male nudity, street gang, brazilian, photogra...   \n",
       "1839  [martial arts, hip-hop, oakland, asian, asian ...   \n",
       "4446  [fantasy, based on comic book, money, magical ...   \n",
       "\n",
       "                                                   cast  \\\n",
       "3871  [Alexandre Rodrigues, Leandro Firmino, Phellip...   \n",
       "1839               [Jet Li, Aaliyah, Isaiah Washington]   \n",
       "4446     [Juno Temple, Michael Angarano, Alexis Bledel]   \n",
       "\n",
       "                                                   crew  \n",
       "3871  [{\"credit_id\": \"52fe425ac3a36847f8017a9f\", \"de...  \n",
       "1839  [{\"credit_id\": \"52fe4333c3a36847f804213d\", \"de...  \n",
       "4446  [{\"credit_id\": \"52fe4b0bc3a368484e174b71\", \"de...  "
      ]
     },
     "execution_count": 36,
     "metadata": {},
     "output_type": "execute_result"
    }
   ],
   "source": [
    "all_df.sample(3)"
   ]
  },
  {
   "cell_type": "code",
   "execution_count": null,
   "id": "c931a1f7",
   "metadata": {
    "id": "c931a1f7"
   },
   "outputs": [],
   "source": []
  },
  {
   "cell_type": "code",
   "execution_count": 37,
   "id": "aed30d65",
   "metadata": {
    "colab": {
     "base_uri": "https://localhost:8080/",
     "height": 126
    },
    "executionInfo": {
     "elapsed": 17,
     "status": "ok",
     "timestamp": 1707833728790,
     "user": {
      "displayName": "Akshay Kumar Kona",
      "userId": "06952112589146711744"
     },
     "user_tz": -330
    },
    "id": "aed30d65",
    "outputId": "0f6552fa-ee03-4377-fe41-be5bda8fff6d",
    "scrolled": true
   },
   "outputs": [
    {
     "data": {
      "text/plain": [
       "'[{\"credit_id\": \"52fe4354c3a36847f804c0b1\", \"department\": \"Camera\", \"gender\": 2, \"id\": 997, \"job\": \"Director of Photography\", \"name\": \"Thierry Arbogast\"}, {\"credit_id\": \"52fe4354c3a36847f804c0b7\", \"department\": \"Production\", \"gender\": 0, \"id\": 2424, \"job\": \"Casting\", \"name\": \"Pierre-Jacques B\\\\u00e9nichou\"}, {\"credit_id\": \"52fe4354c3a36847f804c0e9\", \"department\": \"Production\", \"gender\": 2, \"id\": 11204, \"job\": \"Executive Producer\", \"name\": \"Pierre Grunstein\"}, {\"credit_id\": \"52fe4354c3a36847f804c0bd\", \"department\": \"Art\", \"gender\": 0, \"id\": 13839, \"job\": \"Set Designer\", \"name\": \"Aline Bonetto\"}, {\"credit_id\": \"52fe4354c3a36847f804c0f5\", \"department\": \"Editing\", \"gender\": 2, \"id\": 19379, \"job\": \"Editor\", \"name\": \"Yannick Kergoat\"}, {\"credit_id\": \"52fe4354c3a36847f804c087\", \"department\": \"Directing\", \"gender\": 2, \"id\": 20674, \"job\": \"Director\", \"name\": \"Thomas Langmann\"}, {\"credit_id\": \"52fe4354c3a36847f804c08d\", \"department\": \"Production\", \"gender\": 2, \"id\": 20674, \"job\": \"Producer\", \"name\": \"Thomas Langmann\"}, {\"credit_id\": \"52fe4354c3a36847f804c093\", \"department\": \"Writing\", \"gender\": 2, \"id\": 20674, \"job\": \"Screenplay\", \"name\": \"Thomas Langmann\"}, {\"credit_id\": \"52fe4354c3a36847f804c06f\", \"department\": \"Writing\", \"gender\": 2, \"id\": 24530, \"job\": \"Author\", \"name\": \"Ren\\\\u00e9 Goscinny\"}, {\"credit_id\": \"52fe4354c3a36847f804c075\", \"department\": \"Writing\", \"gender\": 0, \"id\": 24531, \"job\": \"Author\", \"name\": \"Albert Uderzo\"}, {\"credit_id\": \"52fe4354c3a36847f804c07b\", \"department\": \"Directing\", \"gender\": 2, \"id\": 24886, \"job\": \"Director\", \"name\": \"Fr\\\\u00e9d\\\\u00e9ric Forestier\"}, {\"credit_id\": \"52fe4354c3a36847f804c081\", \"department\": \"Production\", \"gender\": 2, \"id\": 24886, \"job\": \"Producer\", \"name\": \"Fr\\\\u00e9d\\\\u00e9ric Forestier\"}, {\"credit_id\": \"52fe4354c3a36847f804c099\", \"department\": \"Writing\", \"gender\": 0, \"id\": 24887, \"job\": \"Screenplay\", \"name\": \"Alexandre Charlot\"}, {\"credit_id\": \"52fe4354c3a36847f804c09f\", \"department\": \"Writing\", \"gender\": 2, \"id\": 24888, \"job\": \"Screenplay\", \"name\": \"Olivier Dazat\"}, {\"credit_id\": \"52fe4354c3a36847f804c0a5\", \"department\": \"Writing\", \"gender\": 0, \"id\": 24889, \"job\": \"Screenplay\", \"name\": \"Franck Magnier\"}, {\"credit_id\": \"52fe4354c3a36847f804c0ab\", \"department\": \"Sound\", \"gender\": 0, \"id\": 24890, \"job\": \"Original Music Composer\", \"name\": \"Fr\\\\u00e9d\\\\u00e9ric Talgorn\"}, {\"credit_id\": \"52fe4354c3a36847f804c0e3\", \"department\": \"Production\", \"gender\": 0, \"id\": 47814, \"job\": \"Executive Producer\", \"name\": \"Jean-Louis Monthieux\"}, {\"credit_id\": \"52fe4354c3a36847f804c0ef\", \"department\": \"Costume & Make-Up\", \"gender\": 1, \"id\": 47815, \"job\": \"Costume Design\", \"name\": \"Madeline Fontaine\"}, {\"credit_id\": \"52fe4354c3a36847f804c0fb\", \"department\": \"Sound\", \"gender\": 0, \"id\": 47816, \"job\": \"Sound Designer\", \"name\": \"Michel Kharat\"}, {\"credit_id\": \"52fe4354c3a36847f804c101\", \"department\": \"Sound\", \"gender\": 0, \"id\": 47817, \"job\": \"Sound Designer\", \"name\": \"Jean Goudier\"}, {\"credit_id\": \"52fe4354c3a36847f804c107\", \"department\": \"Sound\", \"gender\": 2, \"id\": 47818, \"job\": \"Sound Designer\", \"name\": \"Jean-Paul Hurier\"}, {\"credit_id\": \"52fe4354c3a36847f804c10d\", \"department\": \"Sound\", \"gender\": 2, \"id\": 47819, \"job\": \"Sound Designer\", \"name\": \"Marc Doisne\"}, {\"credit_id\": \"592e3284c3a36860b9003bb5\", \"department\": \"Visual Effects\", \"gender\": 0, \"id\": 1371285, \"job\": \"VFX Supervisor\", \"name\": \"Christian Rajaud\"}]'"
      ]
     },
     "execution_count": 37,
     "metadata": {},
     "output_type": "execute_result"
    }
   ],
   "source": [
    "all_df['crew'][235]"
   ]
  },
  {
   "cell_type": "markdown",
   "id": "469cdf61",
   "metadata": {
    "id": "469cdf61"
   },
   "source": [
    "### As we have enormous number of crew members in every record, I am just going with Director"
   ]
  },
  {
   "cell_type": "code",
   "execution_count": 39,
   "id": "8a3f4bbc",
   "metadata": {
    "id": "8a3f4bbc"
   },
   "outputs": [],
   "source": [
    "# Function for converting strings(in which it contains lists) into lists and for Selecting movie director's name.\n",
    "def release_director_name(obj):\n",
    "    l=[]\n",
    "    for i in ast.literal_eval(obj):\n",
    "        if i['job']=='Director':\n",
    "            l.append(i['name'])\n",
    "    return l"
   ]
  },
  {
   "cell_type": "code",
   "execution_count": 40,
   "id": "45109eb4",
   "metadata": {
    "colab": {
     "base_uri": "https://localhost:8080/"
    },
    "executionInfo": {
     "elapsed": 3833,
     "status": "ok",
     "timestamp": 1707833732612,
     "user": {
      "displayName": "Akshay Kumar Kona",
      "userId": "06952112589146711744"
     },
     "user_tz": -330
    },
    "id": "45109eb4",
    "outputId": "6a338328-8766-493a-ae61-3ac59a85160f"
   },
   "outputs": [
    {
     "data": {
      "text/plain": [
       "0                                [James Cameron]\n",
       "1                               [Gore Verbinski]\n",
       "2                                   [Sam Mendes]\n",
       "3                            [Christopher Nolan]\n",
       "4                               [Andrew Stanton]\n",
       "                          ...                   \n",
       "4804                          [Robert Rodriguez]\n",
       "4805                              [Edward Burns]\n",
       "4806                               [Scott Smith]\n",
       "4807                               [Daniel Hsia]\n",
       "4808    [Brian Herzlinger, Jon Gunn, Brett Winn]\n",
       "Name: crew, Length: 4806, dtype: object"
      ]
     },
     "execution_count": 40,
     "metadata": {},
     "output_type": "execute_result"
    }
   ],
   "source": [
    "all_df['crew'].apply(release_director_name)"
   ]
  },
  {
   "cell_type": "code",
   "execution_count": 41,
   "id": "6e03868d",
   "metadata": {
    "colab": {
     "base_uri": "https://localhost:8080/",
     "height": 90
    },
    "executionInfo": {
     "elapsed": 25,
     "status": "ok",
     "timestamp": 1707833732612,
     "user": {
      "displayName": "Akshay Kumar Kona",
      "userId": "06952112589146711744"
     },
     "user_tz": -330
    },
    "id": "6e03868d",
    "outputId": "106e6797-4771-4a49-98d0-237c8a964ee4"
   },
   "outputs": [
    {
     "data": {
      "text/plain": [
       "'[{\"credit_id\": \"58ce021b9251415a390165d9\", \"department\": \"Production\", \"gender\": 2, \"id\": 6888, \"job\": \"Executive Producer\", \"name\": \"Clark Peterson\"}, {\"credit_id\": \"58ce0232c3a36850e90157da\", \"department\": \"Production\", \"gender\": 2, \"id\": 61051, \"job\": \"Executive Producer\", \"name\": \"Andrew Reimer\"}, {\"credit_id\": \"52fe44e8c3a368484e03da8d\", \"department\": \"Directing\", \"gender\": 2, \"id\": 85563, \"job\": \"Director\", \"name\": \"Brian Herzlinger\"}, {\"credit_id\": \"52fe44e8c3a368484e03da87\", \"department\": \"Directing\", \"gender\": 2, \"id\": 94471, \"job\": \"Director\", \"name\": \"Jon Gunn\"}, {\"credit_id\": \"52fe44e8c3a368484e03da97\", \"department\": \"Directing\", \"gender\": 0, \"id\": 997560, \"job\": \"Director\", \"name\": \"Brett Winn\"}]'"
      ]
     },
     "execution_count": 41,
     "metadata": {},
     "output_type": "execute_result"
    }
   ],
   "source": [
    "all_df['crew'][4808]"
   ]
  },
  {
   "cell_type": "code",
   "execution_count": 42,
   "id": "a6edec15",
   "metadata": {
    "id": "a6edec15"
   },
   "outputs": [],
   "source": [
    "all_df['Director_name']=all_df['crew'].apply(release_director_name)"
   ]
  },
  {
   "cell_type": "code",
   "execution_count": 43,
   "id": "9c883ea2",
   "metadata": {
    "colab": {
     "base_uri": "https://localhost:8080/",
     "height": 146
    },
    "executionInfo": {
     "elapsed": 14,
     "status": "ok",
     "timestamp": 1707833738748,
     "user": {
      "displayName": "Akshay Kumar Kona",
      "userId": "06952112589146711744"
     },
     "user_tz": -330
    },
    "id": "9c883ea2",
    "outputId": "aa05fa6e-7b8a-4a90-daa2-97794ff44ef6"
   },
   "outputs": [
    {
     "data": {
      "text/html": [
       "<div>\n",
       "<style scoped>\n",
       "    .dataframe tbody tr th:only-of-type {\n",
       "        vertical-align: middle;\n",
       "    }\n",
       "\n",
       "    .dataframe tbody tr th {\n",
       "        vertical-align: top;\n",
       "    }\n",
       "\n",
       "    .dataframe thead th {\n",
       "        text-align: right;\n",
       "    }\n",
       "</style>\n",
       "<table border=\"1\" class=\"dataframe\">\n",
       "  <thead>\n",
       "    <tr style=\"text-align: right;\">\n",
       "      <th></th>\n",
       "      <th>id</th>\n",
       "      <th>title</th>\n",
       "      <th>genres</th>\n",
       "      <th>overview</th>\n",
       "      <th>keywords</th>\n",
       "      <th>cast</th>\n",
       "      <th>crew</th>\n",
       "      <th>Director_name</th>\n",
       "    </tr>\n",
       "  </thead>\n",
       "  <tbody>\n",
       "    <tr>\n",
       "      <th>0</th>\n",
       "      <td>19995</td>\n",
       "      <td>Avatar</td>\n",
       "      <td>[Action, Adventure, Fantasy, Science Fiction]</td>\n",
       "      <td>In the 22nd century, a paraplegic Marine is di...</td>\n",
       "      <td>[culture clash, future, space war, space colon...</td>\n",
       "      <td>[Sam Worthington, Zoe Saldana, Sigourney Weaver]</td>\n",
       "      <td>[{\"credit_id\": \"52fe48009251416c750aca23\", \"de...</td>\n",
       "      <td>[James Cameron]</td>\n",
       "    </tr>\n",
       "    <tr>\n",
       "      <th>1</th>\n",
       "      <td>285</td>\n",
       "      <td>Pirates of the Caribbean: At World's End</td>\n",
       "      <td>[Adventure, Fantasy, Action]</td>\n",
       "      <td>Captain Barbossa, long believed to be dead, ha...</td>\n",
       "      <td>[ocean, drug abuse, exotic island, east india ...</td>\n",
       "      <td>[Johnny Depp, Orlando Bloom, Keira Knightley]</td>\n",
       "      <td>[{\"credit_id\": \"52fe4232c3a36847f800b579\", \"de...</td>\n",
       "      <td>[Gore Verbinski]</td>\n",
       "    </tr>\n",
       "  </tbody>\n",
       "</table>\n",
       "</div>"
      ],
      "text/plain": [
       "      id                                     title  \\\n",
       "0  19995                                    Avatar   \n",
       "1    285  Pirates of the Caribbean: At World's End   \n",
       "\n",
       "                                          genres  \\\n",
       "0  [Action, Adventure, Fantasy, Science Fiction]   \n",
       "1                   [Adventure, Fantasy, Action]   \n",
       "\n",
       "                                            overview  \\\n",
       "0  In the 22nd century, a paraplegic Marine is di...   \n",
       "1  Captain Barbossa, long believed to be dead, ha...   \n",
       "\n",
       "                                            keywords  \\\n",
       "0  [culture clash, future, space war, space colon...   \n",
       "1  [ocean, drug abuse, exotic island, east india ...   \n",
       "\n",
       "                                               cast  \\\n",
       "0  [Sam Worthington, Zoe Saldana, Sigourney Weaver]   \n",
       "1     [Johnny Depp, Orlando Bloom, Keira Knightley]   \n",
       "\n",
       "                                                crew     Director_name  \n",
       "0  [{\"credit_id\": \"52fe48009251416c750aca23\", \"de...   [James Cameron]  \n",
       "1  [{\"credit_id\": \"52fe4232c3a36847f800b579\", \"de...  [Gore Verbinski]  "
      ]
     },
     "execution_count": 43,
     "metadata": {},
     "output_type": "execute_result"
    }
   ],
   "source": [
    "all_df.head(2)"
   ]
  },
  {
   "cell_type": "code",
   "execution_count": 44,
   "id": "4c1d16a2",
   "metadata": {
    "id": "4c1d16a2"
   },
   "outputs": [],
   "source": [
    "all_df.drop('crew',axis=1,inplace=True)"
   ]
  },
  {
   "cell_type": "code",
   "execution_count": 45,
   "id": "788a387e",
   "metadata": {
    "colab": {
     "base_uri": "https://localhost:8080/",
     "height": 292
    },
    "executionInfo": {
     "elapsed": 13,
     "status": "ok",
     "timestamp": 1707833738748,
     "user": {
      "displayName": "Akshay Kumar Kona",
      "userId": "06952112589146711744"
     },
     "user_tz": -330
    },
    "id": "788a387e",
    "outputId": "365fb6cd-e817-423f-f748-2c3cfd1abd9a"
   },
   "outputs": [
    {
     "data": {
      "text/html": [
       "<div>\n",
       "<style scoped>\n",
       "    .dataframe tbody tr th:only-of-type {\n",
       "        vertical-align: middle;\n",
       "    }\n",
       "\n",
       "    .dataframe tbody tr th {\n",
       "        vertical-align: top;\n",
       "    }\n",
       "\n",
       "    .dataframe thead th {\n",
       "        text-align: right;\n",
       "    }\n",
       "</style>\n",
       "<table border=\"1\" class=\"dataframe\">\n",
       "  <thead>\n",
       "    <tr style=\"text-align: right;\">\n",
       "      <th></th>\n",
       "      <th>id</th>\n",
       "      <th>title</th>\n",
       "      <th>genres</th>\n",
       "      <th>overview</th>\n",
       "      <th>keywords</th>\n",
       "      <th>cast</th>\n",
       "      <th>Director_name</th>\n",
       "    </tr>\n",
       "  </thead>\n",
       "  <tbody>\n",
       "    <tr>\n",
       "      <th>3664</th>\n",
       "      <td>12486</td>\n",
       "      <td>Farce of the Penguins</td>\n",
       "      <td>[Comedy, Documentary]</td>\n",
       "      <td>In this spoof of \"March of the Penguins,\" natu...</td>\n",
       "      <td>[penguin, balzen, antarctic]</td>\n",
       "      <td>[Samuel L. Jackson, Jim Belushi, Whoopi Goldberg]</td>\n",
       "      <td>[Bob Saget]</td>\n",
       "    </tr>\n",
       "    <tr>\n",
       "      <th>4308</th>\n",
       "      <td>429</td>\n",
       "      <td>The Good, the Bad and the Ugly</td>\n",
       "      <td>[Western]</td>\n",
       "      <td>While the Civil War rages between the Union an...</td>\n",
       "      <td>[bounty hunter, refugee, gold, anti hero, gall...</td>\n",
       "      <td>[Eli Wallach, Clint Eastwood, Lee Van Cleef]</td>\n",
       "      <td>[Sergio Leone]</td>\n",
       "    </tr>\n",
       "    <tr>\n",
       "      <th>2673</th>\n",
       "      <td>2604</td>\n",
       "      <td>Born on the Fourth of July</td>\n",
       "      <td>[Drama, War]</td>\n",
       "      <td>The biography of Ron Kovic. Paralyzed in the V...</td>\n",
       "      <td>[vietnam veteran, post traumatic stress  disor...</td>\n",
       "      <td>[Tom Cruise, Raymond J. Barry, Caroline Kava]</td>\n",
       "      <td>[Oliver Stone]</td>\n",
       "    </tr>\n",
       "    <tr>\n",
       "      <th>1419</th>\n",
       "      <td>94348</td>\n",
       "      <td>Alex Cross</td>\n",
       "      <td>[Action, Thriller, Crime, Mystery]</td>\n",
       "      <td>After Washington DC detective Alex Cross is to...</td>\n",
       "      <td>[ex military]</td>\n",
       "      <td>[Tyler Perry, Rachel Nichols, Jean Reno]</td>\n",
       "      <td>[Rob Cohen]</td>\n",
       "    </tr>\n",
       "    <tr>\n",
       "      <th>3123</th>\n",
       "      <td>245846</td>\n",
       "      <td>Strangerland</td>\n",
       "      <td>[Drama, Thriller]</td>\n",
       "      <td>Newly arrived to a remote desert town, Catheri...</td>\n",
       "      <td>[australia, missing child, outback, alcoholic ...</td>\n",
       "      <td>[Nicole Kidman, Joseph Fiennes, Hugo Weaving]</td>\n",
       "      <td>[Kim Farrant]</td>\n",
       "    </tr>\n",
       "  </tbody>\n",
       "</table>\n",
       "</div>"
      ],
      "text/plain": [
       "          id                           title  \\\n",
       "3664   12486           Farce of the Penguins   \n",
       "4308     429  The Good, the Bad and the Ugly   \n",
       "2673    2604      Born on the Fourth of July   \n",
       "1419   94348                      Alex Cross   \n",
       "3123  245846                    Strangerland   \n",
       "\n",
       "                                  genres  \\\n",
       "3664               [Comedy, Documentary]   \n",
       "4308                           [Western]   \n",
       "2673                        [Drama, War]   \n",
       "1419  [Action, Thriller, Crime, Mystery]   \n",
       "3123                   [Drama, Thriller]   \n",
       "\n",
       "                                               overview  \\\n",
       "3664  In this spoof of \"March of the Penguins,\" natu...   \n",
       "4308  While the Civil War rages between the Union an...   \n",
       "2673  The biography of Ron Kovic. Paralyzed in the V...   \n",
       "1419  After Washington DC detective Alex Cross is to...   \n",
       "3123  Newly arrived to a remote desert town, Catheri...   \n",
       "\n",
       "                                               keywords  \\\n",
       "3664                       [penguin, balzen, antarctic]   \n",
       "4308  [bounty hunter, refugee, gold, anti hero, gall...   \n",
       "2673  [vietnam veteran, post traumatic stress  disor...   \n",
       "1419                                      [ex military]   \n",
       "3123  [australia, missing child, outback, alcoholic ...   \n",
       "\n",
       "                                                   cast   Director_name  \n",
       "3664  [Samuel L. Jackson, Jim Belushi, Whoopi Goldberg]     [Bob Saget]  \n",
       "4308       [Eli Wallach, Clint Eastwood, Lee Van Cleef]  [Sergio Leone]  \n",
       "2673      [Tom Cruise, Raymond J. Barry, Caroline Kava]  [Oliver Stone]  \n",
       "1419           [Tyler Perry, Rachel Nichols, Jean Reno]     [Rob Cohen]  \n",
       "3123      [Nicole Kidman, Joseph Fiennes, Hugo Weaving]   [Kim Farrant]  "
      ]
     },
     "execution_count": 45,
     "metadata": {},
     "output_type": "execute_result"
    }
   ],
   "source": [
    "all_df.sample(5)"
   ]
  },
  {
   "cell_type": "markdown",
   "id": "720e1edb",
   "metadata": {
    "id": "720e1edb"
   },
   "source": [
    "#### NOW,  WE HAVE TO REMOVE ALL THE SPACE BETWEEN EVERY WORD IN EVERY VARIABLE OF TAGS TO AVOID CONFUSION FOR THE MODEL i.e.\n",
    "#### => we have to convert \"Vishal Raj\" a name to \"VishalRaj\"\n",
    "##### AS TAGS WILL ALWAYS HAVE NO SPACE B/W THEM"
   ]
  },
  {
   "cell_type": "code",
   "execution_count": 47,
   "id": "93faff0f",
   "metadata": {
    "id": "93faff0f"
   },
   "outputs": [],
   "source": [
    "all_df['genres']=all_df['genres'].apply(lambda i:[w.replace(\" \",\"\") for w in i])\n",
    "all_df['keywords']=all_df['keywords'].apply(lambda i:[w.replace(\" \",\"\") for w in i])\n",
    "all_df['cast']=all_df['cast'].apply(lambda i:[w.replace(\" \",\"\") for w in i])\n",
    "all_df['Director_name']=all_df['Director_name'].apply(lambda i:[w.replace(\" \",\"\") for w in i])"
   ]
  },
  {
   "cell_type": "code",
   "execution_count": 48,
   "id": "c6efedae",
   "metadata": {
    "colab": {
     "base_uri": "https://localhost:8080/",
     "height": 390
    },
    "executionInfo": {
     "elapsed": 12,
     "status": "ok",
     "timestamp": 1707833738748,
     "user": {
      "displayName": "Akshay Kumar Kona",
      "userId": "06952112589146711744"
     },
     "user_tz": -330
    },
    "id": "c6efedae",
    "outputId": "d80da8f2-f85a-4e85-e74e-eb38fb48623e"
   },
   "outputs": [
    {
     "data": {
      "text/html": [
       "<div>\n",
       "<style scoped>\n",
       "    .dataframe tbody tr th:only-of-type {\n",
       "        vertical-align: middle;\n",
       "    }\n",
       "\n",
       "    .dataframe tbody tr th {\n",
       "        vertical-align: top;\n",
       "    }\n",
       "\n",
       "    .dataframe thead th {\n",
       "        text-align: right;\n",
       "    }\n",
       "</style>\n",
       "<table border=\"1\" class=\"dataframe\">\n",
       "  <thead>\n",
       "    <tr style=\"text-align: right;\">\n",
       "      <th></th>\n",
       "      <th>id</th>\n",
       "      <th>title</th>\n",
       "      <th>genres</th>\n",
       "      <th>overview</th>\n",
       "      <th>keywords</th>\n",
       "      <th>cast</th>\n",
       "      <th>Director_name</th>\n",
       "    </tr>\n",
       "  </thead>\n",
       "  <tbody>\n",
       "    <tr>\n",
       "      <th>577</th>\n",
       "      <td>395</td>\n",
       "      <td>AVP: Alien vs. Predator</td>\n",
       "      <td>[Adventure, ScienceFiction, Action]</td>\n",
       "      <td>When scientists discover something in the Arct...</td>\n",
       "      <td>[savingtheworld, predator, laserpointer, space...</td>\n",
       "      <td>[SanaaLathan, RaoulBova, EwenBremner]</td>\n",
       "      <td>[PaulW.S.Anderson]</td>\n",
       "    </tr>\n",
       "    <tr>\n",
       "      <th>3395</th>\n",
       "      <td>1956</td>\n",
       "      <td>Gerry</td>\n",
       "      <td>[Mystery, Drama, Adventure]</td>\n",
       "      <td>Two friends named Gerry become lost in the des...</td>\n",
       "      <td>[desperation, highway, wilderness, gettinglost...</td>\n",
       "      <td>[CaseyAffleck, MattDamon]</td>\n",
       "      <td>[GusVanSant]</td>\n",
       "    </tr>\n",
       "    <tr>\n",
       "      <th>2182</th>\n",
       "      <td>61012</td>\n",
       "      <td>Silent Hill: Revelation 3D</td>\n",
       "      <td>[Thriller, Horror, Mystery]</td>\n",
       "      <td>Heather Mason and her father have been on the ...</td>\n",
       "      <td>[femaleprotagonist, anotherdimension, basedonv...</td>\n",
       "      <td>[AdelaideClemens, KitHarington, SeanBean]</td>\n",
       "      <td>[MichaelJ.Bassett]</td>\n",
       "    </tr>\n",
       "    <tr>\n",
       "      <th>3708</th>\n",
       "      <td>65749</td>\n",
       "      <td>Tango</td>\n",
       "      <td>[Drama, Foreign, Romance]</td>\n",
       "      <td>A dangerous love affair inspires a director to...</td>\n",
       "      <td>[dancer, tango, musical, love]</td>\n",
       "      <td>[MiguelÁngelSolá, CeciliaNarova, MíaMaestro]</td>\n",
       "      <td>[CarlosSaura]</td>\n",
       "    </tr>\n",
       "    <tr>\n",
       "      <th>3696</th>\n",
       "      <td>10822</td>\n",
       "      <td>Savage Grace</td>\n",
       "      <td>[Drama]</td>\n",
       "      <td>This examination of a famous scandal from the ...</td>\n",
       "      <td>[mother, sex, adultery, nudity, scandal, son, ...</td>\n",
       "      <td>[JulianneMoore, StephenDillane, EddieRedmayne]</td>\n",
       "      <td>[TomKalin]</td>\n",
       "    </tr>\n",
       "    <tr>\n",
       "      <th>2609</th>\n",
       "      <td>115</td>\n",
       "      <td>The Big Lebowski</td>\n",
       "      <td>[Comedy, Crime]</td>\n",
       "      <td>Jeffrey \"The Dude\" Lebowski, a Los Angeles sla...</td>\n",
       "      <td>[whiterussian, dude, bowling, vietnamveteran, ...</td>\n",
       "      <td>[JeffBridges, JohnGoodman, JulianneMoore]</td>\n",
       "      <td>[JoelCoen]</td>\n",
       "    </tr>\n",
       "    <tr>\n",
       "      <th>114</th>\n",
       "      <td>674</td>\n",
       "      <td>Harry Potter and the Goblet of Fire</td>\n",
       "      <td>[Adventure, Fantasy, Family]</td>\n",
       "      <td>Harry starts his fourth year at Hogwarts, comp...</td>\n",
       "      <td>[magic, dyinganddeath, broom, sorcerer'sappren...</td>\n",
       "      <td>[DanielRadcliffe, RupertGrint, EmmaWatson]</td>\n",
       "      <td>[MikeNewell]</td>\n",
       "    </tr>\n",
       "  </tbody>\n",
       "</table>\n",
       "</div>"
      ],
      "text/plain": [
       "         id                                title  \\\n",
       "577     395              AVP: Alien vs. Predator   \n",
       "3395   1956                                Gerry   \n",
       "2182  61012           Silent Hill: Revelation 3D   \n",
       "3708  65749                                Tango   \n",
       "3696  10822                         Savage Grace   \n",
       "2609    115                     The Big Lebowski   \n",
       "114     674  Harry Potter and the Goblet of Fire   \n",
       "\n",
       "                                   genres  \\\n",
       "577   [Adventure, ScienceFiction, Action]   \n",
       "3395          [Mystery, Drama, Adventure]   \n",
       "2182          [Thriller, Horror, Mystery]   \n",
       "3708            [Drama, Foreign, Romance]   \n",
       "3696                              [Drama]   \n",
       "2609                      [Comedy, Crime]   \n",
       "114          [Adventure, Fantasy, Family]   \n",
       "\n",
       "                                               overview  \\\n",
       "577   When scientists discover something in the Arct...   \n",
       "3395  Two friends named Gerry become lost in the des...   \n",
       "2182  Heather Mason and her father have been on the ...   \n",
       "3708  A dangerous love affair inspires a director to...   \n",
       "3696  This examination of a famous scandal from the ...   \n",
       "2609  Jeffrey \"The Dude\" Lebowski, a Los Angeles sla...   \n",
       "114   Harry starts his fourth year at Hogwarts, comp...   \n",
       "\n",
       "                                               keywords  \\\n",
       "577   [savingtheworld, predator, laserpointer, space...   \n",
       "3395  [desperation, highway, wilderness, gettinglost...   \n",
       "2182  [femaleprotagonist, anotherdimension, basedonv...   \n",
       "3708                     [dancer, tango, musical, love]   \n",
       "3696  [mother, sex, adultery, nudity, scandal, son, ...   \n",
       "2609  [whiterussian, dude, bowling, vietnamveteran, ...   \n",
       "114   [magic, dyinganddeath, broom, sorcerer'sappren...   \n",
       "\n",
       "                                                cast       Director_name  \n",
       "577            [SanaaLathan, RaoulBova, EwenBremner]  [PaulW.S.Anderson]  \n",
       "3395                       [CaseyAffleck, MattDamon]        [GusVanSant]  \n",
       "2182       [AdelaideClemens, KitHarington, SeanBean]  [MichaelJ.Bassett]  \n",
       "3708    [MiguelÁngelSolá, CeciliaNarova, MíaMaestro]       [CarlosSaura]  \n",
       "3696  [JulianneMoore, StephenDillane, EddieRedmayne]          [TomKalin]  \n",
       "2609       [JeffBridges, JohnGoodman, JulianneMoore]          [JoelCoen]  \n",
       "114       [DanielRadcliffe, RupertGrint, EmmaWatson]        [MikeNewell]  "
      ]
     },
     "execution_count": 48,
     "metadata": {},
     "output_type": "execute_result"
    }
   ],
   "source": [
    "all_df.sample(7)"
   ]
  },
  {
   "cell_type": "code",
   "execution_count": null,
   "id": "0b8cef2a",
   "metadata": {
    "id": "0b8cef2a"
   },
   "outputs": [],
   "source": []
  },
  {
   "cell_type": "code",
   "execution_count": 49,
   "id": "c4286a7a",
   "metadata": {
    "colab": {
     "base_uri": "https://localhost:8080/",
     "height": 390
    },
    "executionInfo": {
     "elapsed": 11,
     "status": "ok",
     "timestamp": 1707833738748,
     "user": {
      "displayName": "Akshay Kumar Kona",
      "userId": "06952112589146711744"
     },
     "user_tz": -330
    },
    "id": "c4286a7a",
    "outputId": "36bf8e41-a6e9-4d42-f92c-299f06c4eecb"
   },
   "outputs": [
    {
     "data": {
      "text/html": [
       "<div>\n",
       "<style scoped>\n",
       "    .dataframe tbody tr th:only-of-type {\n",
       "        vertical-align: middle;\n",
       "    }\n",
       "\n",
       "    .dataframe tbody tr th {\n",
       "        vertical-align: top;\n",
       "    }\n",
       "\n",
       "    .dataframe thead th {\n",
       "        text-align: right;\n",
       "    }\n",
       "</style>\n",
       "<table border=\"1\" class=\"dataframe\">\n",
       "  <thead>\n",
       "    <tr style=\"text-align: right;\">\n",
       "      <th></th>\n",
       "      <th>id</th>\n",
       "      <th>title</th>\n",
       "      <th>genres</th>\n",
       "      <th>overview</th>\n",
       "      <th>keywords</th>\n",
       "      <th>cast</th>\n",
       "      <th>Director_name</th>\n",
       "    </tr>\n",
       "  </thead>\n",
       "  <tbody>\n",
       "    <tr>\n",
       "      <th>3210</th>\n",
       "      <td>13483</td>\n",
       "      <td>Awake</td>\n",
       "      <td>[Thriller, Crime, Mystery]</td>\n",
       "      <td>[While, undergoing, heart, surgery,, a, man, e...</td>\n",
       "      <td>[]</td>\n",
       "      <td>[HaydenChristensen, JessicaAlba, TerrenceHoward]</td>\n",
       "      <td>[JobyHarold]</td>\n",
       "    </tr>\n",
       "    <tr>\n",
       "      <th>312</th>\n",
       "      <td>22972</td>\n",
       "      <td>Green Zone</td>\n",
       "      <td>[War, Action, Adventure, Drama, Thriller]</td>\n",
       "      <td>[During, the, U.S.-led, occupation, of, Baghda...</td>\n",
       "      <td>[weaponofmassdestruction, baghdad, iraqi ]</td>\n",
       "      <td>[MattDamon, GregKinnear, BrendanGleeson]</td>\n",
       "      <td>[PaulGreengrass]</td>\n",
       "    </tr>\n",
       "    <tr>\n",
       "      <th>682</th>\n",
       "      <td>12177</td>\n",
       "      <td>The Love Guru</td>\n",
       "      <td>[Comedy, Romance]</td>\n",
       "      <td>[Born, in, America, and, raised, in, an, India...</td>\n",
       "      <td>[sport, icehockey, guru, comedy, bollywood, in...</td>\n",
       "      <td>[MikeMyers, JessicaAlba, JustinTimberlake]</td>\n",
       "      <td>[MarcoSchnabel]</td>\n",
       "    </tr>\n",
       "    <tr>\n",
       "      <th>2437</th>\n",
       "      <td>7304</td>\n",
       "      <td>Running Scared</td>\n",
       "      <td>[Action, Crime, Drama, Thriller]</td>\n",
       "      <td>[After, a, drug-op, gone, bad,, Joey, Gazelle,...</td>\n",
       "      <td>[icehockey, racism, pedophile, throatslitting,...</td>\n",
       "      <td>[PaulWalker, CameronBright, VeraFarmiga]</td>\n",
       "      <td>[WayneKramer]</td>\n",
       "    </tr>\n",
       "    <tr>\n",
       "      <th>444</th>\n",
       "      <td>4147</td>\n",
       "      <td>Road to Perdition</td>\n",
       "      <td>[Thriller, Crime, Drama]</td>\n",
       "      <td>[Mike, Sullivan, works, as, a, hit, man, for, ...</td>\n",
       "      <td>[basedongraphicnovel, homework, shotinthechin,...</td>\n",
       "      <td>[TomHanks, TylerHoechlin, JenniferJasonLeigh]</td>\n",
       "      <td>[SamMendes]</td>\n",
       "    </tr>\n",
       "    <tr>\n",
       "      <th>4765</th>\n",
       "      <td>250902</td>\n",
       "      <td>The Image Revolution</td>\n",
       "      <td>[Documentary]</td>\n",
       "      <td>[Twenty, years, ago,, seven, superstar, artist...</td>\n",
       "      <td>[comicbook, biography, comicbookartist, imagec...</td>\n",
       "      <td>[ToddMcFarlane, RobLiefeld, JimLee]</td>\n",
       "      <td>[PatrickMeaney]</td>\n",
       "    </tr>\n",
       "    <tr>\n",
       "      <th>1459</th>\n",
       "      <td>9311</td>\n",
       "      <td>Smilla's Sense of Snow</td>\n",
       "      <td>[Action, Crime, Drama, Mystery, Thriller]</td>\n",
       "      <td>[Smilla, Jaspersen,, half, Danish,, half, Gree...</td>\n",
       "      <td>[copenhagen, inuit, comet, arctic, snow]</td>\n",
       "      <td>[JuliaOrmond, GabrielByrne, RichardHarris]</td>\n",
       "      <td>[BilleAugust]</td>\n",
       "    </tr>\n",
       "  </tbody>\n",
       "</table>\n",
       "</div>"
      ],
      "text/plain": [
       "          id                   title  \\\n",
       "3210   13483                   Awake   \n",
       "312    22972              Green Zone   \n",
       "682    12177           The Love Guru   \n",
       "2437    7304          Running Scared   \n",
       "444     4147       Road to Perdition   \n",
       "4765  250902    The Image Revolution   \n",
       "1459    9311  Smilla's Sense of Snow   \n",
       "\n",
       "                                         genres  \\\n",
       "3210                 [Thriller, Crime, Mystery]   \n",
       "312   [War, Action, Adventure, Drama, Thriller]   \n",
       "682                           [Comedy, Romance]   \n",
       "2437           [Action, Crime, Drama, Thriller]   \n",
       "444                    [Thriller, Crime, Drama]   \n",
       "4765                              [Documentary]   \n",
       "1459  [Action, Crime, Drama, Mystery, Thriller]   \n",
       "\n",
       "                                               overview  \\\n",
       "3210  [While, undergoing, heart, surgery,, a, man, e...   \n",
       "312   [During, the, U.S.-led, occupation, of, Baghda...   \n",
       "682   [Born, in, America, and, raised, in, an, India...   \n",
       "2437  [After, a, drug-op, gone, bad,, Joey, Gazelle,...   \n",
       "444   [Mike, Sullivan, works, as, a, hit, man, for, ...   \n",
       "4765  [Twenty, years, ago,, seven, superstar, artist...   \n",
       "1459  [Smilla, Jaspersen,, half, Danish,, half, Gree...   \n",
       "\n",
       "                                               keywords  \\\n",
       "3210                                                 []   \n",
       "312          [weaponofmassdestruction, baghdad, iraqi ]   \n",
       "682   [sport, icehockey, guru, comedy, bollywood, in...   \n",
       "2437  [icehockey, racism, pedophile, throatslitting,...   \n",
       "444   [basedongraphicnovel, homework, shotinthechin,...   \n",
       "4765  [comicbook, biography, comicbookartist, imagec...   \n",
       "1459           [copenhagen, inuit, comet, arctic, snow]   \n",
       "\n",
       "                                                  cast     Director_name  \n",
       "3210  [HaydenChristensen, JessicaAlba, TerrenceHoward]      [JobyHarold]  \n",
       "312           [MattDamon, GregKinnear, BrendanGleeson]  [PaulGreengrass]  \n",
       "682         [MikeMyers, JessicaAlba, JustinTimberlake]   [MarcoSchnabel]  \n",
       "2437          [PaulWalker, CameronBright, VeraFarmiga]     [WayneKramer]  \n",
       "444      [TomHanks, TylerHoechlin, JenniferJasonLeigh]       [SamMendes]  \n",
       "4765               [ToddMcFarlane, RobLiefeld, JimLee]   [PatrickMeaney]  \n",
       "1459        [JuliaOrmond, GabrielByrne, RichardHarris]     [BilleAugust]  "
      ]
     },
     "execution_count": 49,
     "metadata": {},
     "output_type": "execute_result"
    }
   ],
   "source": [
    "all_df['overview']=all_df['overview'].apply(lambda v:v.split())\n",
    "# Converting \"Overview\" variable into a list to combine with other columns as it isin string format\n",
    "all_df.sample(7)"
   ]
  },
  {
   "cell_type": "markdown",
   "id": "0853fc1d",
   "metadata": {
    "id": "0853fc1d"
   },
   "source": [
    "#### COMBINING EVERY COLUMN EXCEPT 'ID' AND 'TITLE' AS ALL_TAGS TO GET ALL THE TAGS RELATED TO A MOVIE IN A SINGLE COLUMN"
   ]
  },
  {
   "cell_type": "code",
   "execution_count": 51,
   "id": "a3d1cb9a",
   "metadata": {
    "id": "a3d1cb9a"
   },
   "outputs": [],
   "source": [
    "all_df['all_Tags']=all_df['genres']+all_df['overview']+all_df['keywords']+all_df['cast']+all_df['Director_name']\n",
    "all_df.drop(['genres','overview','keywords','cast','Director_name'],axis=1, inplace=True)"
   ]
  },
  {
   "cell_type": "code",
   "execution_count": 52,
   "id": "2511cca5",
   "metadata": {
    "colab": {
     "base_uri": "https://localhost:8080/",
     "height": 206
    },
    "executionInfo": {
     "elapsed": 42,
     "status": "ok",
     "timestamp": 1707833739297,
     "user": {
      "displayName": "Akshay Kumar Kona",
      "userId": "06952112589146711744"
     },
     "user_tz": -330
    },
    "id": "2511cca5",
    "outputId": "13c83d06-225d-4ad9-cadc-55c32e84a2c4"
   },
   "outputs": [
    {
     "data": {
      "text/html": [
       "<div>\n",
       "<style scoped>\n",
       "    .dataframe tbody tr th:only-of-type {\n",
       "        vertical-align: middle;\n",
       "    }\n",
       "\n",
       "    .dataframe tbody tr th {\n",
       "        vertical-align: top;\n",
       "    }\n",
       "\n",
       "    .dataframe thead th {\n",
       "        text-align: right;\n",
       "    }\n",
       "</style>\n",
       "<table border=\"1\" class=\"dataframe\">\n",
       "  <thead>\n",
       "    <tr style=\"text-align: right;\">\n",
       "      <th></th>\n",
       "      <th>id</th>\n",
       "      <th>title</th>\n",
       "      <th>all_Tags</th>\n",
       "    </tr>\n",
       "  </thead>\n",
       "  <tbody>\n",
       "    <tr>\n",
       "      <th>1586</th>\n",
       "      <td>21972</td>\n",
       "      <td>Like Mike</td>\n",
       "      <td>[Comedy, Drama, Family, Fantasy, Calvin, and, ...</td>\n",
       "    </tr>\n",
       "    <tr>\n",
       "      <th>1954</th>\n",
       "      <td>109091</td>\n",
       "      <td>The Counselor</td>\n",
       "      <td>[Thriller, Crime, Drama, A, rich, and, success...</td>\n",
       "    </tr>\n",
       "    <tr>\n",
       "      <th>2461</th>\n",
       "      <td>74643</td>\n",
       "      <td>The Artist</td>\n",
       "      <td>[Drama, Comedy, Romance, Hollywood,, 1927:, As...</td>\n",
       "    </tr>\n",
       "    <tr>\n",
       "      <th>2357</th>\n",
       "      <td>19840</td>\n",
       "      <td>I Love You, Beth Cooper</td>\n",
       "      <td>[Comedy, Romance, Nerdy, teenager, Denis, Coov...</td>\n",
       "    </tr>\n",
       "    <tr>\n",
       "      <th>1403</th>\n",
       "      <td>49022</td>\n",
       "      <td>Something Borrowed</td>\n",
       "      <td>[Comedy, Drama, Romance, Though, Rachel, (Ginn...</td>\n",
       "    </tr>\n",
       "  </tbody>\n",
       "</table>\n",
       "</div>"
      ],
      "text/plain": [
       "          id                    title  \\\n",
       "1586   21972                Like Mike   \n",
       "1954  109091            The Counselor   \n",
       "2461   74643               The Artist   \n",
       "2357   19840  I Love You, Beth Cooper   \n",
       "1403   49022       Something Borrowed   \n",
       "\n",
       "                                               all_Tags  \n",
       "1586  [Comedy, Drama, Family, Fantasy, Calvin, and, ...  \n",
       "1954  [Thriller, Crime, Drama, A, rich, and, success...  \n",
       "2461  [Drama, Comedy, Romance, Hollywood,, 1927:, As...  \n",
       "2357  [Comedy, Romance, Nerdy, teenager, Denis, Coov...  \n",
       "1403  [Comedy, Drama, Romance, Though, Rachel, (Ginn...  "
      ]
     },
     "execution_count": 52,
     "metadata": {},
     "output_type": "execute_result"
    }
   ],
   "source": [
    "all_df.sample(5)"
   ]
  },
  {
   "cell_type": "code",
   "execution_count": 53,
   "id": "8a496826",
   "metadata": {
    "colab": {
     "base_uri": "https://localhost:8080/"
    },
    "executionInfo": {
     "elapsed": 41,
     "status": "ok",
     "timestamp": 1707833739297,
     "user": {
      "displayName": "Akshay Kumar Kona",
      "userId": "06952112589146711744"
     },
     "user_tz": -330
    },
    "id": "8a496826",
    "outputId": "b1ccf9e6-5645-4edd-d82b-c80f81024269",
    "scrolled": true
   },
   "outputs": [
    {
     "data": {
      "text/plain": [
       "['Action',\n",
       " 'Adventure',\n",
       " 'Fantasy',\n",
       " 'ScienceFiction',\n",
       " 'In',\n",
       " 'the',\n",
       " '22nd',\n",
       " 'century,',\n",
       " 'a',\n",
       " 'paraplegic',\n",
       " 'Marine',\n",
       " 'is',\n",
       " 'dispatched',\n",
       " 'to',\n",
       " 'the',\n",
       " 'moon',\n",
       " 'Pandora',\n",
       " 'on',\n",
       " 'a',\n",
       " 'unique',\n",
       " 'mission,',\n",
       " 'but',\n",
       " 'becomes',\n",
       " 'torn',\n",
       " 'between',\n",
       " 'following',\n",
       " 'orders',\n",
       " 'and',\n",
       " 'protecting',\n",
       " 'an',\n",
       " 'alien',\n",
       " 'civilization.',\n",
       " 'cultureclash',\n",
       " 'future',\n",
       " 'spacewar',\n",
       " 'spacecolony',\n",
       " 'society',\n",
       " 'spacetravel',\n",
       " 'futuristic',\n",
       " 'romance',\n",
       " 'space',\n",
       " 'alien',\n",
       " 'tribe',\n",
       " 'alienplanet',\n",
       " 'cgi',\n",
       " 'marine',\n",
       " 'soldier',\n",
       " 'battle',\n",
       " 'loveaffair',\n",
       " 'antiwar',\n",
       " 'powerrelations',\n",
       " 'mindandsoul',\n",
       " '3d',\n",
       " 'SamWorthington',\n",
       " 'ZoeSaldana',\n",
       " 'SigourneyWeaver',\n",
       " 'JamesCameron']"
      ]
     },
     "execution_count": 53,
     "metadata": {},
     "output_type": "execute_result"
    }
   ],
   "source": [
    "all_df['all_Tags'][0]"
   ]
  },
  {
   "cell_type": "markdown",
   "id": "8feb194d",
   "metadata": {
    "id": "8feb194d"
   },
   "source": [
    "#### CONVERTING LIST TO STRING"
   ]
  },
  {
   "cell_type": "code",
   "execution_count": 55,
   "id": "2813bc9b",
   "metadata": {
    "id": "2813bc9b"
   },
   "outputs": [],
   "source": [
    "all_df['all_Tags']=all_df['all_Tags'].apply(lambda x:\" \".join(x))"
   ]
  },
  {
   "cell_type": "code",
   "execution_count": 56,
   "id": "dd2842b7",
   "metadata": {
    "colab": {
     "base_uri": "https://localhost:8080/",
     "height": 206
    },
    "executionInfo": {
     "elapsed": 30,
     "status": "ok",
     "timestamp": 1707833739298,
     "user": {
      "displayName": "Akshay Kumar Kona",
      "userId": "06952112589146711744"
     },
     "user_tz": -330
    },
    "id": "dd2842b7",
    "outputId": "912bbd49-ee7f-4f08-ab4f-8e800a7682da"
   },
   "outputs": [
    {
     "data": {
      "text/html": [
       "<div>\n",
       "<style scoped>\n",
       "    .dataframe tbody tr th:only-of-type {\n",
       "        vertical-align: middle;\n",
       "    }\n",
       "\n",
       "    .dataframe tbody tr th {\n",
       "        vertical-align: top;\n",
       "    }\n",
       "\n",
       "    .dataframe thead th {\n",
       "        text-align: right;\n",
       "    }\n",
       "</style>\n",
       "<table border=\"1\" class=\"dataframe\">\n",
       "  <thead>\n",
       "    <tr style=\"text-align: right;\">\n",
       "      <th></th>\n",
       "      <th>id</th>\n",
       "      <th>title</th>\n",
       "      <th>all_Tags</th>\n",
       "    </tr>\n",
       "  </thead>\n",
       "  <tbody>\n",
       "    <tr>\n",
       "      <th>3911</th>\n",
       "      <td>284</td>\n",
       "      <td>The Apartment</td>\n",
       "      <td>Comedy Drama Romance Bud Baxter is a minor cle...</td>\n",
       "    </tr>\n",
       "    <tr>\n",
       "      <th>4583</th>\n",
       "      <td>23827</td>\n",
       "      <td>Paranormal Activity</td>\n",
       "      <td>Horror Mystery After a young, middle class cou...</td>\n",
       "    </tr>\n",
       "    <tr>\n",
       "      <th>4155</th>\n",
       "      <td>174311</td>\n",
       "      <td>All Is Bright</td>\n",
       "      <td>Comedy Drama Two French Canadian ne’er-do-well...</td>\n",
       "    </tr>\n",
       "    <tr>\n",
       "      <th>849</th>\n",
       "      <td>3580</td>\n",
       "      <td>Changeling</td>\n",
       "      <td>Crime Drama Mystery Christine Collins is overj...</td>\n",
       "    </tr>\n",
       "    <tr>\n",
       "      <th>4749</th>\n",
       "      <td>85860</td>\n",
       "      <td>The FP</td>\n",
       "      <td>Comedy Two rival gangs fight for control of Fr...</td>\n",
       "    </tr>\n",
       "  </tbody>\n",
       "</table>\n",
       "</div>"
      ],
      "text/plain": [
       "          id                title  \\\n",
       "3911     284        The Apartment   \n",
       "4583   23827  Paranormal Activity   \n",
       "4155  174311        All Is Bright   \n",
       "849     3580           Changeling   \n",
       "4749   85860               The FP   \n",
       "\n",
       "                                               all_Tags  \n",
       "3911  Comedy Drama Romance Bud Baxter is a minor cle...  \n",
       "4583  Horror Mystery After a young, middle class cou...  \n",
       "4155  Comedy Drama Two French Canadian ne’er-do-well...  \n",
       "849   Crime Drama Mystery Christine Collins is overj...  \n",
       "4749  Comedy Two rival gangs fight for control of Fr...  "
      ]
     },
     "execution_count": 56,
     "metadata": {},
     "output_type": "execute_result"
    }
   ],
   "source": [
    "all_df.sample(5)"
   ]
  },
  {
   "cell_type": "code",
   "execution_count": 57,
   "id": "ed14f3dc",
   "metadata": {
    "colab": {
     "base_uri": "https://localhost:8080/",
     "height": 72
    },
    "executionInfo": {
     "elapsed": 29,
     "status": "ok",
     "timestamp": 1707833739298,
     "user": {
      "displayName": "Akshay Kumar Kona",
      "userId": "06952112589146711744"
     },
     "user_tz": -330
    },
    "id": "ed14f3dc",
    "outputId": "fad0c981-4f78-4061-e5e9-050e67bf6fa7"
   },
   "outputs": [
    {
     "data": {
      "text/plain": [
       "\"Fantasy Action Adventure The seemingly invincible Spider-Man goes up against an all-new crop of villain – including the shape-shifting Sandman. While Spider-Man’s superpowers are altered by an alien organism, his alter ego, Peter Parker, deals with nemesis Eddie Brock and also gets caught up in a love triangle. dualidentity amnesia sandstorm loveofone'slife forgiveness spider wretch deathofafriend egomania sand narcism hostility marvelcomic sequel superhero revenge TobeyMaguire KirstenDunst JamesFranco SamRaimi\""
      ]
     },
     "execution_count": 57,
     "metadata": {},
     "output_type": "execute_result"
    }
   ],
   "source": [
    "all_df['all_Tags'][5]"
   ]
  },
  {
   "cell_type": "code",
   "execution_count": 58,
   "id": "36b4a429",
   "metadata": {
    "id": "36b4a429"
   },
   "outputs": [],
   "source": [
    "all_df['all_Tags']=all_df['all_Tags'].apply(lambda x:x.lower())"
   ]
  },
  {
   "cell_type": "code",
   "execution_count": 59,
   "id": "e8146fbc",
   "metadata": {
    "colab": {
     "base_uri": "https://localhost:8080/",
     "height": 423
    },
    "executionInfo": {
     "elapsed": 28,
     "status": "ok",
     "timestamp": 1707833739298,
     "user": {
      "displayName": "Akshay Kumar Kona",
      "userId": "06952112589146711744"
     },
     "user_tz": -330
    },
    "id": "e8146fbc",
    "outputId": "d506dfa7-ee89-4c67-abeb-192966fd658f"
   },
   "outputs": [
    {
     "data": {
      "text/html": [
       "<div>\n",
       "<style scoped>\n",
       "    .dataframe tbody tr th:only-of-type {\n",
       "        vertical-align: middle;\n",
       "    }\n",
       "\n",
       "    .dataframe tbody tr th {\n",
       "        vertical-align: top;\n",
       "    }\n",
       "\n",
       "    .dataframe thead th {\n",
       "        text-align: right;\n",
       "    }\n",
       "</style>\n",
       "<table border=\"1\" class=\"dataframe\">\n",
       "  <thead>\n",
       "    <tr style=\"text-align: right;\">\n",
       "      <th></th>\n",
       "      <th>id</th>\n",
       "      <th>title</th>\n",
       "      <th>all_Tags</th>\n",
       "    </tr>\n",
       "  </thead>\n",
       "  <tbody>\n",
       "    <tr>\n",
       "      <th>0</th>\n",
       "      <td>19995</td>\n",
       "      <td>Avatar</td>\n",
       "      <td>action adventure fantasy sciencefiction in the...</td>\n",
       "    </tr>\n",
       "    <tr>\n",
       "      <th>1</th>\n",
       "      <td>285</td>\n",
       "      <td>Pirates of the Caribbean: At World's End</td>\n",
       "      <td>adventure fantasy action captain barbossa, lon...</td>\n",
       "    </tr>\n",
       "    <tr>\n",
       "      <th>2</th>\n",
       "      <td>206647</td>\n",
       "      <td>Spectre</td>\n",
       "      <td>action adventure crime a cryptic message from ...</td>\n",
       "    </tr>\n",
       "    <tr>\n",
       "      <th>3</th>\n",
       "      <td>49026</td>\n",
       "      <td>The Dark Knight Rises</td>\n",
       "      <td>action crime drama thriller following the deat...</td>\n",
       "    </tr>\n",
       "    <tr>\n",
       "      <th>4</th>\n",
       "      <td>49529</td>\n",
       "      <td>John Carter</td>\n",
       "      <td>action adventure sciencefiction john carter is...</td>\n",
       "    </tr>\n",
       "    <tr>\n",
       "      <th>...</th>\n",
       "      <td>...</td>\n",
       "      <td>...</td>\n",
       "      <td>...</td>\n",
       "    </tr>\n",
       "    <tr>\n",
       "      <th>4804</th>\n",
       "      <td>9367</td>\n",
       "      <td>El Mariachi</td>\n",
       "      <td>action crime thriller el mariachi just wants t...</td>\n",
       "    </tr>\n",
       "    <tr>\n",
       "      <th>4805</th>\n",
       "      <td>72766</td>\n",
       "      <td>Newlyweds</td>\n",
       "      <td>comedy romance a newlywed couple's honeymoon i...</td>\n",
       "    </tr>\n",
       "    <tr>\n",
       "      <th>4806</th>\n",
       "      <td>231617</td>\n",
       "      <td>Signed, Sealed, Delivered</td>\n",
       "      <td>comedy drama romance tvmovie \"signed, sealed, ...</td>\n",
       "    </tr>\n",
       "    <tr>\n",
       "      <th>4807</th>\n",
       "      <td>126186</td>\n",
       "      <td>Shanghai Calling</td>\n",
       "      <td>when ambitious new york attorney sam is sent t...</td>\n",
       "    </tr>\n",
       "    <tr>\n",
       "      <th>4808</th>\n",
       "      <td>25975</td>\n",
       "      <td>My Date with Drew</td>\n",
       "      <td>documentary ever since the second grade when h...</td>\n",
       "    </tr>\n",
       "  </tbody>\n",
       "</table>\n",
       "<p>4806 rows × 3 columns</p>\n",
       "</div>"
      ],
      "text/plain": [
       "          id                                     title  \\\n",
       "0      19995                                    Avatar   \n",
       "1        285  Pirates of the Caribbean: At World's End   \n",
       "2     206647                                   Spectre   \n",
       "3      49026                     The Dark Knight Rises   \n",
       "4      49529                               John Carter   \n",
       "...      ...                                       ...   \n",
       "4804    9367                               El Mariachi   \n",
       "4805   72766                                 Newlyweds   \n",
       "4806  231617                 Signed, Sealed, Delivered   \n",
       "4807  126186                          Shanghai Calling   \n",
       "4808   25975                         My Date with Drew   \n",
       "\n",
       "                                               all_Tags  \n",
       "0     action adventure fantasy sciencefiction in the...  \n",
       "1     adventure fantasy action captain barbossa, lon...  \n",
       "2     action adventure crime a cryptic message from ...  \n",
       "3     action crime drama thriller following the deat...  \n",
       "4     action adventure sciencefiction john carter is...  \n",
       "...                                                 ...  \n",
       "4804  action crime thriller el mariachi just wants t...  \n",
       "4805  comedy romance a newlywed couple's honeymoon i...  \n",
       "4806  comedy drama romance tvmovie \"signed, sealed, ...  \n",
       "4807  when ambitious new york attorney sam is sent t...  \n",
       "4808  documentary ever since the second grade when h...  \n",
       "\n",
       "[4806 rows x 3 columns]"
      ]
     },
     "execution_count": 59,
     "metadata": {},
     "output_type": "execute_result"
    }
   ],
   "source": [
    "all_df"
   ]
  },
  {
   "cell_type": "code",
   "execution_count": null,
   "id": "7aa3f0db",
   "metadata": {
    "id": "7aa3f0db"
   },
   "outputs": [],
   "source": []
  },
  {
   "cell_type": "code",
   "execution_count": 60,
   "id": "2f72df5e",
   "metadata": {
    "id": "2f72df5e"
   },
   "outputs": [],
   "source": [
    "# Removing HTML tags in \"all_Tags\" variable\n",
    "from bs4 import BeautifulSoup"
   ]
  },
  {
   "cell_type": "code",
   "execution_count": 61,
   "id": "891ae824",
   "metadata": {
    "colab": {
     "base_uri": "https://localhost:8080/"
    },
    "executionInfo": {
     "elapsed": 27,
     "status": "ok",
     "timestamp": 1707833739298,
     "user": {
      "displayName": "Akshay Kumar Kona",
      "userId": "06952112589146711744"
     },
     "user_tz": -330
    },
    "id": "891ae824",
    "outputId": "5f00d375-739e-4bf8-9d9b-1b9190f33c0e"
   },
   "outputs": [
    {
     "name": "stdout",
     "output_type": "stream",
     "text": [
      "I am Akshay Kumar\n"
     ]
    }
   ],
   "source": [
    "text_html='<h1><p>I am Akshay Kumar</p>'\n",
    "s=BeautifulSoup(text_html,'html.parser')\n",
    "print(s.get_text())"
   ]
  },
  {
   "cell_type": "code",
   "execution_count": 62,
   "id": "ab5efb26",
   "metadata": {
    "colab": {
     "base_uri": "https://localhost:8080/",
     "height": 273
    },
    "executionInfo": {
     "elapsed": 22,
     "status": "ok",
     "timestamp": 1707833739298,
     "user": {
      "displayName": "Akshay Kumar Kona",
      "userId": "06952112589146711744"
     },
     "user_tz": -330
    },
    "id": "ab5efb26",
    "outputId": "e2492a54-7113-49f7-930a-65a8e7522410"
   },
   "outputs": [
    {
     "name": "stderr",
     "output_type": "stream",
     "text": [
      "C:\\Users\\HOME\\AppData\\Local\\Temp\\ipykernel_17612\\3508911121.py:2: MarkupResemblesLocatorWarning: The input looks more like a filename than markup. You may want to open this file and pass the filehandle into Beautiful Soup.\n",
      "  s=BeautifulSoup(text,'html.parser')\n"
     ]
    },
    {
     "data": {
      "text/html": [
       "<div>\n",
       "<style scoped>\n",
       "    .dataframe tbody tr th:only-of-type {\n",
       "        vertical-align: middle;\n",
       "    }\n",
       "\n",
       "    .dataframe tbody tr th {\n",
       "        vertical-align: top;\n",
       "    }\n",
       "\n",
       "    .dataframe thead th {\n",
       "        text-align: right;\n",
       "    }\n",
       "</style>\n",
       "<table border=\"1\" class=\"dataframe\">\n",
       "  <thead>\n",
       "    <tr style=\"text-align: right;\">\n",
       "      <th></th>\n",
       "      <th>id</th>\n",
       "      <th>title</th>\n",
       "      <th>all_Tags</th>\n",
       "    </tr>\n",
       "  </thead>\n",
       "  <tbody>\n",
       "    <tr>\n",
       "      <th>1845</th>\n",
       "      <td>175555</td>\n",
       "      <td>A Madea Christmas</td>\n",
       "      <td>comedy drama madea dispenses her unique form o...</td>\n",
       "    </tr>\n",
       "    <tr>\n",
       "      <th>1266</th>\n",
       "      <td>9544</td>\n",
       "      <td>FearDotCom</td>\n",
       "      <td>horror thriller with four corpses on his hands...</td>\n",
       "    </tr>\n",
       "    <tr>\n",
       "      <th>931</th>\n",
       "      <td>13836</td>\n",
       "      <td>Race to Witch Mountain</td>\n",
       "      <td>adventure family fantasy sciencefiction thrill...</td>\n",
       "    </tr>\n",
       "    <tr>\n",
       "      <th>4724</th>\n",
       "      <td>18632</td>\n",
       "      <td>A Dog's Breakfast</td>\n",
       "      <td>comedy if you've never been good at anything i...</td>\n",
       "    </tr>\n",
       "    <tr>\n",
       "      <th>1230</th>\n",
       "      <td>188161</td>\n",
       "      <td>A Million Ways to Die in the West</td>\n",
       "      <td>comedy western as a cowardly farmer begins to ...</td>\n",
       "    </tr>\n",
       "    <tr>\n",
       "      <th>179</th>\n",
       "      <td>270946</td>\n",
       "      <td>Penguins of Madagascar</td>\n",
       "      <td>family animation adventure comedy skipper, kow...</td>\n",
       "    </tr>\n",
       "  </tbody>\n",
       "</table>\n",
       "</div>"
      ],
      "text/plain": [
       "          id                              title  \\\n",
       "1845  175555                  A Madea Christmas   \n",
       "1266    9544                         FearDotCom   \n",
       "931    13836             Race to Witch Mountain   \n",
       "4724   18632                  A Dog's Breakfast   \n",
       "1230  188161  A Million Ways to Die in the West   \n",
       "179   270946             Penguins of Madagascar   \n",
       "\n",
       "                                               all_Tags  \n",
       "1845  comedy drama madea dispenses her unique form o...  \n",
       "1266  horror thriller with four corpses on his hands...  \n",
       "931   adventure family fantasy sciencefiction thrill...  \n",
       "4724  comedy if you've never been good at anything i...  \n",
       "1230  comedy western as a cowardly farmer begins to ...  \n",
       "179   family animation adventure comedy skipper, kow...  "
      ]
     },
     "execution_count": 62,
     "metadata": {},
     "output_type": "execute_result"
    }
   ],
   "source": [
    "def remove_htmlTags(text):\n",
    "    s=BeautifulSoup(text,'html.parser')\n",
    "    return s.get_text()\n",
    "all_df['all_Tags']=all_df['all_Tags'].apply(remove_htmlTags)\n",
    "all_df.sample(6)"
   ]
  },
  {
   "cell_type": "code",
   "execution_count": null,
   "id": "aa0cbc78",
   "metadata": {
    "id": "aa0cbc78"
   },
   "outputs": [],
   "source": []
  },
  {
   "cell_type": "code",
   "execution_count": 63,
   "id": "450744d4",
   "metadata": {
    "colab": {
     "base_uri": "https://localhost:8080/",
     "height": 36
    },
    "executionInfo": {
     "elapsed": 19,
     "status": "ok",
     "timestamp": 1707833739298,
     "user": {
      "displayName": "Akshay Kumar Kona",
      "userId": "06952112589146711744"
     },
     "user_tz": -330
    },
    "id": "450744d4",
    "outputId": "17604ba0-03c1-40e0-a44c-6bd3fca2a07c"
   },
   "outputs": [
    {
     "data": {
      "text/plain": [
       "'!\"#$%&\\'()*+,-./:;<=>?@[\\\\]^_`{|}~0123456789’–'"
      ]
     },
     "execution_count": 63,
     "metadata": {},
     "output_type": "execute_result"
    }
   ],
   "source": [
    "# Removing punctuations and numbers\n",
    "import string\n",
    "puncs_nums=string.punctuation+\"0123456789’–\"\n",
    "puncs_nums"
   ]
  },
  {
   "cell_type": "code",
   "execution_count": 64,
   "id": "b3afa10c",
   "metadata": {
    "colab": {
     "base_uri": "https://localhost:8080/",
     "height": 72
    },
    "executionInfo": {
     "elapsed": 18,
     "status": "ok",
     "timestamp": 1707833739298,
     "user": {
      "displayName": "Akshay Kumar Kona",
      "userId": "06952112589146711744"
     },
     "user_tz": -330
    },
    "id": "b3afa10c",
    "outputId": "aef50906-6ec5-4a67-a187-5b6429eac3f7"
   },
   "outputs": [
    {
     "data": {
      "text/plain": [
       "\"action sciencefiction after years of outrunning ruthless bounty hunters, escaped convict riddick suddenly finds himself caught between opposing forces in a fight for the future of the human race. now, waging incredible battles on fantastic and deadly worlds, this lone, reluctant hero will emerge as humanity's champion - and the last hope for a universe on the edge of annihilation. prison dystopia matteroflifeanddeath outerspace intergalactictravel vindiesel thandienewton karlurban davidtwohy\""
      ]
     },
     "execution_count": 64,
     "metadata": {},
     "output_type": "execute_result"
    }
   ],
   "source": [
    "test=all_df.all_Tags.iloc[223]\n",
    "test"
   ]
  },
  {
   "cell_type": "code",
   "execution_count": 65,
   "id": "7688acec",
   "metadata": {
    "id": "7688acec"
   },
   "outputs": [],
   "source": [
    "def remove_puncs_nums(text):\n",
    "    for i in puncs_nums:\n",
    "        text=text.replace(i,\"\")\n",
    "    return text"
   ]
  },
  {
   "cell_type": "code",
   "execution_count": 66,
   "id": "5c222deb",
   "metadata": {
    "colab": {
     "base_uri": "https://localhost:8080/",
     "height": 72
    },
    "executionInfo": {
     "elapsed": 19,
     "status": "ok",
     "timestamp": 1707833739299,
     "user": {
      "displayName": "Akshay Kumar Kona",
      "userId": "06952112589146711744"
     },
     "user_tz": -330
    },
    "id": "5c222deb",
    "outputId": "b7a3cd47-5801-4e40-8d35-67f37672d053"
   },
   "outputs": [
    {
     "data": {
      "text/plain": [
       "'action sciencefiction after years of outrunning ruthless bounty hunters escaped convict riddick suddenly finds himself caught between opposing forces in a fight for the future of the human race now waging incredible battles on fantastic and deadly worlds this lone reluctant hero will emerge as humanitys champion  and the last hope for a universe on the edge of annihilation prison dystopia matteroflifeanddeath outerspace intergalactictravel vindiesel thandienewton karlurban davidtwohy'"
      ]
     },
     "execution_count": 66,
     "metadata": {},
     "output_type": "execute_result"
    }
   ],
   "source": [
    "remove_puncs_nums(test)"
   ]
  },
  {
   "cell_type": "code",
   "execution_count": 67,
   "id": "d7fd0605",
   "metadata": {
    "colab": {
     "base_uri": "https://localhost:8080/",
     "height": 72
    },
    "executionInfo": {
     "elapsed": 18,
     "status": "ok",
     "timestamp": 1707833739299,
     "user": {
      "displayName": "Akshay Kumar Kona",
      "userId": "06952112589146711744"
     },
     "user_tz": -330
    },
    "id": "d7fd0605",
    "outputId": "612d3951-ae73-4b3c-c64c-0f8663ddeb47"
   },
   "outputs": [
    {
     "data": {
      "text/plain": [
       "\"fantasy action adventure the seemingly invincible spider-man goes up against an all-new crop of villain – including the shape-shifting sandman. while spider-man’s superpowers are altered by an alien organism, his alter ego, peter parker, deals with nemesis eddie brock and also gets caught up in a love triangle. dualidentity amnesia sandstorm loveofone'slife forgiveness spider wretch deathofafriend egomania sand narcism hostility marvelcomic sequel superhero revenge tobeymaguire kirstendunst jamesfranco samraimi\""
      ]
     },
     "execution_count": 67,
     "metadata": {},
     "output_type": "execute_result"
    }
   ],
   "source": [
    "all_df['all_Tags'].iloc[5]"
   ]
  },
  {
   "cell_type": "code",
   "execution_count": 68,
   "id": "c8767d21",
   "metadata": {
    "colab": {
     "base_uri": "https://localhost:8080/",
     "height": 174
    },
    "executionInfo": {
     "elapsed": 455,
     "status": "ok",
     "timestamp": 1707833739736,
     "user": {
      "displayName": "Akshay Kumar Kona",
      "userId": "06952112589146711744"
     },
     "user_tz": -330
    },
    "id": "c8767d21",
    "outputId": "54cea2b8-a3df-447b-98b4-a6f4e71c4ebd"
   },
   "outputs": [
    {
     "data": {
      "text/html": [
       "<div>\n",
       "<style scoped>\n",
       "    .dataframe tbody tr th:only-of-type {\n",
       "        vertical-align: middle;\n",
       "    }\n",
       "\n",
       "    .dataframe tbody tr th {\n",
       "        vertical-align: top;\n",
       "    }\n",
       "\n",
       "    .dataframe thead th {\n",
       "        text-align: right;\n",
       "    }\n",
       "</style>\n",
       "<table border=\"1\" class=\"dataframe\">\n",
       "  <thead>\n",
       "    <tr style=\"text-align: right;\">\n",
       "      <th></th>\n",
       "      <th>id</th>\n",
       "      <th>title</th>\n",
       "      <th>all_Tags</th>\n",
       "    </tr>\n",
       "  </thead>\n",
       "  <tbody>\n",
       "    <tr>\n",
       "      <th>3395</th>\n",
       "      <td>1956</td>\n",
       "      <td>Gerry</td>\n",
       "      <td>mystery drama adventure two friends named gerr...</td>\n",
       "    </tr>\n",
       "    <tr>\n",
       "      <th>3924</th>\n",
       "      <td>15582</td>\n",
       "      <td>Teen Wolf Too</td>\n",
       "      <td>comedy fantasy family although awkward college...</td>\n",
       "    </tr>\n",
       "    <tr>\n",
       "      <th>2081</th>\n",
       "      <td>31005</td>\n",
       "      <td>Moonlight Mile</td>\n",
       "      <td>romance drama as he copes with the death of hi...</td>\n",
       "    </tr>\n",
       "    <tr>\n",
       "      <th>1632</th>\n",
       "      <td>72207</td>\n",
       "      <td>The Five-Year Engagement</td>\n",
       "      <td>comedy exactly one year after tom meets violet...</td>\n",
       "    </tr>\n",
       "  </tbody>\n",
       "</table>\n",
       "</div>"
      ],
      "text/plain": [
       "         id                     title  \\\n",
       "3395   1956                     Gerry   \n",
       "3924  15582             Teen Wolf Too   \n",
       "2081  31005            Moonlight Mile   \n",
       "1632  72207  The Five-Year Engagement   \n",
       "\n",
       "                                               all_Tags  \n",
       "3395  mystery drama adventure two friends named gerr...  \n",
       "3924  comedy fantasy family although awkward college...  \n",
       "2081  romance drama as he copes with the death of hi...  \n",
       "1632  comedy exactly one year after tom meets violet...  "
      ]
     },
     "execution_count": 68,
     "metadata": {},
     "output_type": "execute_result"
    }
   ],
   "source": [
    "all_df['all_Tags']=all_df['all_Tags'].apply(remove_puncs_nums)\n",
    "all_df.sample(4)"
   ]
  },
  {
   "cell_type": "code",
   "execution_count": 69,
   "id": "8d9ced5c",
   "metadata": {
    "colab": {
     "base_uri": "https://localhost:8080/",
     "height": 72
    },
    "executionInfo": {
     "elapsed": 6,
     "status": "ok",
     "timestamp": 1707833739736,
     "user": {
      "displayName": "Akshay Kumar Kona",
      "userId": "06952112589146711744"
     },
     "user_tz": -330
    },
    "id": "8d9ced5c",
    "outputId": "5d663aaa-a228-48e6-cc74-c02a95b32ea4"
   },
   "outputs": [
    {
     "data": {
      "text/plain": [
       "'fantasy action adventure the seemingly invincible spiderman goes up against an allnew crop of villain  including the shapeshifting sandman while spidermans superpowers are altered by an alien organism his alter ego peter parker deals with nemesis eddie brock and also gets caught up in a love triangle dualidentity amnesia sandstorm loveofoneslife forgiveness spider wretch deathofafriend egomania sand narcism hostility marvelcomic sequel superhero revenge tobeymaguire kirstendunst jamesfranco samraimi'"
      ]
     },
     "execution_count": 69,
     "metadata": {},
     "output_type": "execute_result"
    }
   ],
   "source": [
    "all_df['all_Tags'].iloc[5]"
   ]
  },
  {
   "cell_type": "code",
   "execution_count": null,
   "id": "7d4c9ade",
   "metadata": {
    "id": "7d4c9ade"
   },
   "outputs": [],
   "source": []
  },
  {
   "cell_type": "code",
   "execution_count": 70,
   "id": "4406e882",
   "metadata": {
    "colab": {
     "base_uri": "https://localhost:8080/"
    },
    "executionInfo": {
     "elapsed": 960,
     "status": "ok",
     "timestamp": 1707833740691,
     "user": {
      "displayName": "Akshay Kumar Kona",
      "userId": "06952112589146711744"
     },
     "user_tz": -330
    },
    "id": "4406e882",
    "outputId": "c342c4b0-4f53-484f-9248-1c872d6c80f1"
   },
   "outputs": [
    {
     "name": "stderr",
     "output_type": "stream",
     "text": [
      "[nltk_data] Downloading package wordnet to\n",
      "[nltk_data]     C:\\Users\\HOME\\AppData\\Roaming\\nltk_data...\n",
      "[nltk_data]   Package wordnet is already up-to-date!\n"
     ]
    }
   ],
   "source": [
    "import nltk\n",
    "from nltk.stem import WordNetLemmatizer\n",
    "nltk.download('wordnet')\n",
    "wnl=WordNetLemmatizer()"
   ]
  },
  {
   "cell_type": "code",
   "execution_count": 71,
   "id": "9a1ac75f",
   "metadata": {
    "colab": {
     "base_uri": "https://localhost:8080/",
     "height": 72
    },
    "executionInfo": {
     "elapsed": 5,
     "status": "ok",
     "timestamp": 1707833740691,
     "user": {
      "displayName": "Akshay Kumar Kona",
      "userId": "06952112589146711744"
     },
     "user_tz": -330
    },
    "id": "9a1ac75f",
    "outputId": "98cf8a41-c121-4f13-bbfd-363f3467f352"
   },
   "outputs": [
    {
     "data": {
      "text/plain": [
       "'adventure action sciencefiction sam flynn the techsavvy and daring son of kevin flynn investigates his fathers disappearance and is pulled into the grid with the help of a mysterious program named quorra sam quests to stop evil dictator clu from crossing into the real world artificialintelligence secretidentity computerprogram dystopia computer deception duel motorcycle neonlight autocracy garretthedlund jeffbridges oliviawilde josephkosinski'"
      ]
     },
     "execution_count": 71,
     "metadata": {},
     "output_type": "execute_result"
    }
   ],
   "source": [
    "test=all_df.all_Tags.iloc[39]\n",
    "test"
   ]
  },
  {
   "cell_type": "code",
   "execution_count": 72,
   "id": "ntRaLAFYLTrP",
   "metadata": {
    "colab": {
     "base_uri": "https://localhost:8080/",
     "height": 72
    },
    "executionInfo": {
     "elapsed": 1534,
     "status": "ok",
     "timestamp": 1707833742221,
     "user": {
      "displayName": "Akshay Kumar Kona",
      "userId": "06952112589146711744"
     },
     "user_tz": -330
    },
    "id": "ntRaLAFYLTrP",
    "outputId": "aee15cbd-c564-4c7e-9452-7d2382593bc1"
   },
   "outputs": [
    {
     "data": {
      "text/plain": [
       "'adventure action sciencefiction sam flynn the techsavvy and dare son of kevin flynn investigate his father disappearance and be pull into the grid with the help of a mysterious program name quorra sam quest to stop evil dictator clu from cross into the real world artificialintelligence secretidentity computerprogram dystopia computer deception duel motorcycle neonlight autocracy garretthedlund jeffbridges oliviawilde josephkosinski'"
      ]
     },
     "execution_count": 72,
     "metadata": {},
     "output_type": "execute_result"
    }
   ],
   "source": [
    "lemmatized_test = [wnl.lemmatize(word, pos=\"v\") for word in test.split()]\n",
    "\n",
    "lemmatized_test_str = \" \".join(lemmatized_test)\n",
    "\n",
    "lemmatized_test_str"
   ]
  },
  {
   "cell_type": "code",
   "execution_count": 73,
   "id": "70742160",
   "metadata": {
    "id": "70742160",
    "scrolled": true
   },
   "outputs": [],
   "source": [
    "def lemmatizer(text):\n",
    "    lemmatized_test=[wnl.lemmatize(word, pos=\"v\") for word in text.split()]\n",
    "    lemmatized_test_str=\" \".join(lemmatized_test)\n",
    "    return lemmatized_test_str"
   ]
  },
  {
   "cell_type": "code",
   "execution_count": 74,
   "id": "e3bc088a",
   "metadata": {
    "colab": {
     "base_uri": "https://localhost:8080/",
     "height": 174
    },
    "executionInfo": {
     "elapsed": 1337,
     "status": "ok",
     "timestamp": 1707833743554,
     "user": {
      "displayName": "Akshay Kumar Kona",
      "userId": "06952112589146711744"
     },
     "user_tz": -330
    },
    "id": "e3bc088a",
    "outputId": "5db09e19-7c7a-497e-eb22-16b1e9d96e4e"
   },
   "outputs": [
    {
     "data": {
      "text/html": [
       "<div>\n",
       "<style scoped>\n",
       "    .dataframe tbody tr th:only-of-type {\n",
       "        vertical-align: middle;\n",
       "    }\n",
       "\n",
       "    .dataframe tbody tr th {\n",
       "        vertical-align: top;\n",
       "    }\n",
       "\n",
       "    .dataframe thead th {\n",
       "        text-align: right;\n",
       "    }\n",
       "</style>\n",
       "<table border=\"1\" class=\"dataframe\">\n",
       "  <thead>\n",
       "    <tr style=\"text-align: right;\">\n",
       "      <th></th>\n",
       "      <th>id</th>\n",
       "      <th>title</th>\n",
       "      <th>all_Tags</th>\n",
       "    </tr>\n",
       "  </thead>\n",
       "  <tbody>\n",
       "    <tr>\n",
       "      <th>2060</th>\n",
       "      <td>44113</td>\n",
       "      <td>Stone</td>\n",
       "      <td>drama parole officer jack mabry have only a fe...</td>\n",
       "    </tr>\n",
       "    <tr>\n",
       "      <th>2237</th>\n",
       "      <td>3509</td>\n",
       "      <td>A Scanner Darkly</td>\n",
       "      <td>animation sciencefiction thriller an undercove...</td>\n",
       "    </tr>\n",
       "    <tr>\n",
       "      <th>2562</th>\n",
       "      <td>17127</td>\n",
       "      <td>The Object of My Affection</td>\n",
       "      <td>comedy drama romance a pregnant new york socia...</td>\n",
       "    </tr>\n",
       "    <tr>\n",
       "      <th>1590</th>\n",
       "      <td>6023</td>\n",
       "      <td>P.S. I Love You</td>\n",
       "      <td>drama romance a young widow discover that her ...</td>\n",
       "    </tr>\n",
       "  </tbody>\n",
       "</table>\n",
       "</div>"
      ],
      "text/plain": [
       "         id                       title  \\\n",
       "2060  44113                       Stone   \n",
       "2237   3509            A Scanner Darkly   \n",
       "2562  17127  The Object of My Affection   \n",
       "1590   6023             P.S. I Love You   \n",
       "\n",
       "                                               all_Tags  \n",
       "2060  drama parole officer jack mabry have only a fe...  \n",
       "2237  animation sciencefiction thriller an undercove...  \n",
       "2562  comedy drama romance a pregnant new york socia...  \n",
       "1590  drama romance a young widow discover that her ...  "
      ]
     },
     "execution_count": 74,
     "metadata": {},
     "output_type": "execute_result"
    }
   ],
   "source": [
    "all_df['all_Tags']=all_df['all_Tags'].apply(lemmatizer)\n",
    "all_df.sample(4)"
   ]
  },
  {
   "cell_type": "code",
   "execution_count": null,
   "id": "8f5dd00a",
   "metadata": {
    "id": "8f5dd00a"
   },
   "outputs": [],
   "source": []
  },
  {
   "cell_type": "code",
   "execution_count": 75,
   "id": "e081P2BlMs-H",
   "metadata": {
    "colab": {
     "base_uri": "https://localhost:8080/"
    },
    "executionInfo": {
     "elapsed": 7,
     "status": "ok",
     "timestamp": 1707833743555,
     "user": {
      "displayName": "Akshay Kumar Kona",
      "userId": "06952112589146711744"
     },
     "user_tz": -330
    },
    "id": "e081P2BlMs-H",
    "outputId": "4fda4691-7d18-47b4-9ecb-60afbc04facb"
   },
   "outputs": [
    {
     "data": {
      "text/plain": [
       "(4806, 3)"
      ]
     },
     "execution_count": 75,
     "metadata": {},
     "output_type": "execute_result"
    }
   ],
   "source": [
    "all_df.shape"
   ]
  },
  {
   "cell_type": "code",
   "execution_count": 76,
   "id": "DM4qLcjqMZVG",
   "metadata": {
    "id": "DM4qLcjqMZVG"
   },
   "outputs": [],
   "source": [
    "# Vector Representation"
   ]
  },
  {
   "cell_type": "code",
   "execution_count": 77,
   "id": "GHnapFuuMZXu",
   "metadata": {
    "id": "GHnapFuuMZXu"
   },
   "outputs": [],
   "source": [
    "from sklearn.feature_extraction.text import CountVectorizer\n",
    "cv=CountVectorizer(max_features=5000,stop_words='english')"
   ]
  },
  {
   "cell_type": "code",
   "execution_count": 78,
   "id": "bUD5UwCUMZaA",
   "metadata": {
    "colab": {
     "base_uri": "https://localhost:8080/"
    },
    "executionInfo": {
     "elapsed": 720,
     "status": "ok",
     "timestamp": 1707833744270,
     "user": {
      "displayName": "Akshay Kumar Kona",
      "userId": "06952112589146711744"
     },
     "user_tz": -330
    },
    "id": "bUD5UwCUMZaA",
    "outputId": "dc7f40e6-a3f2-43d8-c4c5-c6d11e46c778"
   },
   "outputs": [
    {
     "data": {
      "text/plain": [
       "array([[0, 0, 0, ..., 0, 0, 0],\n",
       "       [0, 0, 0, ..., 0, 0, 0],\n",
       "       [0, 0, 0, ..., 0, 0, 0],\n",
       "       ...,\n",
       "       [0, 0, 0, ..., 0, 0, 0],\n",
       "       [0, 0, 0, ..., 0, 0, 0],\n",
       "       [0, 0, 0, ..., 0, 0, 0]], dtype=int64)"
      ]
     },
     "execution_count": 78,
     "metadata": {},
     "output_type": "execute_result"
    }
   ],
   "source": [
    "all_vectors=cv.fit_transform(all_df['all_Tags']).toarray()\n",
    "all_vectors"
   ]
  },
  {
   "cell_type": "code",
   "execution_count": 79,
   "id": "N_--X902OJZL",
   "metadata": {
    "colab": {
     "base_uri": "https://localhost:8080/"
    },
    "executionInfo": {
     "elapsed": 5,
     "status": "ok",
     "timestamp": 1707833744270,
     "user": {
      "displayName": "Akshay Kumar Kona",
      "userId": "06952112589146711744"
     },
     "user_tz": -330
    },
    "id": "N_--X902OJZL",
    "outputId": "a4bdee76-70a4-4e2c-bdbf-67d30e980913"
   },
   "outputs": [
    {
     "data": {
      "text/plain": [
       "5000"
      ]
     },
     "execution_count": 79,
     "metadata": {},
     "output_type": "execute_result"
    }
   ],
   "source": [
    "len(cv.get_feature_names_out())"
   ]
  },
  {
   "cell_type": "code",
   "execution_count": 197,
   "id": "NtvbYEaRMZcu",
   "metadata": {
    "id": "NtvbYEaRMZcu"
   },
   "outputs": [
    {
     "name": "stdout",
     "output_type": "stream",
     "text": [
      "These are all the features used\n",
      "\n",
      "\n",
      "\n",
      "aaron, aaroneckhart, aarontaylorjohnson, abandon, abduct, abigailbreslin, abilities, ability, able, aboard, abuse, abusive, academic, academy, accept, access, accident, accidental, accidentally, acclaim, accompany, accomplish, account, accountant, accuse, ace, achieve, act, action, actionhero, actionpacked, activist, activities, activity, actor, actors, actress, actual, actually, ad, adam, adammckay, adams, adamsandler, adamshankman, adapt, adaptation, add, addict, addiction, adjust, admire, admit, adolescence, adolescent, adopt, adoption, adrienbrody, adult, adultanimation, adultery, adulthood, adults, advance, advantage, adventure, advertise, advice, affair, affairs, affect, affection, affections, affluent, afghanistan, afraid, africa, african, africanamerican, aftercreditsstinger, afterlife, aftermath, age, agedifference, agency, agenda, agent, agents, aggressive, ago, agree, ahead, aid, aidanquinn, ail, aim, air, airplane, airplanecrash, airport, aka, al, alabama, alan, alanarkin, alaska, albert, albertbrooks, alcatraz, alcohol, alcoholabuse, alcoholic, alcoholism, alecbaldwin, alejandrogonzáleziñárritu, alex, alexkendrick, alfredhitchcock, alfredmolina, ali, alice, alien, alieninvasion, alienlifeform, alienplanet, alike, alive, allen, alliance, allow, ally, alongside, alpacino, alpha, alter, alternate, alternative, alzheimers, amanda, amandapeet, amandaseyfried, amateur, amaze, amazon, ambassador, ambition, ambitious, ambulance, ambush, america, american, americanabroad, americancivilwar, americanfootball, americanfootballplayer, americans, americas, amid, amidst, amnesia, amsterdam, amuse, amusement, amusementpark, amy, amyadams, amysmart, ana, analyst, anarchiccomedy, ancient, ancientrome, ancientworld, anderson, andiemacdowell, andrew, android, andy, andygarcía, angel, angelabassett, angeles, angelinajolie, angels, anger, anglee, angry, animal, animalattack, animalhorror, animals, animate, animation, anime, anjelicahuston, ann, anna, annabelle, annafaris, annakendrick, anne, annehathaway, annettebening, annie, annies, anniversary, announce, annual, anonymity, anonymous, answer, antarctic, anthology, anthony, anthonyanderson, anthonyhopkins, anthonymackie, anthropomorphism, antic, antihero, antisemitism, antoinefuqua, antoniobanderas, antonyelchin, apart, apartheid, apartment, ape, apocalypse, apparent, apparently, appear, apple, appoint, appreciate, apprentice, approach, april, aquarium, arab, archaeologist, archeology, archer, architect, arctic, area, arena, arent, argument, arise, aristocrat, arm, armor, army, arnold, arnoldschwarzenegger, arrange, arrangedmarriage, arrangement, arrest, arrival, arrive, arrogant, art, arthur, article, artificial, artificialintelligence, artist, artistic, artists, arts, ash, ashley, ashleyjudd, ashtonkutcher, asia, aside, ask, aspirations, aspire, assassin, assassinate, assassination, assassins, assault, assemble, assign, assignment, assist, assistant, associate, assume, asteroid, astronaut, astronauts, asylum, atheist, athlete, atlantic, atomicbomb, attack, attempt, attempttoescape, attend, attention, attic, attitude, attorney, attract, attraction, attractive, audience, audiences, audition, august, aunt, austin, australia, australian, author, authorities, authority, autism, auto, automobileracing, avenge, average, avoid, await, awake, awaken, award, away, awry, ax, babe, baby, bachelor, backdrop, background, bad, badly, bag, bahamas, bail, balance, ball, ballet, balloon, baltimore, ban, band, bandits, bangkok, banish, bank, banker, bankrobber, bankrobbery, bar, barbrastreisand, barely, bargain, barn, barney, baron, barry, barrylevinson, barrysonnenfeld, base, baseball, basedoncomicbook, basedongraphicnovel, basedonnovel, basedonplay, basedonstagemusical, basedontrueevents, basedontruestory, basedontvseries, basedonvideogame, basedonyoungadultnovel, basement, basketball, bat, batman, battle, battlefield, bay, beach, bear, beard, beast, beasts, beat, beautiful, beautifulwoman, beauty, becky, becominganadult, bed, bedroom, bee, beer, befriend, begin, behavior, belief, beliefs, believe, bell, belong, beloved, ben, benaffleck, bend, beneath, benefit, benfoster, beniciodeltoro, benjamin, benjaminbratt, benkingsley, bennett, benstiller, berlin, best, bestfriend, bestfriendsinlove, bestselling, bet, beth, betray, betrayal, bettemidler, better, betty, beverly, bible, bid, big, bigcity, bigger, biggest, bike, biker, bikers, bikini, billhader, billionaire, billmurray, billnighy, billpaxton, billpullman, billy, billybobthornton, billycrudup, billycrystal, bind, biography, bird, birth, birthday, bisexual, bishop, bite, bitter, bizarre, black, blackandwhite, blackmagic, blackmail, blackpeople, blacksmith, blade, blame, blend, blind, bliss, blizzard, block, blonde, blood, bloodsplatter, bloodthirsty, bloody, blossom, blow, blue, board, boat, bob, bobby, bobbyfarrelly, bobhoskins, body, bodyguard, bold, bollywood, bomb, bond, bone, book, boot, border, bore, boredom, borrow, boss, boston, botch, bounce, boundaries, bounty, bountyhunter, bourne, box, boxer, boy, boyfriend, boys, brad, bradleycooper, bradpitt, brain, brainwash, brand, brave, bravery, brazil, brazilian, break, breakdown, breakup, breast, breed, brendanfraser, brendangleeson, brent, brettratner, brew, brian, briandepalma, bride, bridesmaid, bridge, brief, brielarson, bright, brilliant, bring, brink, britain, british, britishsecretservice, brittanymurphy, broadcast, broadway, broker, bronx, brooklyn, broom, brothel, brother, brotherbrotherrelationship, brotherinlaw, brothers, brothersisterrelationship, brown, bruce, brucegreenwood, brucewillis, brutal, brutality, brutally, bryansinger, buck, bud, buddies, buddy, buddycomedy, buddycop, budget, bug, build, bully, bumble, bunch, bunker, bunny, burglar, burn, bury, bus, business, businessman, bust, busy, butcher, butler, button, buy, buzz, cabin, caesar, cage, cairo, california, calvin, camcorder, camera, cameraman, cameras, camerondiaz, camp, campaign, campbell, campus, canada, canadian, cancer, candidate, candy, canine, cannibal, canuxploitation, capable, caper, capital, capitalism, capt, captain, captivate, captive, capture, car, caraccident, carchase, carcrash, card, care, career, carefree, caretaker, careymulligan, caribbean, carjourney, carl, carlagugino, carmen, carnival, carol, carolina, carrace, carrieannemoss, carry, cars, cartel, carter, cartoon, caryelwes, case, caseyaffleck, cash, casino, cast, castle, cat, cataclysm, catandmouse, catastrophe, catch, cateblanchett, catherinedeneuve, catherinekeener, catherinezetajones, catholic, catholicism, cattle, cause, cavalry, cave, cavemen, celebrate, celebration, celebrity, cell, cellphone, cemetery, center, central, centuries, century, ceo, ceremony, certain, chad, chain, chainsaw, challenge, chamber, champion, championship, chance, change, channingtatum, chaos, chaotic, chapter, character, charge, charismatic, charles, charlie, charliesheen, charlizetheron, charlotte, charm, chart, chase, chauffeur, chazzpalminteri, cheat, check, cheerleader, chef, chemical, cher, chevychase, chicago, chicken, chief, child, childabuse, childhero, childhood, childhoodmemory, childhoodtrauma, childprodigy, children, childrens, childs, chill, china, chinese, chip, chiwetelejiofor, chloe, chloëgracemoretz, chloësevigny, chocolate, choice, choices, choir, choose, chosenone, chowyunfat, chris, chriscolumbus, chriscooper, chrisevans, chrishemsworth, chrisklein, chrispine, chrisrock, christ, christian, christianbale, christianity, christianslater, christinaapplegate, christinaricci, christine, christmas, christmasparty, christmastree, christopher, christopherlambert, christopherlloyd, christophernolan, christopherplummer, christopherwalken, christophwaltz, chrisweitz, chronicle, chuck, chuckrussell, church, cia, ciaránhinds, cigarettesmoking, cigarsmoking, cillianmurphy, cinderella, cindy, cinema, circle, circuit, circumstances, circus, cities, citizens, city, citys, civil, civilian, civilization, civilwar, claim, claire, clairedanes, claireforlani, clan, clark, clash, class, classdifferences, classic, classmate, classmates, classroom, claustrophobia, clay, clean, clear, clerk, client, clients, cliff, climate, climb, clinteastwood, cliveowen, clock, clone, close, closer, clothe, cloud, clown, club, clue, clueless, clutch, coach, coast, coastal, cocaine, cocky, cod, code, cody, coffin, col, cold, coldwar, cole, colin, colinfarrell, colinfirth, collapse, colleague, colleagues, collect, collection, collector, college, collide, collins, collision, colombia, colonel, colony, color, colorado, colorful, coma, combat, combination, combine, come, comeback, comedian, comedic, comedy, comet, comfort, comic, comicbook, comics, comingofage, comingout, command, commander, commercial, commit, commitment, common, communicate, communication, community, companion, company, compete, competition, complete, completely, complex, complicate, complications, composer, compromise, computer, computervirus, conan, concern, concert, conclusion, condition, conduct, confederate, confession, confidence, confident, conflict, confront, confuse, congress, conman, connect, connecticut, connection, connections, connie, connienielsen, connor, conquer, conquest, conrad, conscience, consequences, conservative, consider, conspiracy, conspire, constant, constantly, construction, consume, contact, contain, contemporary, contend, contest, continue, contract, control, controversial, convention, converge, convict, convince, cook, cool, cooper, cooperate, cop, cope, core, corner, corporate, corporation, corpse, corrupt, corruption, cost, costume, count, countless, countries, country, countryhouse, countrymusic, countrys, countryside, coup, couple, courage, courageous, course, court, courtcase, courteneycox, courtroom, cousin, cover, covert, coverup, covet, cow, cowardliness, cowboy, coworker, coworkers, crab, crack, craft, craig, crane, crash, crate, crave, crazy, create, creation, creative, creator, creature, creatures, credit, creepy, crew, crime, crimefighter, crimes, criminal, criminals, crisis, critical, crocodile, crook, cross, crosscountry, crossdressing, crossroads, crowd, crown, crucifixion, cruel, cruelty, cruise, crumble, crusade, crush, crystal, cuba, cubagoodingjr, culminate, cult, cultfilm, cultural, culture, cultureclash, cunning, cup, cure, curiosity, current, currently, curse, curtishanson, cusp, custody, customers, cut, cutthroat, cuttingthecord, cyberpunk, cyborg, cynical, dad, daily, dakotafanning, dam, damage, damon, dan, danaykroyd, dance, dancer, danger, dangerous, dangers, daniel, danielcraig, danieldaylewis, danielradcliffe, daniels, danny, dannyboyle, dannydevito, dannyglover, darcy, dare, dark, darkcomedy, darkest, darkness, darylhannah, dash, date, daughter, daughters, dave, david, davidarquette, davidcronenberg, davidduchovny, davidfincher, davidgordongreen, davidmorse, davidorussell, davidschwimmer, davidspade, davidthewlis, davis, daxshepard, day, daydream, days, dc, dccomics, dea, dead, deadliest, deadly, deal, dealer, dealers, dean, death, deathofafriend, deathoffather, deathpenalty, deaths, debt, debut, decade, decades, decapitation, decease, deceit, deception, decide, decision, decisions, declare, decline, dedicate, deeds, deep, deeper, deeply, defeat, defend, defense, defy, deliver, delivery, delusion, demand, demimoore, demon, demonic, demonicpossession, demons, deniserichards, denmark, dennis, dennisdugan, dennishopper, dennisquaid, dentist, deny, denzelwashington, depart, department, depict, depress, depression, depths, deputy, derange, derek, derekluke, descend, desert, design, desire, desolate, despair, desperate, desperately, desperation, despite, destination, destine, destiny, destroy, destruction, detective, detectives, detention, determination, determine, detroit, devastate, develop, device, devil, devious, devise, devote, diabolical, diagnose, dialogue, diamond, diane, dianekeaton, dianekruger, dianelane, diary, dick, dictator, didnt, die, diego, differences, different, difficult, dig, dignity, diner, dinner, dinosaur, dinosaurs, dire, direct, direction, director, directors, dirt, dirty, dirtycop, disable, disappear, disappearance, disaster, disastrous, discover, discovery, disease, disfigurement, disgrace, disguise, dishonesty, disillusion, disorder, dispatch, disrupt, distant, district, distrust, disturb, ditch, diva, dive, divide, division, divorce, dj, dna, doc, dock, doctor, document, documentary, dodge, doesnt, dog, doll, dollar, dollars, dolphin, dolphlundgren, domination, don, donaldpetrie, donaldsutherland, doncheadle, dont, doom, doomsday, door, doorstep, doppelganger, dorothy, double, doublecrossed, doublelife, doubt, doug, douglas, dougliman, dr, dracula, drag, dragon, drama, dramatic, draw, dream, dress, drewbarrymore, drift, drifter, drink, drive, driver, drone, drop, drown, drug, drugabuse, drugaddiction, drugdealer, druglord, drugsmuggle, drugtraffic, druguse, drunken, dualidentity, dub, duck, dude, duel, duke, dump, duo, duringcreditsstinger, dustinhoffman, dutch, duty, dwarves, dwaynejohnson, dyinganddeath, dylan, dynamic, dynasty, dysfunctional, dysfunctionalfamily, dystopia, dystopicfuture, eager, earlier, early, earn, earth, earthquake, easily, east, easy, eat, eccentric, economic, economics, economy, eddie, eddiegriffin, eddiemurphy, edgar, edge, edharris, editor, education, edward, edwardburns, edwardnorton, edwardzwick, effect, effort, efforts, egg, ego, egypt, egyptian, el, elaborate, elderly, election, elements, elephant, eliaskoteas, elijahwood, eliminate, elisabethshue, elite, elizabeth, elizabethbanks, ella, ellenburstyn, ellenpage, ellie, elliot, elliott, elude, elusive, elves, elvis, embark, embassy, embroil, emerge, emergency, emilehirsch, emily, emilyblunt, emilymortimer, emilywatson, emma, emmaroberts, emmastone, emmathompson, emmawatson, emotional, emotionally, emotions, emperor, empire, employ, employee, employees, employer, enable, encounter, encourage, end, endless, endoftheworld, endure, enemies, enemy, energy, enforcement, engage, engagement, engineer, england, english, enigmatic, enjoy, enlist, enormous, ensemblecast, enslave, ensue, ensure, entangle, enter, enterprise, entertain, entertainer, entire, entirely, entity, environment, environmental, epic, epidemic, episode, era, eric, ericbana, erin, ernest, eroticism, erupt, escalate, escapade, escape, escapefromprison, escort, especially, espionage, establish, establishment, estate, estrange, et, eternal, ethan, ethancoen, ethanhawke, eugenelevy, europe, european, eva, evacuation, evade, evamendes, evanrachelwood, eve, event, events, eventually, everybody, everyday, evidence, evil, evolution, evolve, ewanmcgregor, ex, exact, exactly, examine, exboyfriend, exchange, excite, exclusive, excon, excop, execute, execution, executive, exercise, exgirlfriend, exile, exist, existence, existentialism, exorcism, exotic, exoticisland, expect, expectations, expedition, experience, experiment, expert, explain, explode, exploit, explore, explorers, explosion, explosive, expose, extend, extramaritalaffair, extraordinary, extraterrestrial, extraterrestrialtechnology, extreme, extremely, extremeviolence, exwife, eye, face, facetoface, facility, fact, factions, factory, fade, fail, fairy, fairytale, faith, fake, fall, fallinginlove, falseidentity, falselyaccused, fame, famed, families, family, familyconflict, familyrelationships, familys, familysdailylife, famkejanssen, famous, fan, fangvamp, fantastic, fantasy, fantasyworld, far, farewell, farm, farmer, farmhouse, fascinate, fashion, fast, faster, fat, fatal, fate, fateful, father, fatherdaughterrelationship, fatherinlaw, fathersonrelationship, favor, favorite, fbi, fbiagent, fear, fearless, fearsome, feature, federal, federation, feed, feel, feet, fellow, female, femalecorpse, femalefriendship, femalenudity, femaleprotagonist, fence, fend, feralchild, ferocious, festival, feud, fgarygray, fiancee, fiancé, fiancée, fiction, fictional, fictionalplace, field, fierce, fiercely, fifth, fight, fighter, fighters, figure, file, film, filmdirector, filmmaker, filmmakers, filmmaking, filmnoir, filmproducer, final, finale, finally, finance, financial, fine, finish, finn, firemen, fireworks, firm, firsttime, fish, fisherman, fishoutofwater, fistfight, fit, fix, flame, flash, flashback, flat, fledgling, flee, fleet, flesh, flight, fling, flint, flirt, flood, floor, florida, florist, flower, fly, flyingsaucer, focus, fog, foil, foley, folk, follow, food, foot, footage, football, footchase, forbid, forbiddenlove, force, ford, foreign, forest, forestwhitaker, forever, forge, forget, forgiveness, form, formidable, formula, fort, fortune, fortuneteller, forward, foster, foundfootage, fourth, fox, frame, france, franchise, francis, francisco, francisfordcoppola, frank, frankcoraci, frankenstein, frankie, frankiemuniz, frankoz, fraternity, fraud, freak, fred, freddieprinzejr, freddy, free, freedom, freespirited, freeze, french, fresh, freshman, friend, friendly, friends, friendship, frighten, frog, fromragstoriches, frontier, frustrate, fu, fuel, fugitive, fulfill, fully, fun, fund, funeral, funny, furious, future, futuristic, fword, gabrielbyrne, gaelgarcíabernal, gain, galaxy, gamble, gambler, game, gandhi, gang, gangster, gangsterboss, gangsters, gangwar, garage, garden, garfield, garrymarshall, gary, garyoldman, garysinise, gas, gasstation, gate, gather, gay, gayinterest, gayrelationship, genehackman, general, generation, generations, genetic, genetically, genetics, genius, genocide, genre, gentle, geoffreyrush, george, georgearomero, georgeclooney, georgemiller, georgia, gerardbutler, german, germans, germany, getaway, ghetto, ghost, gi, giant, giantrobot, giants, gift, gig, giovanniribisi, girl, girlfriend, girlfriends, girls, gladiator, glamorous, glass, glennclose, global, globe, glory, goal, god, gods, gold, golden, golf, good, goodvsevil, goons, gordon, gore, goreverbinski, gorgeous, gorilla, gossip, gotham, gothamcity, government, governments, governor, grace, grade, gradually, graduate, graduation, grand, grandfather, grandmother, grant, graphic, grasp, grave, great, greater, greatest, greece, greed, greedy, greek, green, greg, gregkinnear, gregorypeck, grief, grieve, griffin, grim, grind, grip, grisly, gritty, group, groupoffriends, grow, growingup, gruesome, guard, guardian, guerrilla, guest, guests, guidance, guide, guilt, guilty, guitar, gun, gunfight, gunman, gunslinger, guru, gusvansant, guy, guypearce, guyritchie, gwynethpaltrow, gym, gypsy, habit, hack, hacker, hair, haleyjoelosment, half, halfway, hall, halleberry, halloween, hallucination, han, hand, handle, handsome, handtohandcombat, hang, hangover, hannah, hansel, hapless, happen, happily, happiness, happy, harbor, hard, harder, hardnosed, harlem, harmony, harold, haroldramis, harris, harrison, harrisonford, harrow, harry, harsh, hart, harvard, harvey, harveykeitel, hat, hatch, hate, hatred, haunt, hauntedhouse, haven, havoc, hawaii, hawk, hawkins, haydenchristensen, haze, head, headline, headquarter, heal, health, hear, heart, heartattack, heartbreak, hearts, heat, heather, heathergraham, heathledger, heaven, heavily, heavy, heavymetal, hed, heir, heiress, heist, helen, helenabonhamcarter, helenhunt, helenmirren, helicopter, hell, help, henchmen, henry, hero, heroes, heroic, heroin, heroism, hes, hiddencamera, hide, high, higher, highlands, highly, highschool, highschoolsports, highschoolstudent, highsociety, highstakes, hightech, highway, hijack, hike, hilarious, hilaryduff, hilaryswank, hill, himalaya, hip, hiphop, hippie, hire, historic, historical, historicalfigure, history, hit, hitch, hitchhiker, hitman, hobbit, hockey, hold, hole, holiday, holly, hollywood, holmes, holy, home, homeinvasion, homeland, homeless, homelessperson, hometown, homicidal, homicide, homophobia, homosexuality, honest, honey, honeymoon, hong, hongkong, honor, hood, hoodlum, hook, hop, hope, hopedavis, hopelessly, hopper, horrible, horrific, horrify, horror, horrors, horse, horsebackriding, horserace, hospital, host, hostage, hostagetaking, hostile, hostility, hot, hotel, hotelroom, hotshot, hottest, hour, hours, house, household, housekeeper, housewife, howard, hudson, huge, hughgrant, hughjackman, human, humananimalrelationship, humanity, humankind, humans, humiliate, humiliation, humor, hundreds, hunger, hungry, hunt, hunter, hunters, hurricane, hurt, husband, hustler, hypnosis, hyunseo, ianmckellen, ice, icecube, iconic, idea, idealistic, ideas, identities, identity, idol, idyllic, ignite, ignore, ii, iii, ill, illegal, illegaldrugs, illegalimmigration, illegalprostitution, illness, im, image, imaginary, imagination, imagine, imax, immediately, immense, immigrant, immigrants, immigration, immortal, immortality, impact, imperial, important, impossible, impostor, imprison, imprisonment, inadvertently, incest, incident, incidents, include, incompetent, increase, increasingly, incredible, independence, independent, independentfilm, india, indian, indiana, indianlead, indians, individual, industry, inexplicably, infamous, infant, infect, infection, infidelity, infiltrate, influence, influential, informant, information, inhabit, inhabitants, inherit, inheritance, initially, initiate, injure, injury, injustice, inmates, inner, innocence, innocent, insane, insaneasylum, insanity, inside, insist, insomnia, inspector, inspiration, inspire, installment, instant, instantly, instead, institution, instructor, insurance, insurgence, intelligence, intelligent, intend, intense, intent, intention, intentions, interfere, intergalactic, intern, international, internet, interrogation, interspeciesromance, intertwine, interview, intimate, intolerance, intrepid, intricate, intrigue, introduce, invade, invaders, invasion, invent, invention, inventor, investigate, investigation, investigator, investment, invisible, invite, involve, iowa, ira, iran, iranian, iraq, iraqwar, ireland, irish, iron, island, isnt, isolate, isolation, israel, israeli, issue, italian, italy, ivanreitman, jack, jackass, jackblack, jackie, jackiechan, jacknicholson, jackson, jadapinkettsmith, jade, jail, jake, jakegyllenhaal, jam, jamaica, jamescaan, jamescameron, jamesfranco, jamesivory, jamesmangold, jamesmarsden, jamesmcavoy, jameswan, jameswoods, jamie, jamiefoxx, jamieleecurtis, jane, janitor, japan, japanese, jaredleto, jason, jasonbateman, jasonbiggs, jasonlee, jasonschwartzman, jasonsegel, jasonstatham, javierbardem, jay, jaychandrasekhar, jayroach, jazz, jealous, jealousy, jean, jeanclaudevandamme, jeanreno, jedi, jeff, jeffbridges, jeffdaniels, jeffgoldblum, jeffreywright, jennifer, jenniferaniston, jenniferconnelly, jennifergarner, jenniferjasonleigh, jenniferlawrence, jenniferlopez, jenniferlovehewitt, jenny, jeremyirons, jeremyrenner, jerry, jersey, jerusalem, jess, jesse, jessebradford, jesseeisenberg, jessica, jessicaalba, jessicabiel, jessicachastain, jesus, jesuschrist, jetli, jew, jewel, jewish, jigsaw, jill, jim, jimbroadbent, jimcarrey, jimcaviezel, jimmy, joanallen, joancusack, joaquinphoenix, job, jobinterview, jock, jodiefoster, joe, joedante, joel, joelcoen, joeledgerton, joelschumacher, joepesci, joey, john, johncarpenter, johncreilly, johncusack, johngoodman, johnhurt, johnkrasinski, johnleguizamo, johnmalkovich, johnmctiernan, johnny, johnnydepp, johnnyknoxville, johnsingleton, johnson, johntravolta, johnturturro, johnwoo, join, jon, jonahhill, jonathan, jonathanfrakes, jonathanrhysmeyers, jones, jonfavreau, jonturteltaub, jonvoight, jordan, joseph, josephgordonlevitt, josh, joshbrolin, joshhartnett, joshhutcherson, journalism, journalist, journey, joy, jr, juan, judelaw, judge, judidench, julia, julian, juliannemoore, juliaroberts, juliastiles, julie, july, jump, jungle, junior, junkie, jurors, jury, just, justice, justinlong, justintimberlake, kansas, karaoke, karate, karen, karlurban, kat, kate, katebeckinsale, katebosworth, katehudson, katemara, katewinslet, katherine, katherineheigl, kathy, kathybates, katie, katieholmes, katniss, keanureeves, keiraknightley, kelly, kellypreston, ken, kennethbranagh, kermit, kevin, kevinbacon, kevincostner, kevinhart, kevinjames, kevinkline, kevinsmith, kevinspacey, key, kgb, khan, kick, kid, kidnap, kidnappers, kidsandfamily, kiefersutherland, kill, killer, killerrobot, killers, kim, kimbasinger, kind, kindly, king, kingdom, kingpin, kings, kirk, kirstendunst, kiss, kit, kitchen, knife, knight, knock, know, knowledge, kong, korea, korean, kriskristofferson, kristenbell, kristenstewart, kristenwiig, kristinscottthomas, krueger, kumar, kung, kungfu, kurt, kurtrussell, kyle, la, lab, label, labor, laboratory, lack, ladder, ladies, lady, ladykiller, lake, lanawachowski, land, landscape, lane, language, languagebarrier, lapd, large, larger, largest, larry, las, lasergun, lassehallström, lasvegas, late, later, latest, latin, laugh, launch, laura, lauralinney, laurencefishburne, lavish, law, lawman, lawrence, laws, lawyer, laxative, lay, lazy, lead, leader, leaders, leadership, league, learn, leave, lee, legacy, legal, legend, legendary, legends, lenaheadey, leo, leon, leonardnimoy, leonardodicaprio, lesbian, lesbianrelationship, lesliemann, leslienielsen, lesson, lessons, let, lethal, letter, level, lewis, lgbt, liamneeson, liar, liberation, lie, lieutenant, lievschreiber, life, lifeanddeath, lifechanging, lifelong, lifes, lifestyle, lifetime, lift, light, lightning, like, lillywachowski, lily, limit, lincoln, linda, lindsaylohan, line, link, lion, lisa, lisakudrow, list, literally, literature, little, littleboy, live, liveactionandanimation, liz, llcoolj, loan, local, locals, locate, location, lock, logan, loganlerman, lola, london, londonengland, lone, loneliness, lonely, loner, lonewolf, long, longer, longlost, longtime, look, loop, loose, loosely, loot, lord, los, losangeles, lose, loser, loss, lossofbrother, lossofchild, lossoffamily, lossoffather, lossofhusband, lossoflover, lossofmother, lossofparents, lossofson, lossofvirginity, lossofwife, lot, lottery, lou, louis, louisiana, louisleterrier, lounge, lovable, love, loveatfirstsight, loveless, loveletter, loveofoneslife, lover, loverfemale, lovers, lovesickness, lovetriangle, low, loyal, loyalty, lt, lucas, luck, lucky, lucy, lucyliu, luke, lukewilson, lure, lurk, lust, luxury, machine, machinegun, mad, madame, madea, madison, madness, madonna, mafia, magazine, maggie, magic, magical, magician, magnate, maid, main, maine, maintain, major, make, makeover, malcolm, malcolmdlee, male, malefemalerelationship, malefriendship, malenudity, malibu, mall, man, manage, manager, mandymoore, manhattan, manhattannewyorkcity, manhunt, maniac, manipulate, manipulation, mankind, manner, mansion, manvsmachine, manwomanrelation, map, mar, marcforster, march, marcus, maria, mariabello, marie, marijuana, marine, marines, marisatomei, mark, markduplass, market, markruffalo, markstrong, markwahlberg, marlonbrando, marlonwayans, marriage, marriagecrisis, marriageproposal, marriedcouple, marry, marshal, marshall, martial, martialarts, martian, martin, martincampbell, martinfreeman, martinlawrence, martinscorsese, marty, marvelcinematicuniverse, marvelcomic, mary, marymccormack, mask, maskedkiller, mass, massacre, massive, massmurder, master, mastermind, masturbation, mat, match, mathematician, mathematics, matrix, matt, mattdamon, mattdillon, matter, matteroflifeanddeath, matthew, matthewbroderick, matthewlillard, matthewmcconaughey, maurice, maverick, max, maya, maybe, mayhem, mayor, maze, mccall, mcclane, mean, meat, mechanic, medal, medallion, media, medical, medication, medicine, medieval, meet, megan, megryan, melbrooks, melgibson, melissa, melt, melvin, member, members, memories, memory, memoryloss, men, menace, mental, mentalillness, mentally, mentallydisabled, mentor, mephisto, mercenaries, mercenary, merciless, mere, mermaid, merylstreep, message, metal, meteor, methods, metro, mexican, mexicanstandoff, mexico, mi, mia, miami, michael, michaelangarano, michaelbay, michaelcaine, michaeldouglas, michaelfassbender, michaeljfox, michaelkeaton, michaelmoore, michaels, michaelshannon, michaelsheen, michelle, michellemonaghan, michellepfeiffer, michellerodriguez, michigan, mickeyrourke, middle, middleaged, middleages, middleeast, midlifecrisis, midnight, midst, midwest, mighty, mike, mikemyers, mikenewell, milakunis, mildmannered, miles, military, millajovovich, miller, million, millionaire, millions, milo, mind, mindcontrol, miner, miners, minions, minister, minnesota, minniedriver, minor, minute, minutes, miracle, miranda, mirror, misadventures, mischievous, miserable, misfit, misfits, misguide, mismatch, miss, missile, missingperson, mission, missionary, missionofmurder, mississippi, mistake, mistakenidentity, mistakenly, mistress, misunderstand, mitch, mitchell, mix, mnightshyamalan, mob, mobster, mobsters, mockumentary, model, modern, modernday, mole, molly, mom, moment, moments, moms, money, monica, monk, monkey, monster, monsters, monstrous, montana, monte, month, months, moon, moonlight, moore, moral, morality, morganfreeman, morgue, mormon, morning, morris, morrischestnut, mortal, moscow, moses, mossad, motel, mother, motherdaughterrelationship, motherrole, mothersonrelationship, motion, motives, motley, motor, motorcycle, mount, mountain, mountains, mouse, movement, movie, movieinmovie, movies, moviestar, mr, mrs, multiple, multiplestorylines, mumblecore, mumblegore, murder, murderer, murderhunt, murderous, murphy, muse, museum, music, musical, musicband, musician, musicians, muslim, mutant, mutants, mutate, mutation, mutiny, mutual, myers, mysteries, mysterious, mysteriously, mystery, mystical, mythical, mythology, naive, nancy, nanny, naomiwatts, narcotics, narnia, narration, nasa, nasty, natalie, natalieportman, nathan, nation, national, nations, native, nativeamerican, natural, naturaldisaster, naturally, nature, navigate, navy, navyseal, nazi, nazigermany, nazis, nba, nd, near, nearby, nearfuture, nearly, necessary, need, nefarious, neglect, negotiate, neighbor, neighborhood, neiljordan, nelson, nemesis, neonoir, nephew, nerd, nerdy, netherlands, network, neurotic, nevada, nevecampbell, new, newborn, newcomer, newfound, newidentity, newjersey, newlove, newly, newmexico, news, newspaper, newyearseve, newyork, newyorkcity, nialong, nice, nicholas, nick, nicknolte, nicky, nicolascage, nicole, nicolekidman, niece, night, nightclub, nightlife, nightmare, nightmares, nightmarish, nights, nineyearold, ninja, noble, noopeningcredits, normal, norman, north, northern, nose, note, notebook, notice, notorious, nova, novel, novelist, november, novice, nuclear, nuclearmissile, nudity, number, numberintitle, numerous, nun, nurse, ny, nypd, object, obsess, obsession, obsessive, obstacles, obtain, occult, occupation, occupy, occur, occurrences, ocean, october, odd, oddball, odds, odyssey, offer, office, officer, official, offspring, ogre, ohio, oil, old, older, oldermanyoungerwomanrelationship, oliver, oliverstone, olivia, oliviawilde, oliviawilliams, olympic, olympicgames, olympics, omar, onenight, onenightstand, ones, online, ontherun, open, opera, operate, operation, operations, operative, opportunity, oppose, opposite, oppositesattract, opposition, oppression, orchestrate, orcs, order, ordinary, oregon, organization, organize, organizedcrime, original, origins, orlandobloom, orleans, orphan, orphanage, oscar, oscaraward, oscarisaac, otherworldly, outback, outbreak, outcast, outerspace, outlaw, outrageous, outside, outwit, overcome, overdose, overrun, oversee, overthrow, overwhelm, owenwilson, owl, owner, owners, oxford, oz, pacific, pack, package, pact, pageant, pain, painful, paint, painter, pair, pal, palace, pan, panic, panther, paper, paradise, parallel, parallelworld, paranoia, paranoid, paranormal, parent, parentskidsrelationship, paris, park, parker, parody, parole, participate, particularly, partner, partnership, party, pass, passenger, passengers, passion, passionate, passions, past, pastor, path, paths, patient, patients, patriarch, patriciaarquette, patrick, patrickstewart, patrickwilson, patriotism, patrol, paul, paulapatton, paulbettany, paulgiamatti, paulgreengrass, paulnewman, paulrudd, paulwalker, paulweitz, paulwsanderson, pawn, pay, peace, peaceful, pearl, peasant, pedophile, pedophilia, peer, penguin, penguins, penn, pennsylvania, penélopecruz, people, perfect, perform, performance, performances, performer, perilous, period, perioddrama, persian, person, personal, personality, persuade, peru, pet, pete, peter, peterberg, peterfarrelly, peterjackson, petersarsgaard, petersegal, petty, phantom, phil, philadelphia, philippe, philipseymourhoffman, phillipnoyce, philosophy, phone, photo, photograph, photographer, photography, physical, pianist, piano, picard, pick, picture, piece, piercebrosnan, pierre, pig, pilot, pimp, pin, pink, pinocchio, piperperabo, pirate, pistol, pit, pitch, place, plague, plan, plane, planet, plannedmurder, plant, plantation, play, playboy, player, players, playground, playwright, pleasure, pledge, plenty, plot, plunge, plus, po, poet, poetry, point, poison, poker, police, policebrutality, policechase, policeman, policeofficer, policeoperation, political, politician, politicians, politics, pollution, polly, pool, poor, pop, popculture, popstar, popular, popularity, populate, population, porn, pornography, port, portal, porter, portrait, portray, pose, position, possess, possession, possibility, possible, possibly, post, postapocalyptic, posttraumaticstressdisorder, pot, potential, potter, pound, poverty, power, powerful, poweroutage, practice, prank, prayer, preacher, precious, predator, prefer, pregnancy, pregnancyandbirth, pregnant, prehistoric, prejudice, premonition, prepare, prequel, presence, present, president, presidential, presidentialelection, presidents, press, pressure, prestigious, presume, pretend, pretty, prevent, previous, prey, price, priceless, pride, priest, prime, prince, princess, principal, prison, prisoncell, prisoner, prisoners, prisonersofwar, prisons, private, privatedetective, privateschool, prize, pro, probe, problem, problems, proceed, process, prodigy, produce, producer, product, production, professional, professor, profit, program, progress, project, prom, prominent, promise, promoter, promotion, prompt, promptly, property, prophecy, proportion, propose, prosecution, prospect, prostitute, prostitution, protect, protection, protest, prove, provide, psychiatric, psychiatrist, psychic, psychological, psychologist, psychology, psychopath, psychotic, pub, puberty, public, publicist, publish, pull, punish, punishment, punk, puppet, puppy, purchase, pure, purpose, pursue, pursuit, push, puzzle, pyramid, quarantine, quarterback, queen, queenie, queenlatifah, quentin, quentintarantino, quest, question, quick, quickly, quiet, quirky, quit, quite, rabbit, race, raceagainsttime, racehorse, racer, rachaelleighcook, rachel, rachelmcadams, rachelweisz, racial, racism, radhamitchell, radiation, radio, radiopresenter, rag, rage, rageandhate, ragtag, raid, railroad, rain, raise, rally, ralph, ralphfiennes, rampage, ranch, ranger, rangers, rank, ransom, rap, rape, rapidly, rapmusic, rapper, rare, rat, ravage, ray, rayliotta, raymond, raywinstone, reach, read, ready, real, realise, reality, realize, reallife, really, realm, reaper, reason, rebeccahall, rebel, rebellion, rebellious, reboot, rebuild, receive, recent, recently, reckless, reclaim, reclusive, recognize, reconcile, reconnect, record, recount, recover, recruit, red, redeem, redemption, rediscover, redneck, reel, reesewitherspoon, reflect, refuge, refuse, regain, regard, regime, regret, regular, reign, reject, rekindle, relationship, relationshipproblems, relationships, relatives, release, relentless, religion, religionandsupernatural, religious, relocate, reluctant, reluctantly, rely, remain, remake, remember, remind, remote, remove, renegade, renerusso, rennyharlin, renowned, rent, renéezellweger, repair, repayment, replace, report, reporter, represent, repress, republic, reputation, request, require, rescue, research, researcher, resident, residents, resist, resistance, resolve, resort, resources, respect, respective, respond, response, responsibility, responsible, rest, restaurant, restore, result, resurface, resurrect, resurrection, retell, retire, retirement, retreat, retribution, retrieve, return, reunion, reunite, reveal, revelation, revenge, reverend, revive, revolution, revolutionary, revolve, reward, rich, richard, richarddonner, richarddreyfuss, richardgere, richardlinklater, rick, rid, riddle, ride, rider, ridleyscott, rifle, rig, right, rightandjustice, riley, ring, riot, rip, ripley, rise, risk, ritual, rival, rivalry, river, road, roadmovie, roadtrip, roam, roar, rob, robber, robbers, robbery, robcohen, robert, robertdeniro, robertdowneyjr, robertduvall, robertenglund, robertredford, robertrodriguez, roberts, robertzemeckis, robin, robinwilliams, robinwright, robot, robots, robreiner, rock, rockandroll, rocket, rockstar, rocky, roger, rogerdonaldson, rogermoore, rogue, rolandemmerich, role, roles, roll, roman, romance, romanempire, romanpolanski, romantic, romanticcomedy, rome, romeo, ron, ronhoward, ronnie, ronperlman, roof, rooftop, rookie, room, roommate, roommates, root, rope, rosamundpike, rosariodawson, rosebyrne, ross, rough, round, route, routine, row, roy, royal, royalty, ruby, rugby, rugrats, ruin, rule, rumor, run, runaway, runner, rupertgrint, rural, ruralsetting, rush, russell, russellcrowe, russia, russian, russians, ruth, ruthless, ryan, ryangosling, ryanphillippe, ryanreynolds, sabotage, sachabaroncohen, sacred, sacrifice, sadism, sadist, sadistic, sadness, safe, safety, saga, sail, sailor, saint, sale, sales, salesman, sally, salmahayek, sam, samantha, samanthamorton, sammendes, samneill, samraimi, samrockwell, samuel, samuelljackson, samurai, san, sand, sandrabullock, sandy, sanfrancisco, sanity, santa, santaclaus, sara, sarah, sarahjessicaparker, sarahmichellegellar, sarapaxton, satan, satellite, satire, satisfy, savage, save, savingtheworld, say, scam, scandal, scar, scarlettjohansson, scary, scene, scenes, schedule, scheme, schizophrenia, scholarship, school, schoolteacher, science, sciencefiction, scientific, scientist, scientists, scifi, score, scotland, scott, scottglenn, scottish, scout, scramble, scream, screen, screenplay, screenwriter, script, scubadiving, sea, seal, sean, seanbean, seanconnery, seannwilliamscott, seanpenn, search, seas, seaside, season, seattle, sebastian, seclude, second, secret, secretagent, secretary, secretidentity, secretintelligenceservice, secretlove, secretly, secretmission, secretorganization, secrets, secretservice, secretsociety, section, secure, security, securityguard, seduce, seduction, seductive, seek, seemingly, seize, self, selfdefense, selfdiscovery, selfesteem, selfsacrifice, sell, selmablair, senate, senator, send, senior, seniors, sense, sensitive, sentence, separate, separation, september, sequel, sergeant, serial, serialkiller, series, seriesofmurders, seriously, servant, serve, service, set, seth, sethgreen, sethrogen, settle, seven, severe, severely, sewer, sex, sexaddiction, sexual, sexualabuse, sexuality, sexually, sexualobsession, sexy, shadow, shadowy, shady, shake, shakespeare, shakespeares, shane, shanghai, shannynsossamon, shape, share, shark, sharkattack, sharonstone, sharp, shatter, shaw, shawnlevy, shed, shelter, shepherd, sheriff, shes, shialabeouf, shield, shift, ship, shipwreck, shock, shoe, shoot, shootout, shop, short, shotgun, showdown, shower, shrek, shut, shuttle, shy, shyness, siblings, sick, sid, sidekick, sidney, siege, sight, sign, signal, sigourneyweaver, silence, silent, silentfilm, silver, similar, simon, simonpegg, simonwest, simple, simply, sin, sing, singer, singers, single, singlefather, singlemother, singleparent, sinister, sink, sir, sissyspacek, sister, sisters, sistersisterrelationship, sit, site, sittingonatoilet, situation, situations, sixth, size, skateboard, skeleton, skeptical, ski, skill, skilled, skills, skull, sky, skyscraper, skywalker, slacker, slapstick, slasher, slaughter, slave, slavery, slay, sleazy, sleep, sleepy, slip, slowly, slum, sly, small, smalltime, smalltown, smart, smash, smile, smite, smith, smoke, smuggle, snack, snake, snatch, sneak, sniper, snow, snowstorm, soccer, social, socially, society, sociopath, sofia, solar, soldier, sole, solitary, solomon, solve, somebody, somewhat, son, song, songs, sons, soon, sophie, sorcerer, sorcery, sorority, sort, soul, soulmates, souls, sound, soundtrack, sour, source, south, southafrica, southern, southernusa, soviet, sovietunion, space, spacecraft, spacemarine, spacemission, spaceopera, spaceship, spacetravel, spain, span, spanish, spark, speak, special, specialist, specialize, species, spectacle, spectacular, speech, speed, spell, spend, spider, spike, spikelee, spin, spiral, spirit, spiritual, spirituality, spoil, spoof, sport, sportsteam, spot, spotlight, spread, spring, spy, squad, square, st, stab, stadium, staff, stag, stage, stake, stalk, stalker, stan, stand, star, starcrossedlovers, stardom, starfleet, stark, start, state, station, status, stay, steal, steampunk, steel, step, stepfather, stephen, stephendorff, stephenfrears, stephenherek, stephenrea, stepmother, steve, stevebuscemi, stevecarell, stevemartin, steven, stevens, stevenseagal, stevensoderbergh, stevenspielberg, stevezahn, stewart, stick, stir, stitch, stock, stockbroker, stone, stoneage, stoner, stop, stopmotion, store, stories, storm, story, straight, strain, strand, strange, stranger, strangers, strategy, stray, street, streetgang, streets, streetwise, strength, stress, stretch, strict, strike, strip, stripclub, stripper, strive, strong, structure, struggle, stuart, student, students, studio, studios, study, stumble, stun, stunt, stupidity, style, subject, submachinegun, submarine, suburban, suburbia, subway, succeed, success, successful, successfully, successor, sudden, suddenly, sue, suffer, suggest, suicidal, suicide, suicideattempt, suit, suitcase, suitor, sullivan, summer, summon, sun, sunglasses, super, supercomputer, superhero, superheroes, superhuman, superhumanstrength, superman, supermarket, supernatural, supernaturalpowers, superpowers, superstar, supervillain, supervisor, supply, support, suppose, suppress, suppressedpast, sure, surf, surface, surfer, surgeon, surgery, surprise, surreal, surrealism, surround, surveillance, survival, survive, survivor, survivors, susan, susansarandon, suspect, suspense, suspicion, suspicions, suspicious, swallow, swat, swear, sweep, sweet, sweetheart, swimmingpool, swing, switch, sword, swordandsorcery, swordfight, swordplay, sylvesterstallone, symbol, table, tail, tale, talent, talented, tales, talk, talkinganimal, tall, tank, tap, tape, target, task, taste, tattoo, taxi, taxidriver, taylor, teach, teacher, teachers, team, tear, technology, ted, teen, teenage, teenagecrush, teenagegirl, teenager, teenagers, teenagesexuality, teencomedy, teenmovie, teens, telekinesis, telepathy, telephone, teleportation, television, tell, temple, tennessee, tennis, tense, tension, tensions, term, terminal, terminalillness, terrencehoward, terrible, terrier, terrify, territory, terror, terrorism, terrorist, terrorists, terrorize, terry, terrygilliam, tess, test, texas, th, thailand, thandienewton, thank, thanksgiving, thats, thcentury, theater, theatremilieu, theft, theme, theory, therapist, therapy, theres, theyll, theyre, theyve, thief, thieve, thing, things, think, thirst, thirty, thomas, thomashadenchurch, thomasjane, thompson, thor, thoughts, thousand, thousands, threat, threaten, threats, thrill, thriller, throne, throw, thrust, thugs, thwart, tibet, tick, ticket, tie, tiger, tildaswinton, tim, timallen, timburton, time, timeless, timetravel, timothyolyphant, timrobbins, timroth, timstory, tiny, tire, titanic, title, tobeymaguire, today, todd, toddphillips, tokyo, tom, tomberenger, tomcruise, tomhanks, tomhardy, tommy, tommyleejones, tomshadyac, tomwilkinson, tonicollette, tony, tonyscott, topsecret, torment, toronto, torture, total, totally, touch, tough, toughest, tour, tourist, tourists, tournament, tower, town, towns, townspeople, toxic, toy, toycomestolife, trace, track, tracy, trade, tradition, traditional, traffic, tragedy, tragic, tragically, trail, train, trainer, traitor, transfer, transform, transformation, transformers, transition, transplant, transport, transporter, trap, trauma, traumatic, travel, treacherous, treasure, treasurehunt, treat, treatment, tree, trek, trial, trials, triangle, tribe, trick, trigger, trilogy, trio, trip, triumph, troll, troop, tropical, trouble, troy, truck, trucker, true, truly, trust, truth, truths, try, tunnel, turbulent, turmoil, turn, turner, turtle, tv, tvmovie, tvshow, tvstation, twentysomething, twin, twinbrother, twist, tycoon, tyler, tylerperry, type, typical, tyrannical, téaleoni, ufo, ugly, ultimate, ultimately, umathurman, unable, unaware, unbeknownst, uncle, unconventional, uncover, undead, undercover, undercoveragent, undercovercop, underdog, undergo, underground, understand, undertake, underwater, underworld, unearth, unemployed, unemployment, unexpected, unexpectedly, unfold, unforeseen, unforgettable, unfortunate, unfortunately, unimaginable, union, unique, unit, unite, universe, university, unknown, unleash, unless, unlike, unlikely, unlikelyfriendship, unlock, unorthodox, unprecedented, unpredictable, unravel, unrequitedlove, unsimulatedsex, unsociability, unstable, unstoppable, unsuspecting, unthinkable, unusual, unveil, unwitting, unwittingly, upcoming, upper, upperclass, uprise, upset, upside, uptight, urban, urge, usa, usapresident, usarmy, use, usnavy, utah, vacation, valkilmer, valley, valuable, value, vampire, vampires, van, vandalism, vanessa, vanessahudgens, vanish, variety, various, vast, vatican, vault, vegas, vegetarian, vengeance, vengeful, venice, venture, verafarmiga, verge, version, verylittledialogue, vet, veteran, vicious, victim, victims, victor, victoria, victorian, victory, video, videogame, vienna, vietnam, vietnamveteran, vietnamwar, view, viggomortensen, vigilante, village, villagers, villain, villainous, vincent, vincevaughn, vindiesel, vineyard, violence, violent, violently, virgin, virginia, virginiamadsen, virginity, virtualreality, virus, vision, visions, visit, voice, volatile, volcano, volunteer, vomit, von, voodoo, vororte, vow, voyage, voyeurism, wacky, wade, wag, wager, wait, waitress, wake, walk, walker, wall, wallet, wallstreet, walt, walter, wander, wang, want, war, warcrimes, ward, warden, warehouse, warfare, warlock, warlord, warm, warn, warondrugs, warren, warrenbeatty, warrior, warriors, warship, warveteran, wash, washington, washingtondc, wasnt, waste, wasteland, watch, water, wave, way, ways, wealth, wealthy, weapon, weapons, wear, weather, weave, web, website, wed, week, weekend, weeks, welcome, werewolf, wesanderson, wesbentley, wescraven, wesley, wesleysnipes, west, western, whale, whats, wheelchair, whip, whisk, white, whitehouse, whoopigoldberg, whos, whove, wicked, widow, widower, wife, wifehusbandrelationship, wifes, wild, wilderness, wildly, willemdafoe, willferrell, william, williamhmacy, williamhurt, williams, williamshatner, willpatton, willsmith, wilson, win, wind, window, wine, wing, winner, winonaryder, winter, wipe, wise, wisecrack, wish, witch, witness, wits, wizard, wizardry, wolf, wolfgangpetersen, woman, womandirector, womanizer, womans, women, womens, wonder, wont, woo, wood, woods, woody, woodyallen, woodyharrelson, word, work, workaholic, worker, workers, workingclass, world, worlds, worldwari, worldwarii, worldwide, worry, worse, worst, worth, wound, wreak, wrestle, wretch, wright, write, writer, wrong, wwii, wyoming, xenophobia, yacht, yakuza, yard, year, yearn, yearold, years, yellow, yoga, york, yorks, young, youngadult, youngboy, younger, youngest, youth, yuppie, zacefron, zachgalifianakis, zacksnyder, zealand, zebra, zeus, zhangyimou, zhangziyi, zion, zoe, zoesaldana, zombie, zombieapocalypse, zombies, zone, zoo, zooeydeschanel\n"
     ]
    }
   ],
   "source": [
    "# These are all the features used\n",
    "features=[]\n",
    "for i in cv.get_feature_names_out():\n",
    "    features.append(i)\n",
    "\n",
    "print(\"These are all the features used\\n\\n\\n\")\n",
    "print(\", \".join(features))"
   ]
  },
  {
   "cell_type": "code",
   "execution_count": null,
   "id": "LSr-hUdUMZfP",
   "metadata": {
    "id": "LSr-hUdUMZfP"
   },
   "outputs": [],
   "source": []
  },
  {
   "cell_type": "code",
   "execution_count": 81,
   "id": "VJ1yqwjfMZg3",
   "metadata": {
    "id": "VJ1yqwjfMZg3"
   },
   "outputs": [],
   "source": [
    "# Generating similarity scores using cosine_similarity for getting nearest vectors (i.e. recommended movies) \n",
    "# for given input (i.e. movie)"
   ]
  },
  {
   "cell_type": "code",
   "execution_count": 82,
   "id": "A_4JlF3VMZjS",
   "metadata": {
    "id": "A_4JlF3VMZjS"
   },
   "outputs": [],
   "source": [
    "from sklearn.metrics.pairwise import cosine_similarity"
   ]
  },
  {
   "cell_type": "code",
   "execution_count": 83,
   "id": "RGbL9k83MZn2",
   "metadata": {
    "colab": {
     "base_uri": "https://localhost:8080/"
    },
    "executionInfo": {
     "elapsed": 5942,
     "status": "ok",
     "timestamp": 1707833751848,
     "user": {
      "displayName": "Akshay Kumar Kona",
      "userId": "06952112589146711744"
     },
     "user_tz": -330
    },
    "id": "RGbL9k83MZn2",
    "outputId": "3d999f4c-6bfa-4a9e-8f83-cc27c1a9ef8f"
   },
   "outputs": [
    {
     "data": {
      "text/plain": [
       "(4806, 4806)"
      ]
     },
     "execution_count": 83,
     "metadata": {},
     "output_type": "execute_result"
    }
   ],
   "source": [
    "cosine_similarity(all_vectors).shape"
   ]
  },
  {
   "cell_type": "code",
   "execution_count": 84,
   "id": "t4BwH-eSMZqJ",
   "metadata": {
    "id": "t4BwH-eSMZqJ"
   },
   "outputs": [],
   "source": [
    "all_similarities=cosine_similarity(all_vectors)"
   ]
  },
  {
   "cell_type": "code",
   "execution_count": 85,
   "id": "KSKx5T8zMZsY",
   "metadata": {
    "colab": {
     "base_uri": "https://localhost:8080/"
    },
    "executionInfo": {
     "elapsed": 16,
     "status": "ok",
     "timestamp": 1707833756364,
     "user": {
      "displayName": "Akshay Kumar Kona",
      "userId": "06952112589146711744"
     },
     "user_tz": -330
    },
    "id": "KSKx5T8zMZsY",
    "outputId": "05584221-15e9-4bc7-9805-a254c59ea76e"
   },
   "outputs": [
    {
     "data": {
      "text/plain": [
       "array([0.08858079, 1.        , 0.06253054, ..., 0.02514977, 0.        ,\n",
       "       0.        ])"
      ]
     },
     "execution_count": 85,
     "metadata": {},
     "output_type": "execute_result"
    }
   ],
   "source": [
    "all_similarities[1]"
   ]
  },
  {
   "cell_type": "code",
   "execution_count": 86,
   "id": "-s1MyBODMZwu",
   "metadata": {
    "colab": {
     "base_uri": "https://localhost:8080/"
    },
    "executionInfo": {
     "elapsed": 15,
     "status": "ok",
     "timestamp": 1707833756364,
     "user": {
      "displayName": "Akshay Kumar Kona",
      "userId": "06952112589146711744"
     },
     "user_tz": -330
    },
    "id": "-s1MyBODMZwu",
    "outputId": "7c7ac7ee-4c73-48f0-fda6-e29405a2825d"
   },
   "outputs": [
    {
     "data": {
      "text/plain": [
       "[(12, 0.4412487516463849),\n",
       " (199, 0.2988812888320308),\n",
       " (17, 0.27371875400769585),\n",
       " (216, 0.21552636243212991),\n",
       " (2131, 0.20526320231631418)]"
      ]
     },
     "execution_count": 86,
     "metadata": {},
     "output_type": "execute_result"
    }
   ],
   "source": [
    "# RETURNS FIRST FIVE NEAREST VECTORS INDICES WHEN GIVEN A INPUT VECTOR INDEX, hERE, INPUT VECTOR INDEX IS:1\n",
    "sorted(list(enumerate(all_similarities[1])),reverse=True,key=lambda c:c[1])[1:6]"
   ]
  },
  {
   "cell_type": "code",
   "execution_count": 87,
   "id": "Js9xqsXHMZzQ",
   "metadata": {
    "id": "Js9xqsXHMZzQ"
   },
   "outputs": [],
   "source": [
    "def recommend(movie):\n",
    "    movie_index=all_df[all_df['title']==movie].index[0]\n",
    "    distances=all_similarities[movie_index]\n",
    "    movies_list=sorted(list(enumerate(distances)),reverse=True,key=lambda c:c[1])[1:6]\n",
    "    print('\\nRecommended movies based on the input movie you entered:\\n')\n",
    "    for i in movies_list:\n",
    "        print(all_df.iloc[i[0]].title)"
   ]
  },
  {
   "cell_type": "code",
   "execution_count": 88,
   "id": "5Qh6V0cGMZ6I",
   "metadata": {
    "colab": {
     "base_uri": "https://localhost:8080/"
    },
    "executionInfo": {
     "elapsed": 1497,
     "status": "ok",
     "timestamp": 1707834833125,
     "user": {
      "displayName": "Akshay Kumar Kona",
      "userId": "06952112589146711744"
     },
     "user_tz": -330
    },
    "id": "5Qh6V0cGMZ6I",
    "outputId": "4ac41204-b964-406b-ef19-7190f3abc741"
   },
   "outputs": [],
   "source": [
    "all_movies_titles_available=all_df['title'].values\n",
    "# for available_movie in sorted(all_movies_titles_available):\n",
    "    # print(available_movie) # See movies in \"all_movies_list.html\""
   ]
  },
  {
   "cell_type": "code",
   "execution_count": 89,
   "id": "OwsGN83WMZ18",
   "metadata": {
    "colab": {
     "base_uri": "https://localhost:8080/"
    },
    "executionInfo": {
     "elapsed": 24,
     "status": "ok",
     "timestamp": 1707834833125,
     "user": {
      "displayName": "Akshay Kumar Kona",
      "userId": "06952112589146711744"
     },
     "user_tz": -330
    },
    "id": "OwsGN83WMZ18",
    "outputId": "82a7c038-b961-41d3-fae1-06f205933b7d"
   },
   "outputs": [
    {
     "name": "stdin",
     "output_type": "stream",
     "text": [
      "Please enter the movie you like from the above listed movies, so that we can recommend movies that are similar to the given movie:\n",
      " Spider-Man\n"
     ]
    },
    {
     "name": "stdout",
     "output_type": "stream",
     "text": [
      "\n",
      "Recommended movies based on the input movie you entered:\n",
      "\n",
      "Spider-Man 3\n",
      "Spider-Man 2\n",
      "The Amazing Spider-Man\n",
      "Arachnophobia\n",
      "Kick-Ass\n"
     ]
    }
   ],
   "source": [
    "try:\n",
    "    movie_name=input('Please enter the movie you like from the above listed movies, so that we can recommend movies that are similar to the given movie:\\n')\n",
    "    recommend(movie_name)\n",
    "except:\n",
    "    print(f\"\\n{movie_name} movie is not available in this project.\\nPlease provide another movie name for recommendations.\")"
   ]
  },
  {
   "cell_type": "code",
   "execution_count": 90,
   "id": "lEZqDTO8MZ4B",
   "metadata": {
    "colab": {
     "base_uri": "https://localhost:8080/"
    },
    "executionInfo": {
     "elapsed": 3,
     "status": "ok",
     "timestamp": 1707834205522,
     "user": {
      "displayName": "Akshay Kumar Kona",
      "userId": "06952112589146711744"
     },
     "user_tz": -330
    },
    "id": "lEZqDTO8MZ4B",
    "outputId": "f5d8cfe3-1b73-4012-ceca-6f4d94559281"
   },
   "outputs": [
    {
     "data": {
      "text/plain": [
       "4806"
      ]
     },
     "execution_count": 90,
     "metadata": {},
     "output_type": "execute_result"
    }
   ],
   "source": [
    "len(all_movies_titles_available)"
   ]
  },
  {
   "cell_type": "code",
   "execution_count": 91,
   "id": "-wDXTQ6iMZ8t",
   "metadata": {
    "id": "-wDXTQ6iMZ8t"
   },
   "outputs": [],
   "source": [
    "dff=pd.DataFrame(all_movies_titles_available)\n",
    "# dff.to_html('all_movies_list',index=False)"
   ]
  },
  {
   "cell_type": "code",
   "execution_count": null,
   "id": "9rRjYfmfrSsP",
   "metadata": {
    "id": "9rRjYfmfrSsP"
   },
   "outputs": [],
   "source": []
  },
  {
   "cell_type": "code",
   "execution_count": 92,
   "id": "SXHT5LBf8TsE",
   "metadata": {
    "id": "SXHT5LBf8TsE"
   },
   "outputs": [],
   "source": [
    "# import pickle"
   ]
  },
  {
   "cell_type": "code",
   "execution_count": 93,
   "id": "RXXoaffB8kpD",
   "metadata": {
    "id": "RXXoaffB8kpD"
   },
   "outputs": [],
   "source": [
    "# pickle.dump(all_df,open('df.pkl','wb'))"
   ]
  },
  {
   "cell_type": "code",
   "execution_count": null,
   "id": "SewOj3iH9q9q",
   "metadata": {
    "id": "SewOj3iH9q9q"
   },
   "outputs": [],
   "source": []
  }
 ],
 "metadata": {
  "colab": {
   "provenance": []
  },
  "kernelspec": {
   "display_name": "Python 3 (ipykernel)",
   "language": "python",
   "name": "python3"
  },
  "language_info": {
   "codemirror_mode": {
    "name": "ipython",
    "version": 3
   },
   "file_extension": ".py",
   "mimetype": "text/x-python",
   "name": "python",
   "nbconvert_exporter": "python",
   "pygments_lexer": "ipython3",
   "version": "3.12.4"
  }
 },
 "nbformat": 4,
 "nbformat_minor": 5
}
